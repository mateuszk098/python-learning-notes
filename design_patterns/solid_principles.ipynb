{
 "cells": [
  {
   "cell_type": "markdown",
   "metadata": {},
   "source": [
    "### **1. (S) SINGLE RESPONSIBILITY PRINCIPLE**"
   ]
  },
  {
   "cell_type": "markdown",
   "metadata": {},
   "source": [
    "_**Try to make every class responsible for a single part of the functionality provided by the software, and make that responsibility entirely encapsulated by (you can also say hidden within) the class.**_"
   ]
  },
  {
   "cell_type": "markdown",
   "metadata": {},
   "source": [
    "#### **BEFORE**"
   ]
  },
  {
   "cell_type": "code",
   "execution_count": 55,
   "metadata": {},
   "outputs": [],
   "source": [
    "class Employee:\n",
    "    def __init__(self, name: str, salary: float) -> None:\n",
    "        self.name = name\n",
    "        self.salary = salary\n",
    "\n",
    "    # The format of the timesheet report may change over time,\n",
    "    # requiring you to change the code within the class.\n",
    "    def time_sheet_report(self) -> str:\n",
    "        return f\"Timesheet report for {self.name!s}\""
   ]
  },
  {
   "cell_type": "markdown",
   "metadata": {},
   "source": [
    "#### **AFTER**"
   ]
  },
  {
   "cell_type": "code",
   "execution_count": 56,
   "metadata": {},
   "outputs": [],
   "source": [
    "class Employee:\n",
    "    def __init__(self, name: str, salary: float) -> None:\n",
    "        self.name = name\n",
    "        self.salary = salary\n",
    "\n",
    "\n",
    "# Solve the problem by moving the behavior related to printing\n",
    "# timesheet reports into a separate class. This change lets you\n",
    "# move other report-related stuff to the new class.\n",
    "class TimeSheetReport:\n",
    "    @staticmethod\n",
    "    def print(employee: Employee) -> str:\n",
    "        return f\"Timesheet report for {employee.name!s}\""
   ]
  },
  {
   "cell_type": "markdown",
   "metadata": {},
   "source": [
    "### **2. (O) OPEN/CLOSED PRINCIPLE**"
   ]
  },
  {
   "cell_type": "markdown",
   "metadata": {},
   "source": [
    "_**Classes should be open for extension but closed for modification.**_ \n",
    "\n",
    "A class is open if you can extend it, produce a subclass and\n",
    "do whatever you want with it—add new methods or fields,\n",
    "override base behavior, etc. At the same time, the class is closed \n",
    "(you can also say complete) if it’s 100% ready to be used by other \n",
    "classes—its interface is clearly defined and won’t be changed in the future."
   ]
  },
  {
   "cell_type": "markdown",
   "metadata": {},
   "source": [
    "#### **BEFORE**"
   ]
  },
  {
   "cell_type": "code",
   "execution_count": null,
   "metadata": {},
   "outputs": [],
   "source": [
    "from typing import Literal\n",
    "\n",
    "\n",
    "# You have an e-commerce application with an Order class that\n",
    "# calculates shipping costs and all shipping methods are hardcoded\n",
    "# inside the class. If you need to add a new shipping\n",
    "# method, you have to change the code of the Order class and\n",
    "# risk breaking it.\n",
    "class Order:\n",
    "    def __init__(self, total: float, shipping: Literal[\"Air\", \"Ground\"]) -> None:\n",
    "        self.total = total\n",
    "        self.shipping = shipping\n",
    "\n",
    "    def shipping_cost(self) -> float:\n",
    "        if self.shipping == \"Ground\":\n",
    "            return self.total + 5  # $5 is the base cost for ground shipping\n",
    "        if self.shipping == \"Air\":\n",
    "            return self.total + 10  # $10 is the base cost for air shipping\n",
    "        raise ValueError(f\"Invalid shipping option {self.shipping!r}\")"
   ]
  },
  {
   "cell_type": "markdown",
   "metadata": {},
   "source": [
    "#### **AFTER**"
   ]
  },
  {
   "cell_type": "code",
   "execution_count": 58,
   "metadata": {},
   "outputs": [],
   "source": [
    "from __future__ import annotations\n",
    "\n",
    "from typing import Protocol\n",
    "\n",
    "\n",
    "# You can solve the problem by applying the Strategy pattern. Start\n",
    "# by extracting shipping methods into separate classes with a common\n",
    "# interface.\n",
    "class Shipping(Protocol):\n",
    "    def get_cost(self, order: Order) -> float: ...\n",
    "\n",
    "\n",
    "class GroundShipping:\n",
    "    def get_cost(self, order: Order) -> float:\n",
    "        return order.total + 5\n",
    "\n",
    "\n",
    "class AirShipping:\n",
    "    def get_cost(self, order: Order) -> float:\n",
    "        return order.total + 10\n",
    "\n",
    "\n",
    "class Order:\n",
    "    def __init__(self, total: float, shipping: Shipping) -> None:\n",
    "        self.total = total\n",
    "        self.shipping = shipping\n",
    "\n",
    "    def shipping_cost(self) -> float:\n",
    "        return self.shipping.get_cost(self)"
   ]
  },
  {
   "cell_type": "markdown",
   "metadata": {},
   "source": [
    "### **3. (L) LISKOV SUBSTITUTION PRINCIPLE**"
   ]
  },
  {
   "cell_type": "markdown",
   "metadata": {},
   "source": [
    "_**When extending a class, remember that you should be able to pass objects of the subclass in place of objects of the parent class without breaking the client code.**_\n",
    "\n",
    "This means that the subclass should remain compatible with\n",
    "the behavior of the superclass. When overriding a method,\n",
    "extend the base behavior rather than replacing it with something\n",
    "else entirely. The substitution principle is a set of checks that help predict\n",
    "whether a subclass remains compatible with the code that\n",
    "was able to work with objects of the superclass. This concept\n",
    "is critical when developing libraries and frameworks because\n",
    "your classes are going to be used by other people whose code\n",
    "you can’t directly access and change."
   ]
  },
  {
   "cell_type": "markdown",
   "metadata": {},
   "source": [
    "_**- Parameter types in a method of a subclass should match or be more abstract than parameter types in the method of the superclass.**_"
   ]
  },
  {
   "cell_type": "code",
   "execution_count": 70,
   "metadata": {},
   "outputs": [],
   "source": [
    "class Animal: ...\n",
    "\n",
    "\n",
    "class Cat(Animal): ...\n",
    "\n",
    "\n",
    "class Meat:\n",
    "    def feed(self, cat: Cat) -> None: ...\n",
    "\n",
    "\n",
    "class Sausage(Meat):\n",
    "    def feed(self, animal: Animal) -> None: ..."
   ]
  },
  {
   "cell_type": "markdown",
   "metadata": {},
   "source": [
    "_**- The return type in a method of a subclass should match or be a subtype of the return type in the method of the superclass.**_"
   ]
  },
  {
   "cell_type": "code",
   "execution_count": 71,
   "metadata": {},
   "outputs": [],
   "source": [
    "class Cat: ...\n",
    "\n",
    "\n",
    "class BengalCat(Cat): ...\n",
    "\n",
    "\n",
    "class CatShop:\n",
    "    def buy_cat(self) -> Cat: ...\n",
    "\n",
    "\n",
    "class BengalShop(CatShop):\n",
    "    def buy_cat(self) -> BengalCat: ..."
   ]
  },
  {
   "cell_type": "markdown",
   "metadata": {},
   "source": [
    "_**- A method in a subclass shouldn’t throw types of exceptions which the base method isn’t expected to throw.**_\n",
    "\n",
    "In other words,\n",
    "types of exceptions should match or be subtypes of the ones\n",
    "that the base method is already able to throw."
   ]
  },
  {
   "cell_type": "markdown",
   "metadata": {},
   "source": [
    "_**- A subclass shouldn’t strengthen pre-conditions.**_\n",
    "\n",
    "For example,\n",
    "the base method has a parameter with type `int` . If a subclass\n",
    "overrides this method and requires that the value of an\n",
    "argument passed to the method should be positive (by throwing\n",
    "an exception if the value is negative), this strengthens the\n",
    "pre-conditions."
   ]
  },
  {
   "cell_type": "markdown",
   "metadata": {},
   "source": [
    "_**- A subclass shouldn’t weaken post-conditions.**_\n",
    "\n",
    "Say you have a\n",
    "class with a method that works with a database. A method of\n",
    "the class is supposed to always close all opened database connections\n",
    "upon returning a value."
   ]
  },
  {
   "cell_type": "markdown",
   "metadata": {},
   "source": [
    "_**- A subclass shouldn’t change values of private fields of the superclass.**_"
   ]
  },
  {
   "cell_type": "markdown",
   "metadata": {},
   "source": [
    "### **4. (I) INTERFACE SEGREGATION PRINCIPLE**"
   ]
  },
  {
   "cell_type": "markdown",
   "metadata": {},
   "source": [
    "_**- Clients shouldn’t be forced to depend on methods they do not use.**_\n",
    "\n",
    "Try to make your interfaces narrow enough that client classes\n",
    "don’t have to implement behaviors they don’t need. According to the interface segregation principle, you should\n",
    "break down “fat” interfaces into more granular and specific\n",
    "ones. Clients should implement only those methods that they\n",
    "really need."
   ]
  },
  {
   "cell_type": "markdown",
   "metadata": {},
   "source": [
    "#### **BEFORE**"
   ]
  },
  {
   "cell_type": "code",
   "execution_count": 72,
   "metadata": {},
   "outputs": [],
   "source": [
    "from typing import Protocol\n",
    "\n",
    "\n",
    "class CloudProvider(Protocol):\n",
    "    def store_file(self, name: str) -> None: ...\n",
    "    def get_file(self, name: str) -> None: ...\n",
    "    def create_server(self, region: str) -> None: ...\n",
    "    def list_servers(self) -> None: ...\n",
    "\n",
    "\n",
    "class AWSProvider(CloudProvider):\n",
    "    def store_file(self, name: str) -> None:\n",
    "        print(f\"Storing {name!r} in S3\")\n",
    "\n",
    "    def get_file(self, name: str) -> None:\n",
    "        print(f\"Getting {name!r} from S3\")\n",
    "\n",
    "    def create_server(self, region: str) -> None:\n",
    "        print(f\"Creating server in {region!r}\")\n",
    "\n",
    "    def list_servers(self) -> None:\n",
    "        print(\"Listing servers in AWS\")\n",
    "\n",
    "\n",
    "# DropboxProvider doesn't need the create_server and list_servers methods.\n",
    "class DropboxProvider(CloudProvider):\n",
    "    def store_file(self, name: str) -> None:\n",
    "        print(f\"Storing {name!r} in Dropbox\")\n",
    "\n",
    "    def get_file(self, name: str) -> None:\n",
    "        print(f\"Getting {name!r} from Dropbox\")"
   ]
  },
  {
   "cell_type": "markdown",
   "metadata": {},
   "source": [
    "#### **AFTER**"
   ]
  },
  {
   "cell_type": "code",
   "execution_count": 74,
   "metadata": {},
   "outputs": [],
   "source": [
    "from typing import Protocol\n",
    "\n",
    "\n",
    "class CloudHostingProvider(Protocol):\n",
    "    def create_server(self, region: str) -> None: ...\n",
    "    def list_servers(self) -> None: ...\n",
    "\n",
    "\n",
    "class CloudStorageProvider(Protocol):\n",
    "    def store_file(self, name: str) -> None: ...\n",
    "    def get_file(self, name: str) -> None: ...\n",
    "\n",
    "\n",
    "class AWSProvider(CloudHostingProvider, CloudStorageProvider):\n",
    "    def store_file(self, name: str) -> None:\n",
    "        print(f\"Storing {name!r} in S3\")\n",
    "\n",
    "    def get_file(self, name: str) -> None:\n",
    "        print(f\"Getting {name!r} from S3\")\n",
    "\n",
    "    def create_server(self, region: str) -> None:\n",
    "        print(f\"Creating server in {region!r}\")\n",
    "\n",
    "    def list_servers(self) -> None:\n",
    "        print(\"Listing servers in AWS\")\n",
    "\n",
    "\n",
    "# DropboxProvider implements only the CloudStorageProvider interface.\n",
    "class DropboxProvider(CloudStorageProvider):\n",
    "    def store_file(self, name: str) -> None:\n",
    "        print(f\"Storing {name!r} in Dropbox\")\n",
    "\n",
    "    def get_file(self, name: str) -> None:\n",
    "        print(f\"Getting {name!r} from Dropbox\")"
   ]
  },
  {
   "cell_type": "markdown",
   "metadata": {},
   "source": [
    "### **5. (D) DEPENDENCY INVERSION PRINCIPLE**"
   ]
  },
  {
   "cell_type": "markdown",
   "metadata": {},
   "source": [
    "_**High-level classes shouldn’t depend on low-level classes. Both should depend on abstractions. Abstractions shouldn’t depend on details. Details should depend on abstractions.**_\n",
    "\n",
    "Usually when designing software, you can make a distinction between two levels of classes:\n",
    "\n",
    "- Low-level classes implement basic operations such as working with a disk, transferring data over a network, connecting to a database, etc.\n",
    "- High-level classes contain complex business logic that directs low-level classes to do something.\n",
    "\n",
    "Sometimes people design low-level classes first and only then\n",
    "start working on high-level ones. This is very common when\n",
    "you start developing a prototype on a new system, and you’re\n",
    "not even sure what’s possible at the higher level because\n",
    "low-level stuff isn’t yet implemented or clear. With such an\n",
    "approach business logic classes tend to become dependent on\n",
    "primitive low-level classes.\n",
    "\n",
    "**The dependency inversion principle suggests changing the direction of this dependency.**"
   ]
  }
 ],
 "metadata": {
  "kernelspec": {
   "display_name": "Python 3",
   "language": "python",
   "name": "python3"
  },
  "language_info": {
   "codemirror_mode": {
    "name": "ipython",
    "version": 3
   },
   "file_extension": ".py",
   "mimetype": "text/x-python",
   "name": "python",
   "nbconvert_exporter": "python",
   "pygments_lexer": "ipython3",
   "version": "3.12.1"
  }
 },
 "nbformat": 4,
 "nbformat_minor": 2
}
