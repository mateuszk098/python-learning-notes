{
 "cells": [
  {
   "cell_type": "markdown",
   "metadata": {},
   "source": [
    "# **SINGLETON**"
   ]
  },
  {
   "cell_type": "markdown",
   "metadata": {},
   "source": [
    "_Singleton is a creational design pattern that lets you ensure that a class has only one instance, while providing a global access point to this instance._"
   ]
  },
  {
   "cell_type": "code",
   "execution_count": null,
   "metadata": {},
   "outputs": [],
   "source": [
    "from threading import Lock\n",
    "\n",
    "\n",
    "class Singleton(type):\n",
    "    _instances = {}\n",
    "    _lock = Lock()\n",
    "\n",
    "    def __call__(cls, *args, **kwargs):\n",
    "        with cls._lock:\n",
    "            if cls not in cls._instances:\n",
    "                # This is equivalent to `type.__call__(cls, *args, **kwargs)`\n",
    "                # which is equivalent to initializing the class.\n",
    "                cls._instances[cls] = super(Singleton, cls).__call__(*args, **kwargs)\n",
    "            return cls._instances[cls]"
   ]
  },
  {
   "cell_type": "code",
   "execution_count": 2,
   "metadata": {},
   "outputs": [],
   "source": [
    "class MyClass(metaclass=Singleton):\n",
    "    def __init__(self) -> None:\n",
    "        print(\"Initializing MyClass\")"
   ]
  },
  {
   "cell_type": "code",
   "execution_count": 3,
   "metadata": {},
   "outputs": [
    {
     "name": "stdout",
     "output_type": "stream",
     "text": [
      "Initializing MyClass\n"
     ]
    }
   ],
   "source": [
    "c1 = MyClass()\n",
    "c2 = MyClass()\n",
    "\n",
    "assert c1 is c2"
   ]
  },
  {
   "cell_type": "markdown",
   "metadata": {},
   "source": [
    "Here, `Singleton` is a subclass of `type`. Fair enough. But as the `__call__` method of `Singleton` has been overriden, it will have to call the same method in its parent class to actually build an object. That is the purpose of `super(Singleton, cls).__call__(*args, **kwargs)`: it will forward the call to the parent of `Singleton`. So it is the same as: `type.__call__(cls, *args, **kwargs)`\n",
    "\n",
    "Beware: `type(cls.__name__, (), {})` builds a class while `type.__call__(cls)` builds an instance of `cls`"
   ]
  },
  {
   "cell_type": "code",
   "execution_count": null,
   "metadata": {},
   "outputs": [],
   "source": [
    "class C:\n",
    "    def __init__(self) -> None:\n",
    "        print(\"Initializing C\")"
   ]
  },
  {
   "cell_type": "code",
   "execution_count": 7,
   "metadata": {},
   "outputs": [
    {
     "data": {
      "text/plain": [
       "__main__.C"
      ]
     },
     "execution_count": 7,
     "metadata": {},
     "output_type": "execute_result"
    }
   ],
   "source": [
    "type(C.__name__, (), {\"__init__\": C.__init__})"
   ]
  },
  {
   "cell_type": "code",
   "execution_count": 8,
   "metadata": {},
   "outputs": [
    {
     "name": "stdout",
     "output_type": "stream",
     "text": [
      "Initializing C\n"
     ]
    },
    {
     "data": {
      "text/plain": [
       "<__main__.C at 0x2349538faa0>"
      ]
     },
     "execution_count": 8,
     "metadata": {},
     "output_type": "execute_result"
    }
   ],
   "source": [
    "type.__call__(C)"
   ]
  }
 ],
 "metadata": {
  "kernelspec": {
   "display_name": ".venv",
   "language": "python",
   "name": "python3"
  },
  "language_info": {
   "codemirror_mode": {
    "name": "ipython",
    "version": 3
   },
   "file_extension": ".py",
   "mimetype": "text/x-python",
   "name": "python",
   "nbconvert_exporter": "python",
   "pygments_lexer": "ipython3",
   "version": "3.12.1"
  }
 },
 "nbformat": 4,
 "nbformat_minor": 2
}
