{
 "cells": [
  {
   "cell_type": "code",
   "execution_count": 209,
   "metadata": {},
   "outputs": [],
   "source": [
    "import pandas as pd\n",
    "df = pd.read_csv('survey_results_public.csv')\n",
    "schema_df = pd.read_csv('survey_results_schema.csv')\n",
    "pd.set_option('display.max_columns', 50)\n",
    "pd.set_option('display.max_rows', 50)"
   ]
  },
  {
   "cell_type": "code",
   "execution_count": 210,
   "metadata": {},
   "outputs": [
    {
     "data": {
      "text/plain": [
       "MainBranch\n",
       "I am a developer by profession                                                   0.710249\n",
       "I am a student who is learning to code                                           0.142382\n",
       "I am not primarily a developer, but I write code sometimes as part of my work    0.069806\n",
       "I code primarily as a hobby                                                      0.063158\n",
       "I used to be a developer by profession, but no longer am                         0.007202\n",
       "None of these                                                                    0.007202\n",
       "Name: MainBranch, dtype: float64"
      ]
     },
     "execution_count": 210,
     "metadata": {},
     "output_type": "execute_result"
    }
   ],
   "source": [
    "# Grouping by country\n",
    "country_group = df.groupby(['Country'])\n",
    "# Check percent of main branch in Poland\n",
    "country_group['MainBranch'].value_counts(normalize=True).loc['Poland']"
   ]
  },
  {
   "cell_type": "code",
   "execution_count": 211,
   "metadata": {},
   "outputs": [
    {
     "data": {
      "text/plain": [
       "MainBranch\n",
       "I am a developer by profession                                                   11053\n",
       "I am not primarily a developer, but I write code sometimes as part of my work     1449\n",
       "I am a student who is learning to code                                            1264\n",
       "I code primarily as a hobby                                                       1123\n",
       "I used to be a developer by profession, but no longer am                           280\n",
       "None of these                                                                      119\n",
       "Name: MainBranch, dtype: int64"
      ]
     },
     "execution_count": 211,
     "metadata": {},
     "output_type": "execute_result"
    }
   ],
   "source": [
    "country_group['MainBranch'].value_counts(normalize=False).loc['United States of America']"
   ]
  },
  {
   "cell_type": "code",
   "execution_count": 212,
   "metadata": {},
   "outputs": [
    {
     "data": {
      "text/plain": [
       "Country      MainBranch                                                                   \n",
       "Afghanistan  I am a developer by profession                                                   27\n",
       "             I am a student who is learning to code                                           15\n",
       "             None of these                                                                    11\n",
       "             I code primarily as a hobby                                                       9\n",
       "             I am not primarily a developer, but I write code sometimes as part of my work     3\n",
       "                                                                                              ..\n",
       "Zimbabwe     I am a developer by profession                                                   22\n",
       "             I am a student who is learning to code                                            9\n",
       "             I am not primarily a developer, but I write code sometimes as part of my work     2\n",
       "             I code primarily as a hobby                                                       2\n",
       "             None of these                                                                     1\n",
       "Name: MainBranch, Length: 801, dtype: int64"
      ]
     },
     "execution_count": 212,
     "metadata": {},
     "output_type": "execute_result"
    }
   ],
   "source": [
    "country_group['MainBranch'].value_counts(normalize=False)"
   ]
  },
  {
   "cell_type": "code",
   "execution_count": 37,
   "metadata": {},
   "outputs": [
    {
     "data": {
      "text/plain": [
       "median    12500.000000\n",
       "mean      33579.655971\n",
       "Name: Poland, dtype: float64"
      ]
     },
     "execution_count": 37,
     "metadata": {},
     "output_type": "execute_result"
    }
   ],
   "source": [
    "# It has not sense because currency might be monthly or yearly\n",
    "country_group['CompTotal'].agg(['median', 'mean']).loc['Poland']"
   ]
  },
  {
   "cell_type": "code",
   "execution_count": 213,
   "metadata": {},
   "outputs": [
    {
     "data": {
      "text/plain": [
       "median    12000.000000\n",
       "mean      13611.851434\n",
       "Name: Poland, dtype: float64"
      ]
     },
     "execution_count": 213,
     "metadata": {},
     "output_type": "execute_result"
    }
   ],
   "source": [
    "# Create a mask with monthly currency\n",
    "mask = (df['CompFreq'] == 'Monthly')\n",
    "country_group = df[mask].groupby(['Country'])\n",
    "country_group['CompTotal'].agg(['median', 'mean']).loc['Poland']"
   ]
  },
  {
   "cell_type": "code",
   "execution_count": 214,
   "metadata": {},
   "outputs": [
    {
     "data": {
      "text/plain": [
       "median     4000.000000\n",
       "mean      10945.212352\n",
       "Name: Germany, dtype: float64"
      ]
     },
     "execution_count": 214,
     "metadata": {},
     "output_type": "execute_result"
    }
   ],
   "source": [
    "# Create a mask with monthly and euro currency\n",
    "mask = (df['Currency'] == 'EUR European Euro') & (df['CompFreq'] == 'Monthly')\n",
    "country_group = df[mask].groupby(['Country'])\n",
    "country_group['CompTotal'].agg(['median', 'mean']).loc['Germany']"
   ]
  },
  {
   "cell_type": "code",
   "execution_count": 215,
   "metadata": {},
   "outputs": [
    {
     "data": {
      "text/plain": [
       "median     3000.000000\n",
       "mean      10166.643636\n",
       "Name: France, dtype: float64"
      ]
     },
     "execution_count": 215,
     "metadata": {},
     "output_type": "execute_result"
    }
   ],
   "source": [
    "country_group['CompTotal'].agg(['median', 'mean']).loc['France']"
   ]
  },
  {
   "cell_type": "code",
   "execution_count": 216,
   "metadata": {},
   "outputs": [
    {
     "data": {
      "text/plain": [
       "median    3600.0\n",
       "mean      3600.0\n",
       "Name: Switzerland, dtype: float64"
      ]
     },
     "execution_count": 216,
     "metadata": {},
     "output_type": "execute_result"
    }
   ],
   "source": [
    "country_group['CompTotal'].agg(['median', 'mean']).loc['Switzerland']"
   ]
  },
  {
   "cell_type": "code",
   "execution_count": 217,
   "metadata": {},
   "outputs": [
    {
     "data": {
      "text/plain": [
       "dict_keys(['BSD', 'Linux-based', 'MacOS', 'Other (please specify):', 'Windows', 'Windows Subsystem for Linux (WSL)'])"
      ]
     },
     "execution_count": 217,
     "metadata": {},
     "output_type": "execute_result"
    }
   ],
   "source": [
    "# Grouping by operating system with same mask\n",
    "devtype_group = df[mask].groupby(['OpSys'])\n",
    "devtype_group.groups.keys()"
   ]
  },
  {
   "cell_type": "code",
   "execution_count": 218,
   "metadata": {},
   "outputs": [
    {
     "data": {
      "text/plain": [
       "median    3200.000000\n",
       "mean      7991.000703\n",
       "Name: Linux-based, dtype: float64"
      ]
     },
     "execution_count": 218,
     "metadata": {},
     "output_type": "execute_result"
    }
   ],
   "source": [
    "devtype_group['CompTotal'].agg(['median', 'mean']).loc['Linux-based']"
   ]
  },
  {
   "cell_type": "code",
   "execution_count": 219,
   "metadata": {},
   "outputs": [
    {
     "data": {
      "text/plain": [
       "max    450000.0\n",
       "min         0.0\n",
       "Name: MacOS, dtype: float64"
      ]
     },
     "execution_count": 219,
     "metadata": {},
     "output_type": "execute_result"
    }
   ],
   "source": [
    "devtype_group['CompTotal'].agg(['max', 'min']).loc['MacOS']"
   ]
  },
  {
   "cell_type": "code",
   "execution_count": 220,
   "metadata": {},
   "outputs": [
    {
     "data": {
      "text/html": [
       "<div>\n",
       "<style scoped>\n",
       "    .dataframe tbody tr th:only-of-type {\n",
       "        vertical-align: middle;\n",
       "    }\n",
       "\n",
       "    .dataframe tbody tr th {\n",
       "        vertical-align: top;\n",
       "    }\n",
       "\n",
       "    .dataframe thead th {\n",
       "        text-align: right;\n",
       "    }\n",
       "</style>\n",
       "<table border=\"1\" class=\"dataframe\">\n",
       "  <thead>\n",
       "    <tr style=\"text-align: right;\">\n",
       "      <th></th>\n",
       "      <th>Respondents</th>\n",
       "      <th>UsingPython</th>\n",
       "      <th>Percent</th>\n",
       "    </tr>\n",
       "  </thead>\n",
       "  <tbody>\n",
       "    <tr>\n",
       "      <th>Canada</th>\n",
       "      <td>3012</td>\n",
       "      <td>1593</td>\n",
       "      <td>52.888446</td>\n",
       "    </tr>\n",
       "    <tr>\n",
       "      <th>France</th>\n",
       "      <td>2708</td>\n",
       "      <td>1423</td>\n",
       "      <td>52.548006</td>\n",
       "    </tr>\n",
       "    <tr>\n",
       "      <th>United States of America</th>\n",
       "      <td>15288</td>\n",
       "      <td>7975</td>\n",
       "      <td>52.165097</td>\n",
       "    </tr>\n",
       "    <tr>\n",
       "      <th>India</th>\n",
       "      <td>10511</td>\n",
       "      <td>5233</td>\n",
       "      <td>49.785939</td>\n",
       "    </tr>\n",
       "    <tr>\n",
       "      <th>Germany</th>\n",
       "      <td>5625</td>\n",
       "      <td>2713</td>\n",
       "      <td>48.231111</td>\n",
       "    </tr>\n",
       "    <tr>\n",
       "      <th>United Kingdom of Great Britain and Northern Ireland</th>\n",
       "      <td>4475</td>\n",
       "      <td>2149</td>\n",
       "      <td>48.022346</td>\n",
       "    </tr>\n",
       "    <tr>\n",
       "      <th>Netherlands</th>\n",
       "      <td>1772</td>\n",
       "      <td>831</td>\n",
       "      <td>46.896163</td>\n",
       "    </tr>\n",
       "    <tr>\n",
       "      <th>Poland</th>\n",
       "      <td>1805</td>\n",
       "      <td>812</td>\n",
       "      <td>44.986150</td>\n",
       "    </tr>\n",
       "    <tr>\n",
       "      <th>Italy</th>\n",
       "      <td>1666</td>\n",
       "      <td>735</td>\n",
       "      <td>44.117647</td>\n",
       "    </tr>\n",
       "    <tr>\n",
       "      <th>Brazil</th>\n",
       "      <td>2254</td>\n",
       "      <td>951</td>\n",
       "      <td>42.191659</td>\n",
       "    </tr>\n",
       "  </tbody>\n",
       "</table>\n",
       "</div>"
      ],
      "text/plain": [
       "                                                    Respondents  UsingPython  \\\n",
       "Canada                                                     3012         1593   \n",
       "France                                                     2708         1423   \n",
       "United States of America                                  15288         7975   \n",
       "India                                                     10511         5233   \n",
       "Germany                                                    5625         2713   \n",
       "United Kingdom of Great Britain and Northern Ir...         4475         2149   \n",
       "Netherlands                                                1772          831   \n",
       "Poland                                                     1805          812   \n",
       "Italy                                                      1666          735   \n",
       "Brazil                                                     2254          951   \n",
       "\n",
       "                                                      Percent  \n",
       "Canada                                              52.888446  \n",
       "France                                              52.548006  \n",
       "United States of America                            52.165097  \n",
       "India                                               49.785939  \n",
       "Germany                                             48.231111  \n",
       "United Kingdom of Great Britain and Northern Ir...  48.022346  \n",
       "Netherlands                                         46.896163  \n",
       "Poland                                              44.986150  \n",
       "Italy                                               44.117647  \n",
       "Brazil                                              42.191659  "
      ]
     },
     "execution_count": 220,
     "metadata": {},
     "output_type": "execute_result"
    }
   ],
   "source": [
    "# Grouping by country\n",
    "country_group = df.groupby(['Country'])\n",
    "# How many people\n",
    "respondents = df['Country'].value_counts()\n",
    "# How many people working with Python\n",
    "work_with_python = country_group['LanguageHaveWorkedWith'].apply(lambda x: x.str.contains('Python').sum())\n",
    "# Create new data frame with number of respondents and respondents whose using python\n",
    "python_df = pd.concat([respondents, work_with_python], axis='columns', sort=False)\n",
    "# Rename appropriate columns\n",
    "python_df.rename(columns={'Country': 'Respondents', 'LanguageHaveWorkedWith': 'UsingPython'}, inplace=True)\n",
    "# Evaluate percent of respondents whose knows python\n",
    "python_df['Percent'] = (python_df['UsingPython']/python_df['Respondents']) * 100\n",
    "# Cut off to top 10 countries by respondents\n",
    "python_df_top10 = python_df.nlargest(n=10, columns=['Respondents'])\n",
    "python_df_top10.sort_values(by='Percent', ascending=False, inplace=True)\n",
    "python_df_top10"
   ]
  },
  {
   "cell_type": "code",
   "execution_count": 221,
   "metadata": {},
   "outputs": [],
   "source": [
    "# Extract countries and convert to list\n",
    "country = python_df_top10['Percent'].keys().tolist()\n",
    "country[5] = 'Great Britain'\n",
    "country[2] = 'U.S.'\n",
    "# Extract percent and convert to list\n",
    "percent_know_python = python_df_top10['Percent'].values.tolist()\n",
    "# We want highest values on the top \n",
    "country.reverse()\n",
    "percent_know_python.reverse()"
   ]
  },
  {
   "cell_type": "code",
   "execution_count": 222,
   "metadata": {},
   "outputs": [
    {
     "data": {
      "image/png": "[encoded data removed]",
      "text/plain": [
       "<Figure size 800x550 with 1 Axes>"
      ]
     },
     "metadata": {},
     "output_type": "display_data"
    }
   ],
   "source": [
    "import matplotlib.pyplot as plt\n",
    "\n",
    "fig, ax = plt.subplots(figsize=(8, 5.5), dpi=100)\n",
    "plt.barh(country, percent_know_python, height=0.6, alpha=0.75)\n",
    "plt.title(\"How many developers know Python\", fontname=\"Times New Roman\", fontsize=16)\n",
    "plt.xlabel(\"Percent of respondents\", fontname=\"Times New Roman\", fontsize=16)\n",
    "plt.grid(color='gray', linestyle='-.', linewidth=0.5)\n",
    "plt.tick_params(axis='both', which='major', labelsize=14)\n",
    "plt.show()\n"
   ]
  },
  {
   "cell_type": "code",
   "execution_count": null,
   "metadata": {},
   "outputs": [],
   "source": []
  }
 ],
 "metadata": {
  "interpreter": {
   "hash": "ee133e67ea165b3ef7940eb0ea6fc3d88735be94e2008560f4fa67e693b4ded3"
  },
  "kernelspec": {
   "display_name": "Python 3.8.1 64-bit",
   "language": "python",
   "name": "python3"
  },
  "language_info": {
   "codemirror_mode": {
    "name": "ipython",
    "version": 3
   },
   "file_extension": ".py",
   "mimetype": "text/x-python",
   "name": "python",
   "nbconvert_exporter": "python",
   "pygments_lexer": "ipython3",
   "version": "3.8.1"
  },
  "orig_nbformat": 4
 },
 "nbformat": 4,
 "nbformat_minor": 2
}
