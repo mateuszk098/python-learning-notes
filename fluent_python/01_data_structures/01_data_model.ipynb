{
 "cells": [
  {
   "cell_type": "markdown",
   "metadata": {},
   "source": [
    "### **Model Danych Pythona**"
   ]
  },
  {
   "cell_type": "markdown",
   "metadata": {},
   "source": [
    "Model danych Pythona opisuje interfejs API, którego możemy używać do tworzenia własnych obiektów działających dobrze z najbardziej idiomatycznymi funkcjonalnościami tego języka. Model danych możemy uważać za opis Pythona jako platformy a jego zadaniem jest formalizacja interfejsu bloków konstrukcyjnych samego języka, takich jak sekwencje, iteratory, klasy, menedżery kontekstu itp."
   ]
  },
  {
   "cell_type": "markdown",
   "metadata": {},
   "source": [
    "### **Pythoniczna Talia Kart**"
   ]
  },
  {
   "cell_type": "code",
   "execution_count": 66,
   "metadata": {},
   "outputs": [],
   "source": [
    "import collections\n",
    "\n",
    "Card = collections.namedtuple(\"Card\", [\"rank\", \"suit\"])\n",
    "\n",
    "\n",
    "class FrenchDeck:\n",
    "    ranks = list(str(s) for s in range(2, 11)) + list(\"JQKA\")\n",
    "    suits = \"spades diamonds clubs hearts\".split()\n",
    "\n",
    "    def __init__(self):\n",
    "        self._cards = list(Card(rank, suit) for rank in self.ranks for suit in self.suits)\n",
    "\n",
    "    def __len__(self):\n",
    "        return len(self._cards)\n",
    "\n",
    "    def __getitem__(self, position):\n",
    "        return self._cards[position]"
   ]
  },
  {
   "cell_type": "code",
   "execution_count": 67,
   "metadata": {},
   "outputs": [],
   "source": [
    "deck = FrenchDeck()"
   ]
  },
  {
   "cell_type": "code",
   "execution_count": 68,
   "metadata": {},
   "outputs": [
    {
     "data": {
      "text/plain": [
       "52"
      ]
     },
     "execution_count": 68,
     "metadata": {},
     "output_type": "execute_result"
    }
   ],
   "source": [
    "# Tak jak wszystkie kolekcje Pythona, FrenchDeck odpowiada na funkcję len()\n",
    "len(deck)"
   ]
  },
  {
   "cell_type": "code",
   "execution_count": 69,
   "metadata": {},
   "outputs": [
    {
     "data": {
      "text/plain": [
       "Card(rank='2', suit='spades')"
      ]
     },
     "execution_count": 69,
     "metadata": {},
     "output_type": "execute_result"
    }
   ],
   "source": [
    "# Odczytywanie kart zapewnia metoda __getitem__\n",
    "deck[0]"
   ]
  },
  {
   "cell_type": "code",
   "execution_count": 70,
   "metadata": {},
   "outputs": [
    {
     "data": {
      "text/plain": [
       "Card(rank='9', suit='spades')"
      ]
     },
     "execution_count": 70,
     "metadata": {},
     "output_type": "execute_result"
    }
   ],
   "source": [
    "# Do wyboru losowej karty możemy użyć modułu random\n",
    "from random import choice\n",
    "\n",
    "choice(deck)"
   ]
  },
  {
   "cell_type": "code",
   "execution_count": 71,
   "metadata": {},
   "outputs": [
    {
     "data": {
      "text/plain": [
       "[Card(rank='2', suit='hearts'),\n",
       " Card(rank='3', suit='diamonds'),\n",
       " Card(rank='3', suit='hearts'),\n",
       " Card(rank='4', suit='diamonds'),\n",
       " Card(rank='4', suit='hearts')]"
      ]
     },
     "execution_count": 71,
     "metadata": {},
     "output_type": "execute_result"
    }
   ],
   "source": [
    "# Metoda __getitem__ odwołuje się do operatora [] i obsługuje wycinanie\n",
    "deck[3:13:2]"
   ]
  },
  {
   "cell_type": "code",
   "execution_count": 72,
   "metadata": {},
   "outputs": [
    {
     "name": "stdout",
     "output_type": "stream",
     "text": [
      "Card(rank='2', suit='spades')\n",
      "Card(rank='2', suit='diamonds')\n",
      "Card(rank='2', suit='clubs')\n"
     ]
    }
   ],
   "source": [
    "# Iterowanie również jest możliwe, dzięki __getitem__\n",
    "for card in deck[:3]:\n",
    "    print(card)"
   ]
  },
  {
   "cell_type": "code",
   "execution_count": 73,
   "metadata": {},
   "outputs": [
    {
     "data": {
      "text/plain": [
       "True"
      ]
     },
     "execution_count": 73,
     "metadata": {},
     "output_type": "execute_result"
    }
   ],
   "source": [
    "# Iteracja jest często niejawna. Jeśli kolekcja nie ma metody __contains__,\n",
    "# Python przeszuka kolekcję od początku do końca\n",
    "Card(\"Q\", \"hearts\") in deck"
   ]
  },
  {
   "cell_type": "code",
   "execution_count": 74,
   "metadata": {},
   "outputs": [
    {
     "name": "stdout",
     "output_type": "stream",
     "text": [
      "Card(rank='2', suit='clubs')\n",
      "Card(rank='2', suit='diamonds')\n",
      "Card(rank='2', suit='hearts')\n",
      "Card(rank='2', suit='spades')\n",
      "Card(rank='3', suit='spades')\n"
     ]
    }
   ],
   "source": [
    "# Sortowanie kart jest bardziej skomplikowane, ponieważ powinniśmy zdefiniować\n",
    "# porządek kart. Najcenniejsze są asy, a następnie kolor.\n",
    "suit_values = dict(spades=3, hearts=2, diamonds=1, clubs=0)\n",
    "\n",
    "\n",
    "def spades_high(card):\n",
    "    rank_value = FrenchDeck.ranks.index(card.rank)\n",
    "    return rank_value * len(suit_values) + suit_values[card.suit]\n",
    "\n",
    "\n",
    "for card in sorted(deck[:5], key=spades_high):\n",
    "    print(card)"
   ]
  },
  {
   "cell_type": "markdown",
   "metadata": {},
   "source": [
    "Dzięki implementacji metod specjalnych `__len__` oraz `__getitem__`, klasa `FrenchDeck` zachowuje się jak standardowa sekwencja Pythona, pozwalająca na korzystanie z podstawowych funkcjonalności języka oraz z biblioteki standardowej. "
   ]
  },
  {
   "cell_type": "markdown",
   "metadata": {},
   "source": [
    "### **Sposoby Używania Metod Specjalnych**"
   ]
  },
  {
   "cell_type": "markdown",
   "metadata": {},
   "source": [
    "Najważniejszą cechą metod specjalnych jest to, że mają być wywoływane przez interpreter a nie przez programistów. Jeżeli `my_object` jest wystąpieniem klasy zdefiniowanej przez użytkownika wtedy w przypadku wywołania `len(my_object)`, Python wywoła zaimplementową metodę `__len__`. Jednakże interpreter używa skrótu w przypadku typów wbudowanych, takich jak `list`, `str` lub rozszerzeń, takich jak tablice NumPy. Kolekcje Pythona o zmiennym rozmiarze napisane w C zawierają strukturę o nazwie `PyVarObject`, która zawiera pole `ob_size` przechowujące liczbę elementów kolekcji. Tak więc, jeśli instancja jest wystąpieniem jednego z typów wbudowanych to wywołanie `len(my_object)` odczytuje pole ze struktury co jest znacznie szybsze niż wywołanie metody.\n",
    "\n",
    "Najczęściej wywoływanie metod specjalnych odbywa się niejawnie. Na przykład instrukcja `for i in x:` w rzeczywistości powoduje wywołanie funkcji `iter(x)`, która z kolei może wywołać metodę `x.__iter__()` jeśli jest ona dostępna, lub użyć `x.__getitem__()` i iterować po obiekcie zaczynając od zera. "
   ]
  },
  {
   "cell_type": "markdown",
   "metadata": {},
   "source": [
    "### **Reprezentacja Tekstowa**"
   ]
  },
  {
   "cell_type": "markdown",
   "metadata": {},
   "source": [
    "Metoda specjalna `__repr__` jest wywoływana przez wbudowaną funkcję `repr()` aby otrzymać reprezentację tekstową obiektu do inspekcji. Łańcuch znaków zwracany przez `__repr__` powinien być jednoznaczny i o ile to możliwe odpowiadać kodowi źródłowemu koniecznemu do ponownego utworzenia reprezentowanego obiektu.\n",
    "\n",
    "Dla kontrastu metoda `__str__` jest wywoływana przez wbudowaną funkcję `str()` i niejawnie używana w funkcji `print()`. Metoda ta powinna zwracać łańcuch znaków odpowiedni dla użytkowników końcowych. \n",
    "\n",
    "W przypadku implementacji tylko jednej z tych metod specjalnych, lepiej wybrać `__repr__`, ponieważ gdy nie ma dostępnej niestandardowej metody `__str__`, Python wywoła `__repr__` jako metodę rezerwową."
   ]
  },
  {
   "cell_type": "markdown",
   "metadata": {},
   "source": [
    "### **Wartość Logiczna Typu Niestandardowego**"
   ]
  },
  {
   "cell_type": "code",
   "execution_count": 81,
   "metadata": {},
   "outputs": [],
   "source": [
    "import math\n",
    "\n",
    "\n",
    "class Vector:\n",
    "    def __init__(self, x=0, y=0):\n",
    "        self.x = x\n",
    "        self.y = y\n",
    "\n",
    "    def __abs__(self):\n",
    "        return math.hypot(self.x, self.y)\n",
    "\n",
    "    def __bool__(self):\n",
    "        return bool(self.x or self.y)\n",
    "\n",
    "    def __repr__(self):\n",
    "        return f\"{type(self).__name__}({self.x!r}, {self.y!r})\""
   ]
  },
  {
   "cell_type": "code",
   "execution_count": 82,
   "metadata": {},
   "outputs": [
    {
     "data": {
      "text/plain": [
       "(5.0, True, 'Vector(3, 4)')"
      ]
     },
     "execution_count": 82,
     "metadata": {},
     "output_type": "execute_result"
    }
   ],
   "source": [
    "v = Vector(3, 4)\n",
    "abs(v), bool(v), repr(v)"
   ]
  },
  {
   "cell_type": "markdown",
   "metadata": {},
   "source": [
    "Chociaż Python ma typ `bool`, akceptuje dowolny obiekt w kontekstach logicznych, takich jak wyrażenia kontrolujące instrukcje `if` lub `while` albo jako operandy operatorów `and`, `or` i `not`. Aby wyznaczyć czy wartość jest truthy (prawdziwa) lub falsy (fałszywa), Python stosuje `bool(x)`, co zawsze zwraca `True` lub `False`.\n",
    "\n",
    "Domyślnie wystąpienia klas definiowanych przez użytkownika są uważane za truthy pod warunkiem, że nie implementują metod `__bool__` ani `__len__`. Jeśli metoda `__bool__` nie jest zaimplementowana, Python spróbuje wywołać metodę `__len__` i wynikiem `bool(x)` jest wynik tejże metody."
   ]
  },
  {
   "cell_type": "markdown",
   "metadata": {},
   "source": [
    "### **API Kolekcji**"
   ]
  },
  {
   "cell_type": "markdown",
   "metadata": {},
   "source": [
    "<p align=\"center\">\n",
    "  <img src=\"ABC.png\"/>\n",
    "</p>"
   ]
  },
  {
   "cell_type": "markdown",
   "metadata": {},
   "source": [
    "Każda z najwyższych klas ABC zawiera pojedynczą metodę specjalną. Klasa ABC `Collection` unifikuje trzy kluczowe interfejsy, które powinna implementować każda kolekcja:\n",
    "- `Iterable` - w celu obsługi pętli `for`, rozpakowywania i innych form iteracji.\n",
    "- `Sized` - w celu wsparcia wbudowanej funkcji `len()`.\n",
    "- `Container` - dla obsługi operatora `in`.\n",
    "\n",
    "Python nie wymaga od konkretnych klas aby wywodziły się z którejkolwiek z tych klas ABC. Przykładowo dowolna klasa implementująca `__len__` spełnia wymagania interfejsu `Sized`.\n",
    "\n",
    "Trzy bardzo ważne specjalizacje `Collection` to:\n",
    "- `Sequence` - formalizuje interfejs wbudowanych funkcji, takich jak `list` i `str`.\n",
    "- `Mapping` - implementowane przez `dict`, `defaultdict` itp.\n",
    "- `Set` - interfejs typów wbudowanych `set` i `frozenset`. \n",
    "\n",
    "Tylko `Sequence` jest `Reversible`, gdyż sekwencje wspierają dowolne porządkowanie swojej zawartości, czego nie robią słowniki i zbiory."
   ]
  }
 ],
 "metadata": {
  "kernelspec": {
   "display_name": "Python 3",
   "language": "python",
   "name": "python3"
  },
  "language_info": {
   "codemirror_mode": {
    "name": "ipython",
    "version": 3
   },
   "file_extension": ".py",
   "mimetype": "text/x-python",
   "name": "python",
   "nbconvert_exporter": "python",
   "pygments_lexer": "ipython3",
   "version": "3.12.1"
  }
 },
 "nbformat": 4,
 "nbformat_minor": 2
}
