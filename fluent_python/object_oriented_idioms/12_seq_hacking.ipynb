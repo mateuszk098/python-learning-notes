{
 "cells": [
  {
   "cell_type": "code",
   "execution_count": 1,
   "metadata": {},
   "outputs": [],
   "source": [
    "from array import array\n",
    "import reprlib\n",
    "import math\n"
   ]
  },
  {
   "cell_type": "markdown",
   "metadata": {},
   "source": [
    "### N-wymiarowy Vector"
   ]
  },
  {
   "cell_type": "code",
   "execution_count": 2,
   "metadata": {},
   "outputs": [],
   "source": [
    "class Vector:\n",
    "    typecode = \"d\"\n",
    "\n",
    "    def __init__(self, components):\n",
    "        # Chroniony atrybut self._components będzie przechowywał\n",
    "        # tablicę typu array składników wektora.\n",
    "        self._components = array(self.typecode, components)\n",
    "\n",
    "    def __iter__(self):\n",
    "        # Po prostu zwracamy iterator.\n",
    "        return iter(self._components)\n",
    "\n",
    "    def __repr__(self):\n",
    "        # Używamy reprlib.repr() w celu zredukowania pod względem\n",
    "        # długości reprezentacji wektora.\n",
    "        components = reprlib.repr(self._components)\n",
    "        # Same składniki.\n",
    "        components = components[components.find(\"[\") : -1]\n",
    "        return \"Vector({})\".format(components)\n",
    "\n",
    "    def __str__(self):\n",
    "        return str(tuple(self))\n",
    "\n",
    "    def __bytes__(self):\n",
    "        return bytes([ord(self.typecode)]) + bytes(self._components)\n",
    "\n",
    "    def __eq__(self, other):\n",
    "        return tuple(self) == tuple(other)\n",
    "\n",
    "    def __abs__(self):\n",
    "        return math.sqrt(sum(x * x for x in self))\n",
    "\n",
    "    def __bool__(self):\n",
    "        return bool(abs(self))\n",
    "\n",
    "    @classmethod\n",
    "    def frombytes(cls, octets):\n",
    "        typecode = chr(octets[0])\n",
    "        memv = memoryview(octets[1:]).cast(typecode)\n",
    "        return cls(memv)\n"
   ]
  },
  {
   "cell_type": "code",
   "execution_count": 3,
   "metadata": {},
   "outputs": [],
   "source": [
    "v = Vector(range(10))\n"
   ]
  },
  {
   "cell_type": "code",
   "execution_count": 4,
   "metadata": {},
   "outputs": [
    {
     "data": {
      "text/plain": [
       "[0.0, 1.0, 2.0, 3.0, 4.0, 5.0, 6.0, 7.0, 8.0, 9.0]"
      ]
     },
     "execution_count": 4,
     "metadata": {},
     "output_type": "execute_result"
    }
   ],
   "source": [
    "list(v)\n"
   ]
  },
  {
   "cell_type": "code",
   "execution_count": 5,
   "metadata": {},
   "outputs": [
    {
     "data": {
      "text/plain": [
       "16.881943016134134"
      ]
     },
     "execution_count": 5,
     "metadata": {},
     "output_type": "execute_result"
    }
   ],
   "source": [
    "abs(v)\n"
   ]
  },
  {
   "cell_type": "code",
   "execution_count": 6,
   "metadata": {},
   "outputs": [
    {
     "data": {
      "text/plain": [
       "True"
      ]
     },
     "execution_count": 6,
     "metadata": {},
     "output_type": "execute_result"
    }
   ],
   "source": [
    "bool(v)\n"
   ]
  },
  {
   "cell_type": "code",
   "execution_count": 7,
   "metadata": {},
   "outputs": [
    {
     "data": {
      "text/plain": [
       "b'd\\x00\\x00\\x00\\x00\\x00\\x00\\x00\\x00\\x00\\x00\\x00\\x00\\x00\\x00\\xf0?\\x00\\x00\\x00\\x00\\x00\\x00\\x00@\\x00\\x00\\x00\\x00\\x00\\x00\\x08@\\x00\\x00\\x00\\x00\\x00\\x00\\x10@\\x00\\x00\\x00\\x00\\x00\\x00\\x14@\\x00\\x00\\x00\\x00\\x00\\x00\\x18@\\x00\\x00\\x00\\x00\\x00\\x00\\x1c@\\x00\\x00\\x00\\x00\\x00\\x00 @\\x00\\x00\\x00\\x00\\x00\\x00\"@'"
      ]
     },
     "execution_count": 7,
     "metadata": {},
     "output_type": "execute_result"
    }
   ],
   "source": [
    "bytes(v)\n"
   ]
  },
  {
   "cell_type": "code",
   "execution_count": 8,
   "metadata": {},
   "outputs": [
    {
     "data": {
      "text/plain": [
       "'Vector([0.0, 1.0, 2.0, 3.0, 4.0, ...])'"
      ]
     },
     "execution_count": 8,
     "metadata": {},
     "output_type": "execute_result"
    }
   ],
   "source": [
    "repr(v)\n"
   ]
  },
  {
   "cell_type": "code",
   "execution_count": 9,
   "metadata": {},
   "outputs": [
    {
     "data": {
      "text/plain": [
       "'(0.0, 1.0, 2.0, 3.0, 4.0, 5.0, 6.0, 7.0, 8.0, 9.0)'"
      ]
     },
     "execution_count": 9,
     "metadata": {},
     "output_type": "execute_result"
    }
   ],
   "source": [
    "str(v)\n"
   ]
  },
  {
   "cell_type": "code",
   "execution_count": 10,
   "metadata": {},
   "outputs": [
    {
     "data": {
      "text/plain": [
       "Vector([0.0, 1.0, 2.0, 3.0, 4.0, ...])"
      ]
     },
     "execution_count": 10,
     "metadata": {},
     "output_type": "execute_result"
    }
   ],
   "source": [
    "Vector.frombytes(bytes(v))\n"
   ]
  },
  {
   "cell_type": "markdown",
   "metadata": {},
   "source": [
    "### Protokoły i kacze typowanie"
   ]
  },
  {
   "cell_type": "markdown",
   "metadata": {},
   "source": [
    "W kontekście programowania obiektowego protokół to nieformalny interfejs, definiowany \n",
    "tylko w dokumentacji a nie w kodzie. Przykładowo protokół sekwencyjny w Pythonie\n",
    "wymaga jedynie metod `__len__` i `__getitem__`. Dowolna klasa lub podklasa która implementuje \n",
    "te dwie metody może być uzywana wszędzie gdzie jest oczekiwana sekwencja. To czy klasa\n",
    "jest podklasą tego czy owego nie ma żadnego znaczenia.\n",
    "\n",
    "Mówimy, że coś jest sekwencją bo działa jak sekwencja i właśnie to ma znaczenie. Nazywamy to kaczym typowaniem.\n",
    "Nie sprawdzaj czy to jest kaczką. Jeśli cos kwacze jak kaczka i chodzi jak kaczka to jest to kaczka."
   ]
  },
  {
   "cell_type": "code",
   "execution_count": 11,
   "metadata": {},
   "outputs": [],
   "source": [
    "import collections\n",
    "\n",
    "Card = collections.namedtuple(\"Card\", (\"rank\", \"suit\"))\n",
    "\n",
    "\n",
    "# Przykład sekwencji.\n",
    "class FrenchDeck:\n",
    "    ranks = [str(n) for n in range(2, 11)] + [\"J\", \"Q\", \"K\", \"A\"]\n",
    "    suits = [\"spades\", \"diamonds\", \"clubs\", \"hearts\"]\n",
    "\n",
    "    def __init__(self):\n",
    "        self._cards = [Card(rank, suit) for suit in self.suits for rank in self.ranks]\n",
    "\n",
    "    def __len__(self):\n",
    "        return len(self._cards)\n",
    "\n",
    "    def __getitem__(self, index):\n",
    "        return self._cards[index]\n"
   ]
  },
  {
   "cell_type": "code",
   "execution_count": 12,
   "metadata": {},
   "outputs": [
    {
     "data": {
      "text/plain": [
       "52"
      ]
     },
     "execution_count": 12,
     "metadata": {},
     "output_type": "execute_result"
    }
   ],
   "source": [
    "fd = FrenchDeck()\n",
    "len(fd)\n"
   ]
  },
  {
   "cell_type": "code",
   "execution_count": 13,
   "metadata": {},
   "outputs": [
    {
     "data": {
      "text/plain": [
       "Card(rank='K', suit='diamonds')"
      ]
     },
     "execution_count": 13,
     "metadata": {},
     "output_type": "execute_result"
    }
   ],
   "source": [
    "fd[24]\n"
   ]
  },
  {
   "cell_type": "markdown",
   "metadata": {},
   "source": [
    "### Vector - sekwencja z możliwością wycinania"
   ]
  },
  {
   "cell_type": "code",
   "execution_count": 14,
   "metadata": {},
   "outputs": [],
   "source": [
    "class Vector:\n",
    "    typecode = \"d\"\n",
    "\n",
    "    def __init__(self, components):\n",
    "        self._components = array(self.typecode, components)\n",
    "\n",
    "    # Obsługę sekwencji zapewniają dwie proste metody jedno-wierszowe\n",
    "    # __len__ oraz __getitem__\n",
    "    def __len__(self):\n",
    "        return len(self._components)\n",
    "\n",
    "    def __getitem__(self, index):\n",
    "        return self._components[index]\n",
    "\n",
    "    def __iter__(self):\n",
    "        return iter(self._components)\n",
    "\n",
    "    def __repr__(self):\n",
    "        components = reprlib.repr(self._components)\n",
    "        components = components[components.find(\"[\") : -1]\n",
    "        return \"Vector({})\".format(components)\n",
    "\n",
    "    def __str__(self):\n",
    "        return str(tuple(self))\n",
    "\n",
    "    def __bytes__(self):\n",
    "        return bytes([ord(self.typecode)]) + bytes(self._components)\n",
    "\n",
    "    def __eq__(self, other):\n",
    "        return tuple(self) == tuple(other)\n",
    "\n",
    "    def __abs__(self):\n",
    "        return math.sqrt(sum(x * x for x in self))\n",
    "\n",
    "    def __bool__(self):\n",
    "        return bool(abs(self))\n",
    "\n",
    "    @classmethod\n",
    "    def frombytes(cls, octets):\n",
    "        typecode = chr(octets[0])\n",
    "        memv = memoryview(octets[1:]).cast(typecode)\n",
    "        return cls(memv)\n"
   ]
  },
  {
   "cell_type": "code",
   "execution_count": 15,
   "metadata": {},
   "outputs": [
    {
     "data": {
      "text/plain": [
       "0.0"
      ]
     },
     "execution_count": 15,
     "metadata": {},
     "output_type": "execute_result"
    }
   ],
   "source": [
    "v = Vector(range(10))\n",
    "v[0]\n"
   ]
  },
  {
   "cell_type": "code",
   "execution_count": 16,
   "metadata": {},
   "outputs": [
    {
     "data": {
      "text/plain": [
       "(1.0, 9.0)"
      ]
     },
     "execution_count": 16,
     "metadata": {},
     "output_type": "execute_result"
    }
   ],
   "source": [
    "v[1], v[-1]\n"
   ]
  },
  {
   "cell_type": "code",
   "execution_count": 17,
   "metadata": {},
   "outputs": [
    {
     "data": {
      "text/plain": [
       "array('d', [1.0, 2.0, 3.0])"
      ]
     },
     "execution_count": 17,
     "metadata": {},
     "output_type": "execute_result"
    }
   ],
   "source": [
    "# Nie działa to tak jak powinno ponieważ otrzymujemy array.\n",
    "# Normalnie obiekty pythonowe zwróciłyby nowy obiekt tej samej klasy.\n",
    "v[1:4]\n"
   ]
  },
  {
   "cell_type": "markdown",
   "metadata": {},
   "source": [
    "### Jak działa wycinanie"
   ]
  },
  {
   "cell_type": "code",
   "execution_count": 18,
   "metadata": {},
   "outputs": [],
   "source": [
    "class MySeq:\n",
    "    def __getitem__(self, index):\n",
    "        return index\n"
   ]
  },
  {
   "cell_type": "code",
   "execution_count": 19,
   "metadata": {},
   "outputs": [
    {
     "data": {
      "text/plain": [
       "1"
      ]
     },
     "execution_count": 19,
     "metadata": {},
     "output_type": "execute_result"
    }
   ],
   "source": [
    "s = MySeq()\n",
    "s[1]\n"
   ]
  },
  {
   "cell_type": "code",
   "execution_count": 20,
   "metadata": {},
   "outputs": [
    {
     "data": {
      "text/plain": [
       "slice(1, 4, None)"
      ]
     },
     "execution_count": 20,
     "metadata": {},
     "output_type": "execute_result"
    }
   ],
   "source": [
    "s[1:4]\n"
   ]
  },
  {
   "cell_type": "code",
   "execution_count": 21,
   "metadata": {},
   "outputs": [
    {
     "data": {
      "text/plain": [
       "slice(1, 4, 2)"
      ]
     },
     "execution_count": 21,
     "metadata": {},
     "output_type": "execute_result"
    }
   ],
   "source": [
    "s[1:4:2]\n"
   ]
  },
  {
   "cell_type": "code",
   "execution_count": 22,
   "metadata": {},
   "outputs": [
    {
     "data": {
      "text/plain": [
       "(slice(1, 4, 2), 9)"
      ]
     },
     "execution_count": 22,
     "metadata": {},
     "output_type": "execute_result"
    }
   ],
   "source": [
    "s[1:4:2, 9]\n"
   ]
  },
  {
   "cell_type": "code",
   "execution_count": 23,
   "metadata": {},
   "outputs": [
    {
     "data": {
      "text/plain": [
       "(slice(1, 4, 2), slice(7, 9, None))"
      ]
     },
     "execution_count": 23,
     "metadata": {},
     "output_type": "execute_result"
    }
   ],
   "source": [
    "s[1:4:2, 7:9]\n"
   ]
  },
  {
   "cell_type": "code",
   "execution_count": 24,
   "metadata": {},
   "outputs": [
    {
     "data": {
      "text/plain": [
       "['__class__',\n",
       " '__delattr__',\n",
       " '__dir__',\n",
       " '__doc__',\n",
       " '__eq__',\n",
       " '__format__',\n",
       " '__ge__',\n",
       " '__getattribute__',\n",
       " '__gt__',\n",
       " '__hash__',\n",
       " '__init__',\n",
       " '__init_subclass__',\n",
       " '__le__',\n",
       " '__lt__',\n",
       " '__ne__',\n",
       " '__new__',\n",
       " '__reduce__',\n",
       " '__reduce_ex__',\n",
       " '__repr__',\n",
       " '__setattr__',\n",
       " '__sizeof__',\n",
       " '__str__',\n",
       " '__subclasshook__',\n",
       " 'indices',\n",
       " 'start',\n",
       " 'step',\n",
       " 'stop']"
      ]
     },
     "execution_count": 24,
     "metadata": {},
     "output_type": "execute_result"
    }
   ],
   "source": [
    "dir(slice)\n"
   ]
  },
  {
   "cell_type": "code",
   "execution_count": 26,
   "metadata": {},
   "outputs": [
    {
     "name": "stdout",
     "output_type": "stream",
     "text": [
      "Help on method_descriptor:\n",
      "\n",
      "indices(...)\n",
      "    S.indices(len) -> (start, stop, stride)\n",
      "    \n",
      "    Assuming a sequence of length len, calculate the start and stop\n",
      "    indices, and the stride length of the extended slice described by\n",
      "    S. Out of bounds indices are clipped in a manner consistent with the\n",
      "    handling of normal slices.\n",
      "\n"
     ]
    }
   ],
   "source": [
    "help(slice.indices)\n"
   ]
  },
  {
   "cell_type": "markdown",
   "metadata": {},
   "source": [
    "Slice to typ wbudowany. Podczas inspekcji znajdujemy mało znaną metodę `indices`. Zakładając, że sekwencja ma długość `len`, metoda `indices` oblicza indeksy `start` i `stop` oraz długość `stride` (krok) wycinka opisywanego jako `S`. Indeksy wykraczające poza granice są przycinane w sposób spójny z obsługą normalnych wycinków. Inaczej mówiąc, `indices` eksponuje logikę zaimplememntowaną we wbudowanych sekwencjach aby z gracją obsługiwać ujemne lub brakujące indeksy oraz wycinki, które są dłuższe niż sekwencja docelowa.\n",
    "\n",
    "Metoda `slices` wytwarza znormalizowane krotki nieujemnych liczb całkowitych `start`, `stop` i `stride` dopasowanych tak aby pasowały do granic sekwencji zadanej długości.\n"
   ]
  },
  {
   "cell_type": "code",
   "execution_count": 30,
   "metadata": {},
   "outputs": [
    {
     "data": {
      "text/plain": [
       "'ACE'"
      ]
     },
     "execution_count": 30,
     "metadata": {},
     "output_type": "execute_result"
    }
   ],
   "source": [
    "s = \"ABCDE\"\n",
    "s[:10:2]\n"
   ]
  },
  {
   "cell_type": "code",
   "execution_count": 32,
   "metadata": {},
   "outputs": [
    {
     "data": {
      "text/plain": [
       "'ACE'"
      ]
     },
     "execution_count": 32,
     "metadata": {},
     "output_type": "execute_result"
    }
   ],
   "source": [
    "s[0:5:2]\n"
   ]
  },
  {
   "cell_type": "code",
   "execution_count": 33,
   "metadata": {},
   "outputs": [
    {
     "data": {
      "text/plain": [
       "'DE'"
      ]
     },
     "execution_count": 33,
     "metadata": {},
     "output_type": "execute_result"
    }
   ],
   "source": [
    "s[-2:]\n"
   ]
  },
  {
   "cell_type": "code",
   "execution_count": 35,
   "metadata": {},
   "outputs": [
    {
     "data": {
      "text/plain": [
       "'DE'"
      ]
     },
     "execution_count": 35,
     "metadata": {},
     "output_type": "execute_result"
    }
   ],
   "source": [
    "s[3:5:1]\n"
   ]
  },
  {
   "cell_type": "markdown",
   "metadata": {},
   "source": [
    "### Vector - świadomy wycinania"
   ]
  },
  {
   "cell_type": "code",
   "execution_count": 38,
   "metadata": {},
   "outputs": [],
   "source": [
    "import numbers\n",
    "\n",
    "\n",
    "class Vector:\n",
    "    typecode = \"d\"\n",
    "\n",
    "    def __init__(self, components):\n",
    "        self._components = array(self.typecode, components)\n",
    "\n",
    "    def __len__(self):\n",
    "        return len(self._components)\n",
    "\n",
    "    # Sekwencja świadoma wycinania.\n",
    "    def __getitem__(self, index):\n",
    "        # return self._components[index]\n",
    "        cls = type(self)\n",
    "        if isinstance(index, slice):\n",
    "            return cls(self._components[index])\n",
    "        if isinstance(index, numbers.Integral):\n",
    "            return self._components[index]\n",
    "        msg = \"{cls.__name__} indices must be integers\"\n",
    "        raise TypeError(msg.format(cls=cls))\n",
    "\n",
    "    def __iter__(self):\n",
    "        return iter(self._components)\n",
    "\n",
    "    def __repr__(self):\n",
    "        components = reprlib.repr(self._components)\n",
    "        components = components[components.find(\"[\") : -1]\n",
    "        return \"Vector({})\".format(components)\n",
    "\n",
    "    def __str__(self):\n",
    "        return str(tuple(self))\n",
    "\n",
    "    def __bytes__(self):\n",
    "        return bytes([ord(self.typecode)]) + bytes(self._components)\n",
    "\n",
    "    def __eq__(self, other):\n",
    "        return tuple(self) == tuple(other)\n",
    "\n",
    "    def __abs__(self):\n",
    "        return math.sqrt(sum(x * x for x in self))\n",
    "\n",
    "    def __bool__(self):\n",
    "        return bool(abs(self))\n",
    "\n",
    "    @classmethod\n",
    "    def frombytes(cls, octets):\n",
    "        typecode = chr(octets[0])\n",
    "        memv = memoryview(octets[1:]).cast(typecode)\n",
    "        return cls(memv)\n"
   ]
  },
  {
   "cell_type": "code",
   "execution_count": 39,
   "metadata": {},
   "outputs": [
    {
     "data": {
      "text/plain": [
       "Vector([0.0, 1.0, 2.0, 3.0, 4.0, ...])"
      ]
     },
     "execution_count": 39,
     "metadata": {},
     "output_type": "execute_result"
    }
   ],
   "source": [
    "v = Vector(range(10))\n",
    "v\n"
   ]
  },
  {
   "cell_type": "code",
   "execution_count": 40,
   "metadata": {},
   "outputs": [
    {
     "data": {
      "text/plain": [
       "Vector([1.0, 2.0, 3.0])"
      ]
     },
     "execution_count": 40,
     "metadata": {},
     "output_type": "execute_result"
    }
   ],
   "source": [
    "v[1:4]\n"
   ]
  },
  {
   "cell_type": "code",
   "execution_count": 42,
   "metadata": {},
   "outputs": [
    {
     "data": {
      "text/plain": [
       "Vector([2.0, 4.0, 6.0, 8.0])"
      ]
     },
     "execution_count": 42,
     "metadata": {},
     "output_type": "execute_result"
    }
   ],
   "source": [
    "v[-8::2]\n"
   ]
  },
  {
   "cell_type": "code",
   "execution_count": 43,
   "metadata": {},
   "outputs": [
    {
     "data": {
      "text/plain": [
       "Vector([1.0, 4.0, 7.0])"
      ]
     },
     "execution_count": 43,
     "metadata": {},
     "output_type": "execute_result"
    }
   ],
   "source": [
    "v[1:9:3]\n"
   ]
  },
  {
   "cell_type": "code",
   "execution_count": 44,
   "metadata": {},
   "outputs": [
    {
     "data": {
      "text/plain": [
       "1.0"
      ]
     },
     "execution_count": 44,
     "metadata": {},
     "output_type": "execute_result"
    }
   ],
   "source": [
    "v[1]\n"
   ]
  },
  {
   "cell_type": "markdown",
   "metadata": {},
   "source": [
    "### Dynamiczny dostęp do atrybutów - metoda `__getattr__`\n",
    "\n",
    "Metoda `__getattr__` jest wywoływana przez interpreter, gdy wyszukiwanie atrybutu kończy się niepowodzeniem. Po otrzymaniu wyrażenia `my_obj.x` Python sprawdza czy instancja `my_obj` ma atrybut o nazwie `x`. Jeśli nie, szukanie przechodzi do klasy `my_obj.__class__` a następnie w głąb grafu dziedziczenia. Jeśli atrybut `x` nie został znaleziony, metoda `__getattr__` definiowana w klasie `my_obj` jest wywoływana z parametrem self i nazwą atrybutu jako łańcuchem `'x'`."
   ]
  },
  {
   "cell_type": "code",
   "execution_count": 48,
   "metadata": {},
   "outputs": [],
   "source": [
    "class Vector:\n",
    "    # Ustawiamy __match_args__ aby umożliwić dynamiczne dopasowywanie wzorców\n",
    "    # dla dynamicznych atrybutów obsługiwanych przez __getattr__\n",
    "    __match_args__ = (\"x\", \"y\", \"z\", \"t\")\n",
    "    typecode = \"d\"\n",
    "\n",
    "    def __init__(self, components):\n",
    "        self._components = array(self.typecode, components)\n",
    "\n",
    "    def __getattr__(self, name):\n",
    "        cls = type(self)\n",
    "        try:\n",
    "            pos = cls.__match_args__.index(name)\n",
    "        except ValueError:\n",
    "            pos = -1\n",
    "        if 0 <= pos < len(self._components):\n",
    "            return self._components[pos]\n",
    "        msg = f\"{cls.__name__!r} object has no attribute {name!r}\"\n",
    "        raise AttributeError(msg)\n",
    "\n",
    "    def __len__(self):\n",
    "        return len(self._components)\n",
    "\n",
    "    # Sekwencja świadoma wycinania.\n",
    "    def __getitem__(self, index):\n",
    "        # return self._components[index]\n",
    "        cls = type(self)\n",
    "        if isinstance(index, slice):\n",
    "            return cls(self._components[index])\n",
    "        if isinstance(index, numbers.Integral):\n",
    "            return self._components[index]\n",
    "        msg = \"{cls.__name__} indices must be integers\"\n",
    "        raise TypeError(msg.format(cls=cls))\n",
    "\n",
    "    def __iter__(self):\n",
    "        return iter(self._components)\n",
    "\n",
    "    def __repr__(self):\n",
    "        components = reprlib.repr(self._components)\n",
    "        components = components[components.find(\"[\") : -1]\n",
    "        return \"Vector({})\".format(components)\n",
    "\n",
    "    def __str__(self):\n",
    "        return str(tuple(self))\n",
    "\n",
    "    def __bytes__(self):\n",
    "        return bytes([ord(self.typecode)]) + bytes(self._components)\n",
    "\n",
    "    def __eq__(self, other):\n",
    "        return tuple(self) == tuple(other)\n",
    "\n",
    "    def __abs__(self):\n",
    "        return math.sqrt(sum(x * x for x in self))\n",
    "\n",
    "    def __bool__(self):\n",
    "        return bool(abs(self))\n",
    "\n",
    "    @classmethod\n",
    "    def frombytes(cls, octets):\n",
    "        typecode = chr(octets[0])\n",
    "        memv = memoryview(octets[1:]).cast(typecode)\n",
    "        return cls(memv)\n"
   ]
  },
  {
   "cell_type": "code",
   "execution_count": 49,
   "metadata": {},
   "outputs": [
    {
     "data": {
      "text/plain": [
       "Vector([0.0, 1.0, 2.0, 3.0, 4.0])"
      ]
     },
     "execution_count": 49,
     "metadata": {},
     "output_type": "execute_result"
    }
   ],
   "source": [
    "v = Vector(range(5))\n",
    "v\n"
   ]
  },
  {
   "cell_type": "code",
   "execution_count": 50,
   "metadata": {},
   "outputs": [
    {
     "data": {
      "text/plain": [
       "0.0"
      ]
     },
     "execution_count": 50,
     "metadata": {},
     "output_type": "execute_result"
    }
   ],
   "source": [
    "v.x  # Faktycznie działa.\n"
   ]
  },
  {
   "cell_type": "code",
   "execution_count": 51,
   "metadata": {},
   "outputs": [
    {
     "data": {
      "text/plain": [
       "10"
      ]
     },
     "execution_count": 51,
     "metadata": {},
     "output_type": "execute_result"
    }
   ],
   "source": [
    "v.x = 10  # To powinno zgłosić wyjątek ale tak się nie dzieje.\n",
    "v.x\n"
   ]
  },
  {
   "cell_type": "code",
   "execution_count": 53,
   "metadata": {},
   "outputs": [
    {
     "data": {
      "text/plain": [
       "Vector([0.0, 1.0, 2.0, 3.0, 4.0])"
      ]
     },
     "execution_count": 53,
     "metadata": {},
     "output_type": "execute_result"
    }
   ],
   "source": [
    "v  # Składniki wektora się nie zmieniły!\n"
   ]
  },
  {
   "cell_type": "markdown",
   "metadata": {},
   "source": [
    "Niespójność powstaje z powodu działania `__getattr__`. Python wywołuje tę metodę jedynie w ostateczności, gdy obiekt nie ma takiego nazwanego atrybutu.\n",
    "Jednak po przypisaniu `v.x = 10`, obiekt `v` ma atrybut `x`, więc `__getattr__` nie będzie już pozyskiwać `v.x`. Interpreter po prostu zwróci wartość 10 związaną z `v.x`."
   ]
  },
  {
   "cell_type": "code",
   "execution_count": 56,
   "metadata": {},
   "outputs": [],
   "source": [
    "class Vector:\n",
    "    # Ustawiamy __match_args__ aby umożliwić dynamiczne dopasowywanie wzorców\n",
    "    # dla dynamicznych atrybutów obsługiwanych przez __getattr__\n",
    "    __match_args__ = (\"x\", \"y\", \"z\", \"t\")\n",
    "    typecode = \"d\"\n",
    "\n",
    "    def __init__(self, components):\n",
    "        self._components = array(self.typecode, components)\n",
    "\n",
    "    # Kodujemy metodę `__setattr__` aby uniknąc niespójnego działania obiektu.\n",
    "    def __setattr__(self, name, value):\n",
    "        cls = type(self)\n",
    "        if len(name) == 1:\n",
    "            if name in cls.__match_args__:\n",
    "                error = \"read only attribute {attr_name!r}\"\n",
    "            elif name.islower():\n",
    "                error = \"can't set attributes 'a' to 'z' in {cls_name!r}\"\n",
    "            else:\n",
    "                error = \"\"\n",
    "            if error:\n",
    "                msg = error.format(cls_name=cls.__name__, attr_name=name)\n",
    "                raise AttributeError(msg)\n",
    "        super().__setattr__(name, value)\n",
    "\n",
    "    def __getattr__(self, name):\n",
    "        cls = type(self)\n",
    "        try:\n",
    "            pos = cls.__match_args__.index(name)\n",
    "        except ValueError:\n",
    "            pos = -1\n",
    "        if 0 <= pos < len(self._components):\n",
    "            return self._components[pos]\n",
    "        msg = f\"{cls.__name__!r} object has no attribute {name!r}\"\n",
    "        raise AttributeError(msg)\n",
    "\n",
    "    def __len__(self):\n",
    "        return len(self._components)\n",
    "\n",
    "    # Sekwencja świadoma wycinania.\n",
    "    def __getitem__(self, index):\n",
    "        # return self._components[index]\n",
    "        cls = type(self)\n",
    "        if isinstance(index, slice):\n",
    "            return cls(self._components[index])\n",
    "        if isinstance(index, numbers.Integral):\n",
    "            return self._components[index]\n",
    "        msg = \"{cls.__name__} indices must be integers\"\n",
    "        raise TypeError(msg.format(cls=cls))\n",
    "\n",
    "    def __iter__(self):\n",
    "        return iter(self._components)\n",
    "\n",
    "    def __repr__(self):\n",
    "        components = reprlib.repr(self._components)\n",
    "        components = components[components.find(\"[\") : -1]\n",
    "        return \"Vector({})\".format(components)\n",
    "\n",
    "    def __str__(self):\n",
    "        return str(tuple(self))\n",
    "\n",
    "    def __bytes__(self):\n",
    "        return bytes([ord(self.typecode)]) + bytes(self._components)\n",
    "\n",
    "    def __eq__(self, other):\n",
    "        return tuple(self) == tuple(other)\n",
    "\n",
    "    def __abs__(self):\n",
    "        return math.sqrt(sum(x * x for x in self))\n",
    "\n",
    "    def __bool__(self):\n",
    "        return bool(abs(self))\n",
    "\n",
    "    @classmethod\n",
    "    def frombytes(cls, octets):\n",
    "        typecode = chr(octets[0])\n",
    "        memv = memoryview(octets[1:]).cast(typecode)\n",
    "        return cls(memv)\n"
   ]
  },
  {
   "cell_type": "code",
   "execution_count": 57,
   "metadata": {},
   "outputs": [
    {
     "data": {
      "text/plain": [
       "Vector([0.0, 1.0, 2.0, 3.0, 4.0])"
      ]
     },
     "execution_count": 57,
     "metadata": {},
     "output_type": "execute_result"
    }
   ],
   "source": [
    "v = Vector(range(5))\n",
    "v\n"
   ]
  },
  {
   "cell_type": "code",
   "execution_count": 58,
   "metadata": {},
   "outputs": [
    {
     "data": {
      "text/plain": [
       "0.0"
      ]
     },
     "execution_count": 58,
     "metadata": {},
     "output_type": "execute_result"
    }
   ],
   "source": [
    "v.x\n"
   ]
  },
  {
   "cell_type": "code",
   "execution_count": 59,
   "metadata": {},
   "outputs": [
    {
     "ename": "AttributeError",
     "evalue": "read only attribute 'x'",
     "output_type": "error",
     "traceback": [
      "\u001b[1;31m---------------------------------------------------------------------------\u001b[0m",
      "\u001b[1;31mAttributeError\u001b[0m                            Traceback (most recent call last)",
      "\u001b[1;32mc:\\Users\\Mateusz\\Documents\\PythonRepository\\python_learning_tools\\fluent_python\\object_oriented_idioms\\12_seq_hacking.ipynb Cell 53\u001b[0m line \u001b[0;36m<cell line: 1>\u001b[1;34m()\u001b[0m\n\u001b[1;32m----> <a href='vscode-notebook-cell:/c%3A/Users/Mateusz/Documents/PythonRepository/python_learning_tools/fluent_python/object_oriented_idioms/12_seq_hacking.ipynb#Y110sZmlsZQ%3D%3D?line=0'>1</a>\u001b[0m v\u001b[39m.\u001b[39mx \u001b[39m=\u001b[39m \u001b[39m10\u001b[39m\n",
      "\u001b[1;32mc:\\Users\\Mateusz\\Documents\\PythonRepository\\python_learning_tools\\fluent_python\\object_oriented_idioms\\12_seq_hacking.ipynb Cell 53\u001b[0m line \u001b[0;36mVector.__setattr__\u001b[1;34m(self, name, value)\u001b[0m\n\u001b[0;32m     <a href='vscode-notebook-cell:/c%3A/Users/Mateusz/Documents/PythonRepository/python_learning_tools/fluent_python/object_oriented_idioms/12_seq_hacking.ipynb#Y110sZmlsZQ%3D%3D?line=19'>20</a>\u001b[0m     \u001b[39mif\u001b[39;00m error:\n\u001b[0;32m     <a href='vscode-notebook-cell:/c%3A/Users/Mateusz/Documents/PythonRepository/python_learning_tools/fluent_python/object_oriented_idioms/12_seq_hacking.ipynb#Y110sZmlsZQ%3D%3D?line=20'>21</a>\u001b[0m         msg \u001b[39m=\u001b[39m error\u001b[39m.\u001b[39mformat(cls_name\u001b[39m=\u001b[39m\u001b[39mcls\u001b[39m\u001b[39m.\u001b[39m\u001b[39m__name__\u001b[39m, attr_name\u001b[39m=\u001b[39mname)\n\u001b[1;32m---> <a href='vscode-notebook-cell:/c%3A/Users/Mateusz/Documents/PythonRepository/python_learning_tools/fluent_python/object_oriented_idioms/12_seq_hacking.ipynb#Y110sZmlsZQ%3D%3D?line=21'>22</a>\u001b[0m         \u001b[39mraise\u001b[39;00m \u001b[39mAttributeError\u001b[39;00m(msg)\n\u001b[0;32m     <a href='vscode-notebook-cell:/c%3A/Users/Mateusz/Documents/PythonRepository/python_learning_tools/fluent_python/object_oriented_idioms/12_seq_hacking.ipynb#Y110sZmlsZQ%3D%3D?line=22'>23</a>\u001b[0m \u001b[39msuper\u001b[39m()\u001b[39m.\u001b[39m\u001b[39m__setattr__\u001b[39m(name, value)\n",
      "\u001b[1;31mAttributeError\u001b[0m: read only attribute 'x'"
     ]
    }
   ],
   "source": [
    "v.x = 10\n"
   ]
  },
  {
   "cell_type": "code",
   "execution_count": 62,
   "metadata": {},
   "outputs": [
    {
     "data": {
      "text/plain": [
       "0.0"
      ]
     },
     "execution_count": 62,
     "metadata": {},
     "output_type": "execute_result"
    }
   ],
   "source": [
    "v.x\n"
   ]
  },
  {
   "cell_type": "markdown",
   "metadata": {},
   "source": [
    "### Haszowalny Vector i szybsze =="
   ]
  },
  {
   "cell_type": "code",
   "execution_count": 63,
   "metadata": {},
   "outputs": [],
   "source": [
    "import functools\n",
    "import operator\n"
   ]
  },
  {
   "cell_type": "code",
   "execution_count": 64,
   "metadata": {},
   "outputs": [
    {
     "data": {
      "text/plain": [
       "120"
      ]
     },
     "execution_count": 64,
     "metadata": {},
     "output_type": "execute_result"
    }
   ],
   "source": [
    "functools.reduce(lambda a, b: a * b, range(1, 6))\n"
   ]
  },
  {
   "cell_type": "code",
   "execution_count": 100,
   "metadata": {},
   "outputs": [],
   "source": [
    "class Vector:\n",
    "    typecode = \"d\"\n",
    "\n",
    "    def __init__(self, components):\n",
    "        self._components = array(self.typecode, components)\n",
    "\n",
    "    def __eq__(self, other):\n",
    "        # if not len(self) == len(other):\n",
    "        #     return False\n",
    "        # for a, b in zip(self, other):\n",
    "        #     if not a == b:\n",
    "        #         return False\n",
    "        # return True\n",
    "        return len(self) == len(other) and all(a == b for a, b in zip(self, other))\n",
    "\n",
    "    def __hash__(self):\n",
    "        # hashes = (hash(x) for x in self._components)\n",
    "        hashes = map(hash, self._components)  # Lazy (generator)\n",
    "        return functools.reduce(operator.xor, hashes, 0)\n",
    "\n",
    "    def __len__(self):\n",
    "        return len(self._components)\n",
    "\n",
    "    def __iter__(self):\n",
    "        return iter(self._components)\n"
   ]
  },
  {
   "cell_type": "code",
   "execution_count": 99,
   "metadata": {},
   "outputs": [
    {
     "data": {
      "text/plain": [
       "1"
      ]
     },
     "execution_count": 99,
     "metadata": {},
     "output_type": "execute_result"
    }
   ],
   "source": [
    "v = Vector(range(1234))\n",
    "hash(v)\n"
   ]
  },
  {
   "cell_type": "markdown",
   "metadata": {},
   "source": [
    "### Finalna wersja Vector - formatownie"
   ]
  },
  {
   "cell_type": "code",
   "execution_count": 104,
   "metadata": {},
   "outputs": [],
   "source": [
    "from array import array\n",
    "import reprlib\n",
    "import math\n",
    "import functools\n",
    "import operator\n",
    "import itertools\n",
    "\n",
    "\n",
    "class Vector:\n",
    "    __match_args__ = (\"x\", \"y\", \"z\", \"t\")\n",
    "    typecode = \"d\"\n",
    "\n",
    "    def __init__(self, components):\n",
    "        self._components = array(self.typecode, components)\n",
    "\n",
    "    def __iter__(self):\n",
    "        return iter(self._components)\n",
    "\n",
    "    def __repr__(self):\n",
    "        components = reprlib.repr(self._components)\n",
    "        components = components[components.find(\"[\") : -1]\n",
    "        return f\"Vector({components})\"\n",
    "\n",
    "    def __str__(self):\n",
    "        return str(tuple(self))\n",
    "\n",
    "    def __bytes__(self):\n",
    "        return bytes([ord(self.typecode)]) + bytes(self._components)\n",
    "\n",
    "    def __eq__(self, other):\n",
    "        return len(self) == len(other) and all(a == b for a, b in zip(self, other))\n",
    "\n",
    "    def __hash__(self):\n",
    "        hashes = map(hash, self._components)\n",
    "        return functools.reduce(operator.xor, hashes, 0)\n",
    "\n",
    "    def __abs__(self):\n",
    "        return math.hypot(*self)\n",
    "\n",
    "    def __bool__(self):\n",
    "        return bool(abs(self))\n",
    "\n",
    "    def __len__(self):\n",
    "        return len(self._components)\n",
    "\n",
    "    def __getitem__(self, index):\n",
    "        cls = type(self)\n",
    "        if isinstance(index, slice):\n",
    "            return cls(self._components[index])\n",
    "        if isinstance(index, numbers.Integral):\n",
    "            return self._components[index]\n",
    "        msg = f\"{cls.__name__!r} indices must be integers\"\n",
    "        raise TypeError(msg)\n",
    "\n",
    "    def __getattr__(self, name):\n",
    "        cls = type(self)\n",
    "        try:\n",
    "            pos = cls.__match_args__.index(name)\n",
    "        except ValueError:\n",
    "            pos = -1\n",
    "        if 0 <= pos < len(self._components):\n",
    "            return self._components[pos]\n",
    "        msg = f\"{cls.__name__!r} object has no attribute {name!r}\"\n",
    "        raise AttributeError(msg)\n",
    "\n",
    "    def __setattr__(self, name, value):\n",
    "        cls = type(self)\n",
    "        if len(name) == 1:\n",
    "            if name in cls.__match_args__:\n",
    "                error = \"read only attribute {attr_name!r}\"\n",
    "            elif name.islower():\n",
    "                error = \"can't set attributes 'a' to 'z' in {cls_name!r}\"\n",
    "            else:\n",
    "                error = \"\"\n",
    "            if error:\n",
    "                msg = error.format(cls_name=cls.__name__, attr_name=name)\n",
    "                raise AttributeError(msg)\n",
    "        super().__setattr__(name, value)\n",
    "\n",
    "    def angle(self, n):\n",
    "        r = math.hypot(*self[n:])\n",
    "        a = math.atan2(r, self[n - 1])\n",
    "        if n == len(self) - 1 and self[-1] < 0:\n",
    "            return math.pi * 2 - a\n",
    "        return a\n",
    "\n",
    "    def angles(self):\n",
    "        return (self.angle(n) for n in range(1, len(self)))\n",
    "\n",
    "    def __format__(self, fmt_spec=\"\"):\n",
    "        if fmt_spec.endswith(\"h\"):\n",
    "            fmt_spec = fmt_spec[:-1]\n",
    "            coords = itertools.chain([abs(self)], self.angles())\n",
    "            outer_fmt = \"<{}>\"\n",
    "        else:\n",
    "            coords = self\n",
    "            outer_fmt = \"({})\"\n",
    "        components = (format(component, fmt_spec) for component in coords)\n",
    "        return outer_fmt.format(\", \".join(components))\n",
    "\n",
    "    @classmethod\n",
    "    def frombytes(cls, octects):\n",
    "        typecode = octects[0]\n",
    "        memv = memoryview(octects[1:]).cast(typecode)\n",
    "        return cls(memv)\n"
   ]
  },
  {
   "cell_type": "code",
   "execution_count": 106,
   "metadata": {},
   "outputs": [
    {
     "data": {
      "text/plain": [
       "Vector([0.0, 1.0, 2.0, 3.0, 4.0, ...])"
      ]
     },
     "execution_count": 106,
     "metadata": {},
     "output_type": "execute_result"
    }
   ],
   "source": [
    "v = Vector(range(10))\n",
    "v"
   ]
  },
  {
   "cell_type": "code",
   "execution_count": 110,
   "metadata": {},
   "outputs": [
    {
     "data": {
      "text/plain": [
       "'<16.88194, 1.57080, 1.51153, 1.45184, 1.39054, 1.32536, 1.25233, 1.16404, 1.04423, 0.84415>'"
      ]
     },
     "execution_count": 110,
     "metadata": {},
     "output_type": "execute_result"
    }
   ],
   "source": [
    "format(v, \".5fh\")\n"
   ]
  },
  {
   "cell_type": "code",
   "execution_count": 111,
   "metadata": {},
   "outputs": [
    {
     "data": {
      "text/plain": [
       "'(0.0, 1.0, 2.0, 3.0, 4.0, 5.0, 6.0, 7.0, 8.0, 9.0)'"
      ]
     },
     "execution_count": 111,
     "metadata": {},
     "output_type": "execute_result"
    }
   ],
   "source": [
    "format(v, \".1f\")"
   ]
  }
 ],
 "metadata": {
  "kernelspec": {
   "display_name": "Python 3",
   "language": "python",
   "name": "python3"
  },
  "language_info": {
   "codemirror_mode": {
    "name": "ipython",
    "version": 3
   },
   "file_extension": ".py",
   "mimetype": "text/x-python",
   "name": "python",
   "nbconvert_exporter": "python",
   "pygments_lexer": "ipython3",
   "version": "3.10.5"
  }
 },
 "nbformat": 4,
 "nbformat_minor": 2
}
