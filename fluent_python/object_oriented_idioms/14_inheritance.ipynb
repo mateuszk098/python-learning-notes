{
 "cells": [
  {
   "cell_type": "markdown",
   "metadata": {},
   "source": [
    "### Funkcja `super()`"
   ]
  },
  {
   "cell_type": "markdown",
   "metadata": {},
   "source": [
    "Gdy podklasa nadpisuje metodę klasy podrzędnej, metoda zastępująca zazwyczaj potrzebuje sposobu wywołania odpowiadającej jej metody klasy nadrzędnej. Zalecany sposób realizacji tego zadania jest następujący."
   ]
  },
  {
   "cell_type": "code",
   "execution_count": 1,
   "metadata": {},
   "outputs": [],
   "source": [
    "import collections\n",
    "\n",
    "class LastUpdatedOrderedDict(collections.OrderedDict):\n",
    "    def __setitem__(self, key, value):\n",
    "        super().__setitem__(key, value)\n",
    "        self.move_to_end(key)"
   ]
  },
  {
   "cell_type": "markdown",
   "metadata": {},
   "source": [
    "Klasa `LastUpdatedOrderedDict` tak nadpisuje metodę `__setitem__` aby używała `super().__setitem__` do wywoływania tej metody w klasie nadrzędnej, aby umożliwić wstawianie albo aktualizację pary klucz/wartość.\n",
    "\n",
    "Funkcja `super()` implementuje logikę pozwalającą obsłużyć hierarchie klas z wielokrotnym dziedziczeniem. "
   ]
  },
  {
   "cell_type": "code",
   "execution_count": 2,
   "metadata": {},
   "outputs": [],
   "source": [
    "class LastUpdatedOrderedDict(collections.OrderedDict):\n",
    "    def __setitem__(self, key, value):\n",
    "        \"\"\"To działa w Pythonie 2 i Pythonie 3.\"\"\"\n",
    "        super(LastUpdatedOrderedDict, self).__setitem__(key, value)\n",
    "        self.move_to_end(key)"
   ]
  },
  {
   "cell_type": "markdown",
   "metadata": {},
   "source": [
    "Obecnie (Python 3) oba argumenty funkcji `super()` są opcjonalne. Kompilator dostarcza je automatycznie po zbadaniu otaczającego kontekstu, gdy funkcja `super()` jest wywoływana w metodzie. Tymi argumentami są:\n",
    "- typ - początek ścieżki wyszukiwania klasy nadrzędnej implementującej pożądaną metodę. Domyślnie jest to klasa posiadająca metodę, w której występuje wywołanie funkcji `super()`\n",
    "- obiekt_lub_typ - obiekt (w wywołaniach metod instancji) lub klasa (w wywołaniach metod klasy), która ma być odbiorcą wywołania metody. Domyślnie jest to `self` jeśli wywołanie następuje w metodzie instancji.\n",
    "\n",
    "Wywołanie funkcji `super()` zwraca dynamiczny obiekt proxy, który odnajduje metodę w klasie nadrzędnej zgodnej z parametrem (typ) i wiąże ją z (obiekt_lub_typ)."
   ]
  },
  {
   "cell_type": "markdown",
   "metadata": {},
   "source": [
    "### Wielokrotne dziedziczenie i kolejność ustalania metod"
   ]
  },
  {
   "cell_type": "code",
   "execution_count": 10,
   "metadata": {},
   "outputs": [],
   "source": [
    "class Root:\n",
    "    def ping(self):\n",
    "        print(f\"{self}.ping() in Root\")\n",
    "\n",
    "    def pong(self):\n",
    "        print(f\"{self}.pong() in Root\")\n",
    "\n",
    "    def __repr__(self):\n",
    "        return f\"<instance of {type(self).__name__}>\"\n",
    "\n",
    "\n",
    "class A(Root):\n",
    "    def ping(self):\n",
    "        print(f\"{self}.ping() in A\")\n",
    "        super().ping()\n",
    "\n",
    "    def pong(self):\n",
    "        print(f\"{self}.pong() in A\")\n",
    "        super().pong()\n",
    "\n",
    "\n",
    "class B(Root):\n",
    "    def ping(self):\n",
    "        print(f\"{self}.ping() in B\")\n",
    "        super().ping()\n",
    "\n",
    "    def pong(self):\n",
    "        print(f\"{self}.pong() in B\")\n",
    "        # Nie ma super()!\n",
    "\n",
    "\n",
    "class Leaf(A, B):\n",
    "    def ping(self):\n",
    "        print(f\"{self}.ping() in Leaf\")\n",
    "        super().ping()\n",
    "\n",
    "    # Nie ma pong()!"
   ]
  },
  {
   "cell_type": "code",
   "execution_count": 11,
   "metadata": {},
   "outputs": [
    {
     "name": "stdout",
     "output_type": "stream",
     "text": [
      "<instance of Leaf>.ping() in Leaf\n",
      "<instance of Leaf>.ping() in A\n",
      "<instance of Leaf>.ping() in B\n",
      "<instance of Leaf>.ping() in Root\n"
     ]
    }
   ],
   "source": [
    "leaf1 = Leaf()\n",
    "leaf1.ping()"
   ]
  },
  {
   "cell_type": "code",
   "execution_count": 12,
   "metadata": {},
   "outputs": [
    {
     "name": "stdout",
     "output_type": "stream",
     "text": [
      "<instance of Leaf>.pong() in A\n",
      "<instance of Leaf>.pong() in B\n"
     ]
    }
   ],
   "source": [
    "leaf1.pong()"
   ]
  },
  {
   "cell_type": "markdown",
   "metadata": {},
   "source": [
    "Sekwencje aktywowania metod są determinowane przez dwa czynniki:\n",
    "- kolejność ustalania metod w klasie `Leaf`\n",
    "- użycie `super()` w każdej metodzie\n",
    "\n",
    "Kolejność ustalania metod (method resolution order - mro) jest obliczane za pomocą algorytmu C3. Każda klasa ma atrybut o nazwie `__mro__`, który przechowuje krotkę zawierającą referencje do klas nadrzędnych w kolejności ustalania metod, w górę od klasy bieżącej aż do klasy `object`."
   ]
  },
  {
   "cell_type": "code",
   "execution_count": 13,
   "metadata": {},
   "outputs": [
    {
     "data": {
      "text/plain": [
       "(__main__.Leaf, __main__.A, __main__.B, __main__.Root, object)"
      ]
     },
     "execution_count": 13,
     "metadata": {},
     "output_type": "execute_result"
    }
   ],
   "source": [
    "Leaf.__mro__"
   ]
  },
  {
   "cell_type": "markdown",
   "metadata": {},
   "source": [
    "MRO ustala jedynie kolejność wywoływania, natomiast to, czy metoda zostanie aktywowana w każdej z tych klas, żależy od tego czy implementacja każdej z nich wywołuje `super()` czy nie. \n",
    "\n",
    "Zwróćmy uwagę na metodę `pong()`. Klasa `Leaf` jej nie przesłania, zatem wywołanie `leaf.pong()` aktywuje impementację zawartą w kolejnej klasie wymienionej przez MRO. Jest to klasa `A`. Metoda `A.pong()` wywołuje `super().pong()`. Klasa `B` jest następna w kolejności zatem aktywuje się metoda `B.pong()`. Jednak metoda `B.pong()` nie wywołuje `super().pong()` także sekwencja wywołań kończy się w tym miejscu.\n",
    "\n",
    "MRO bierze pod uwagę nie tylko graf dziedziczenia ale kolejność w jakiej klasy są wymienione w deklaracji podklasy."
   ]
  },
  {
   "cell_type": "code",
   "execution_count": 14,
   "metadata": {},
   "outputs": [],
   "source": [
    "class Leaf(B, A):\n",
    "    def ping(self):\n",
    "        print(f\"{self}.ping() in Leaf\")\n",
    "        super().ping()"
   ]
  },
  {
   "cell_type": "code",
   "execution_count": 15,
   "metadata": {},
   "outputs": [
    {
     "name": "stdout",
     "output_type": "stream",
     "text": [
      "<instance of Leaf>.ping() in Leaf\n",
      "<instance of Leaf>.ping() in B\n",
      "<instance of Leaf>.ping() in A\n",
      "<instance of Leaf>.ping() in Root\n"
     ]
    }
   ],
   "source": [
    "leaf2 = Leaf()\n",
    "leaf2.ping()"
   ]
  },
  {
   "cell_type": "code",
   "execution_count": 16,
   "metadata": {},
   "outputs": [
    {
     "name": "stdout",
     "output_type": "stream",
     "text": [
      "<instance of Leaf>.pong() in B\n"
     ]
    }
   ],
   "source": [
    "leaf2.pong()"
   ]
  },
  {
   "cell_type": "code",
   "execution_count": 17,
   "metadata": {},
   "outputs": [
    {
     "data": {
      "text/plain": [
       "(__main__.Leaf, __main__.B, __main__.A, __main__.Root, object)"
      ]
     },
     "execution_count": 17,
     "metadata": {},
     "output_type": "execute_result"
    }
   ],
   "source": [
    "Leaf.__mro__"
   ]
  },
  {
   "cell_type": "markdown",
   "metadata": {},
   "source": [
    "Gdy metoda wywołuje `super()`, nazywamy ją metodą kooperatywną. Takie metody umożliwiają mechanizm kooperatywnego dziedziczenia wielokrotnego. Wielokrotne dziedziczenie wymaga aktywnej współpracy metod. W klasie `B` metoda `ping()` współpracuje ale metoda `pong()` nie. Zalecane jest aby każda metoda w klasie nie będącej korzeniem wywoływała `super()`. Metody kooperatywne muszą mieć kompatybilne sygnatury, gdyż nie wiemy czy `A.ping()` wywoła się przed czy po `B.ping()`."
   ]
  },
  {
   "cell_type": "markdown",
   "metadata": {},
   "source": [
    "### Klasy domieszkowe"
   ]
  },
  {
   "cell_type": "markdown",
   "metadata": {},
   "source": [
    "Klasa domieszkowa (mixin class) jest projektowana w celu tworzenia podklas wspólnie z co najmniej jedną inną klasą w toku dziedziczenia wielokrotnego. Klasa taka dodaje lub dostosowuje pewne zachowania klas potomnych lub spokrewnionych. "
   ]
  },
  {
   "cell_type": "code",
   "execution_count": 19,
   "metadata": {},
   "outputs": [],
   "source": [
    "def _upper(key):\n",
    "    try:\n",
    "        return key.upper()\n",
    "    except AttributeError:\n",
    "        return key\n",
    "\n",
    "\n",
    "class UpperCaseMixin:\n",
    "    def __setitem__(self, key, value):\n",
    "        super().__setitem__(_upper(key), value)  # type: ignore\n",
    "\n",
    "    def __getitem__(self, key):\n",
    "        return super().__getitem__(_upper(key))  # type: ignore\n",
    "\n",
    "    def __contains__(self, key):\n",
    "        return super().__contains__(_upper(key))  # type: ignore\n",
    "\n",
    "    def get(self, key, default=None):\n",
    "        return super().get(_upper(key), default)  # type: ignore"
   ]
  },
  {
   "cell_type": "markdown",
   "metadata": {},
   "source": [
    "Ponieważ każda metoda w `UpperCaseMixin` wywołuje `super()`, ta klasa domieszkowa zależna jest od klas pokrewnych, które implementują lub dziedziczą metody o takiej samej sygnaturze. Aby uwzględnić jej wkład, musi ona wystąpić w MRO używającej jej klasy podrzędnej przed innymi klasami. Prkatycznie oznacza to, że klasa domieszki musi występować jako pierwsza w krotce klas bazowych w deklaracji klasy."
   ]
  },
  {
   "cell_type": "code",
   "execution_count": 20,
   "metadata": {},
   "outputs": [],
   "source": [
    "class UpperDict(UpperCaseMixin, collections.UserDict):\n",
    "    pass\n",
    "\n",
    "\n",
    "class UpperCounter(UpperCaseMixin, collections.Counter):\n",
    "    pass"
   ]
  },
  {
   "cell_type": "code",
   "execution_count": 24,
   "metadata": {},
   "outputs": [
    {
     "data": {
      "text/plain": [
       "['ABC', '2']"
      ]
     },
     "execution_count": 24,
     "metadata": {},
     "output_type": "execute_result"
    }
   ],
   "source": [
    "d = UpperDict({\"abc\": 1, \"2\": \"two\"})\n",
    "list(d.keys())"
   ]
  },
  {
   "cell_type": "code",
   "execution_count": 25,
   "metadata": {},
   "outputs": [
    {
     "data": {
      "text/plain": [
       "{'ABC': 1, '2': 'two', 'BBB': 'letter b'}"
      ]
     },
     "execution_count": 25,
     "metadata": {},
     "output_type": "execute_result"
    }
   ],
   "source": [
    "d[\"bbb\"] = \"letter b\"\n",
    "d"
   ]
  },
  {
   "cell_type": "code",
   "execution_count": 29,
   "metadata": {},
   "outputs": [
    {
     "data": {
      "text/plain": [
       "(True, 1, 'letter b')"
      ]
     },
     "execution_count": 29,
     "metadata": {},
     "output_type": "execute_result"
    }
   ],
   "source": [
    "\"bbb\" in d, d[\"abc\"], d.get(\"bbb\")"
   ]
  },
  {
   "cell_type": "code",
   "execution_count": 30,
   "metadata": {},
   "outputs": [
    {
     "data": {
      "text/plain": [
       "[('A', 5), ('B', 2), ('R', 2), (' ', 1), ('K', 1), ('D', 1)]"
      ]
     },
     "execution_count": 30,
     "metadata": {},
     "output_type": "execute_result"
    }
   ],
   "source": [
    "c = UpperCounter(\"Abra kadabra\")\n",
    "c.most_common()"
   ]
  },
  {
   "cell_type": "markdown",
   "metadata": {},
   "source": [
    "Nie używaj dziedziczenia."
   ]
  }
 ],
 "metadata": {
  "kernelspec": {
   "display_name": "Python 3",
   "language": "python",
   "name": "python3"
  },
  "language_info": {
   "codemirror_mode": {
    "name": "ipython",
    "version": 3
   },
   "file_extension": ".py",
   "mimetype": "text/x-python",
   "name": "python",
   "nbconvert_exporter": "python",
   "pygments_lexer": "ipython3",
   "version": "3.12.1"
  }
 },
 "nbformat": 4,
 "nbformat_minor": 2
}
