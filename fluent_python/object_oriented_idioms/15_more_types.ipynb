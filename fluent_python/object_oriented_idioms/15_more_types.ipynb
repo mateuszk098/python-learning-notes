{
 "cells": [
  {
   "cell_type": "markdown",
   "metadata": {},
   "source": [
    "### Przeciążone sygnatury"
   ]
  },
  {
   "cell_type": "markdown",
   "metadata": {},
   "source": [
    "Funkcje w Pythonie mogą przyjmować różne kombinacje argumentów. Dekorator `typing.overload` pozwala na adnotacje dla tych kombincji. Jest to ważne gdy typ zwracanej wartości zależy od typu dwóch lub więcej parametrów."
   ]
  },
  {
   "cell_type": "code",
   "execution_count": 1,
   "metadata": {},
   "outputs": [],
   "source": [
    "from functools import reduce\n",
    "from operator import add\n",
    "\n",
    "from typing import Iterable, Union, TypeVar, overload\n",
    "\n",
    "_T = TypeVar(\"_T\")\n",
    "_S = TypeVar(\"_S\")\n",
    "\n",
    "\n",
    "@overload\n",
    "def mysum(__it: Iterable[_T], /) -> Union[_T, int]: ...  # 1 sygnatura\n",
    "@overload\n",
    "def mysum(__it: Iterable[_T], /, start: _S) -> Union[_T, _S]: ...  # 2 sygnatura\n",
    "def mysum(__it, /, start=0):\n",
    "    return reduce(add, __it, start)"
   ]
  },
  {
   "cell_type": "markdown",
   "metadata": {},
   "source": [
    "Wielokropek `...` nie ma żadnej funkcji oprócz spełnienia wymogu syntaktycznego dla ciała funkcji, podobnie do `pass`. Dwa początkowe podkreślenia w `__it` stanowią konwencję z PEP 484 dla argumentów wyłącznie pozycyjnych, która jest wymuszana przez Mypy. \n",
    "\n",
    "Pierwsza sygnatura obsługuje prosty przypadek gdy typem zwracanego wyniku jest `_T` - typ elementów zwracanych przez `__it`, albo `int` jeśli obiekt iterowalny jest pusty bo domyślną wartością parametru `start` jest 0.\n",
    "\n",
    "Druga sygnatura obsługuje przypadek gdy podany jest argument `start`, który może być dowolnego typu `_S`, więc typem zwracanego wyniku jest `_T` lub `_S`. \n",
    "\n",
    "Sygnatura faktycznej implementacji nie ma żadnych wskazówek do typów."
   ]
  },
  {
   "cell_type": "code",
   "execution_count": 2,
   "metadata": {},
   "outputs": [
    {
     "data": {
      "text/plain": [
       "6"
      ]
     },
     "execution_count": 2,
     "metadata": {},
     "output_type": "execute_result"
    }
   ],
   "source": [
    "mysum([1, 2, 3])"
   ]
  },
  {
   "cell_type": "code",
   "execution_count": 3,
   "metadata": {},
   "outputs": [
    {
     "data": {
      "text/plain": [
       "'xabc'"
      ]
     },
     "execution_count": 3,
     "metadata": {},
     "output_type": "execute_result"
    }
   ],
   "source": [
    "mysum([\"a\", \"b\", \"c\"], start=\"x\")"
   ]
  },
  {
   "cell_type": "markdown",
   "metadata": {},
   "source": [
    "### Odczytywanie wskazówek do typów w czasie wykonywania programu"
   ]
  },
  {
   "cell_type": "code",
   "execution_count": 4,
   "metadata": {},
   "outputs": [],
   "source": [
    "def clip(text: str, max_len: int = 80) -> str: ..."
   ]
  },
  {
   "cell_type": "code",
   "execution_count": 5,
   "metadata": {},
   "outputs": [
    {
     "data": {
      "text/plain": [
       "{'text': str, 'max_len': int, 'return': str}"
      ]
     },
     "execution_count": 5,
     "metadata": {},
     "output_type": "execute_result"
    }
   ],
   "source": [
    "clip.__annotations__"
   ]
  },
  {
   "cell_type": "markdown",
   "metadata": {},
   "source": [
    "Klucz 'return' jest mapowany na wskazówek dla typu zwracanej wartości po symbolu '->'. \n",
    "\n",
    "Adnotacje są przetwarzane przez interpreter w czasie importu, wtedy gdy przetwarzane są też domyślne wartości parametrów. Dlatego właśnie wartości w adnotacjach są pythonicznymi klasami `str` i `int` a nie łańcuchami znaków 'str' i 'int'.\n",
    "\n",
    "- Importowanie modułów zużywa więcej zasobów procesora i pamięci, gdy używanych jest wiele wskazówek do typów.\n",
    "- Odwoływanie się do typów jeszcze niezdefiniowanych wymaga użycia łańcuchów tesktowych zamiast faktycznych typów."
   ]
  },
  {
   "cell_type": "code",
   "execution_count": 6,
   "metadata": {},
   "outputs": [],
   "source": [
    "class Rectangle:\n",
    "    def __init__(self, width: float, height: float) -> None:\n",
    "        self.width = width\n",
    "        self.height = height\n",
    "\n",
    "    def stretch(self, factor: float) -> \"Rectangle\":\n",
    "        return Rectangle(width=self.width * factor, height=self.height * factor)"
   ]
  },
  {
   "cell_type": "markdown",
   "metadata": {},
   "source": [
    "Ponieważ obiekt klasy nie jest jeszcze zdefiniowany, dopóki Python nie przetworzy zawartości klasy, wskazówki dla typów muszą używać nazwy klasy w postaci łańcucha. Jednakże w czasie wykonywania programu gdy odczytamy adnotacje, uzyskamy również łańcuch tekstowy zamiast faktyczny typ."
   ]
  },
  {
   "cell_type": "code",
   "execution_count": 7,
   "metadata": {},
   "outputs": [
    {
     "data": {
      "text/plain": [
       "{'factor': float, 'return': 'Rectangle'}"
      ]
     },
     "execution_count": 7,
     "metadata": {},
     "output_type": "execute_result"
    }
   ],
   "source": [
    "Rectangle.stretch.__annotations__"
   ]
  },
  {
   "cell_type": "code",
   "execution_count": 8,
   "metadata": {},
   "outputs": [
    {
     "data": {
      "text/plain": [
       "{'factor': float, 'return': 'Rectangle'}"
      ]
     },
     "execution_count": 8,
     "metadata": {},
     "output_type": "execute_result"
    }
   ],
   "source": [
    "import inspect\n",
    "\n",
    "inspect.get_annotations(Rectangle.stretch)"
   ]
  },
  {
   "cell_type": "code",
   "execution_count": 9,
   "metadata": {},
   "outputs": [
    {
     "data": {
      "text/plain": [
       "{'factor': float, 'return': __main__.Rectangle}"
      ]
     },
     "execution_count": 9,
     "metadata": {},
     "output_type": "execute_result"
    }
   ],
   "source": [
    "import typing\n",
    "\n",
    "typing.get_type_hints(Rectangle.stretch)"
   ]
  },
  {
   "cell_type": "markdown",
   "metadata": {},
   "source": [
    "Od wersji Pythona 3.7 adnotacje są obsługiwane zawsze w psotaci tesktowej jeżeli moduł zaweira import `from __future__ import annotations`. "
   ]
  },
  {
   "cell_type": "code",
   "execution_count": 11,
   "metadata": {},
   "outputs": [
    {
     "data": {
      "text/plain": [
       "{'factor': 'float', 'return': 'Rectangle'}"
      ]
     },
     "execution_count": 11,
     "metadata": {},
     "output_type": "execute_result"
    }
   ],
   "source": [
    "from __future__ import annotations\n",
    "\n",
    "\n",
    "class Rectangle:\n",
    "    def __init__(self, width: float, height: float) -> None:\n",
    "        self.width = width\n",
    "        self.height = height\n",
    "\n",
    "    def stretch(self, factor: float) -> Rectangle:\n",
    "        return Rectangle(width=self.width * factor, height=self.height * factor)\n",
    "\n",
    "\n",
    "Rectangle.stretch.__annotations__"
   ]
  },
  {
   "cell_type": "markdown",
   "metadata": {},
   "source": [
    "### Implementowanie klasy generycznej"
   ]
  },
  {
   "cell_type": "markdown",
   "metadata": {},
   "source": [
    "- Typ generyczny (ogólny) - typ deklarowany z jedną lub kilkoma zmiennymi typów:\n",
    "  - `LottoBlower[T]`,\n",
    "  - `abc.Mapping[KT, VT]`.\n",
    "- Formalny parametr typu - zmienne dla typów, które pojawiają się w deklaracji typu generycznego:\n",
    "  - `KT` i `VT` w poprzednim przykładzie.\n",
    "- Typ sparametryzowany - typ zadeklarowany z faktycznymi parametrami dla typów:\n",
    "  - `LottoBlower[int]`,\n",
    "  - `abc.Mapping[str, float]`.\n",
    "- Faktyczny parametr typu - faktyczne typy podawane jako parametry, gdy deklarowany typ jest sparametryzowany:\n",
    "  - `int` w `LottoBlower[int]`."
   ]
  },
  {
   "cell_type": "markdown",
   "metadata": {},
   "source": [
    "### Wariancja"
   ]
  },
  {
   "cell_type": "markdown",
   "metadata": {},
   "source": [
    "Wyobraźmy sobie, że szkolny bufet ma zasadę, że można instalować tylko dozowniki do soków owocowych. Generyczne dozowniki nie są dozwolone. Toto jak możemy to osiągnąć."
   ]
  },
  {
   "cell_type": "code",
   "execution_count": 14,
   "metadata": {},
   "outputs": [],
   "source": [
    "from typing import TypeVar, Generic\n",
    "\n",
    "\n",
    "class Beverage:\n",
    "    \"\"\"Dowolny napój.\"\"\"\n",
    "\n",
    "\n",
    "class Juice(Beverage):\n",
    "    \"\"\"Dowolny sok owocowy.\"\"\"\n",
    "\n",
    "\n",
    "class OrangeJuice(Juice):\n",
    "    \"\"\"Sok pomarańczowy.\"\"\"\n",
    "\n",
    "\n",
    "T = TypeVar(\"T\")\n",
    "\n",
    "\n",
    "class BeverageDispenser(Generic[T]):\n",
    "    \"\"\"Dozowonik parametryzowany według typu napoju.\"\"\"\n",
    "\n",
    "    def __init__(self, beverage: T) -> None:\n",
    "        self.beverage = beverage\n",
    "\n",
    "    def dispense(self) -> T:\n",
    "        return self.beverage\n",
    "\n",
    "\n",
    "def install(dispenser: BeverageDispenser[Juice]) -> None:\n",
    "    \"\"\"Zainstaluj dozownik soku owocowego.\"\"\""
   ]
  },
  {
   "cell_type": "markdown",
   "metadata": {},
   "source": [
    "`Beverage`, `Juice` i `OrangeJuice` tworzą hierarchię typów dla napojów. `BeverageDispenser` jest sparametryzowany typem napoju. Funkcja `install()` jest funkcją globalną w module. Jej wskazówka dla typu wymusza regułę, że dopuszczalny jest tylko dozownik soków."
   ]
  },
  {
   "cell_type": "code",
   "execution_count": 15,
   "metadata": {},
   "outputs": [],
   "source": [
    "juice_dispenser = BeverageDispenser(Juice())\n",
    "install(juice_dispenser)  # OK"
   ]
  },
  {
   "cell_type": "code",
   "execution_count": null,
   "metadata": {},
   "outputs": [],
   "source": [
    "beverage_dispenser = BeverageDispenser(Beverage())\n",
    "install(beverage_dispenser)  # Błąd\n",
    "\n",
    "# Argument of type \"BeverageDispenser[Beverage]\" cannot be assigned to parameter\n",
    "# \"dispenser\" of type \"BeverageDispenser[Juice]\" in function \"install\"\n",
    "# \"BeverageDispenser[Beverage]\" is incompatible with \"BeverageDispenser[Juice]\"\n",
    "# Type parameter \"T@BeverageDispenser\" is invariant, but \"Beverage\" is not the same as \"Juice\""
   ]
  },
  {
   "cell_type": "markdown",
   "metadata": {},
   "source": [
    "Dozownik obsługujący dowolny typ `Beverage` nie jest dopuszczalny, ponieważ bufet wymaga dozownika wyspecjalizowanego w podawaniu `Juice`."
   ]
  },
  {
   "cell_type": "code",
   "execution_count": 16,
   "metadata": {},
   "outputs": [],
   "source": [
    "orange_juice_dispenser = BeverageDispenser(OrangeJuice())\n",
    "install(orange_juice_dispenser)  # Zaskakujący błąd!"
   ]
  },
  {
   "cell_type": "markdown",
   "metadata": {},
   "source": [
    "Dozownik specjalizujący się w `OrangeJuice` również nie jest dozwolony. Dopuszczalny jest jedynie `BeverageDispenser[Juice]`. W żargonie związanym z typowaniem mówimy, że `BeverageDispenser(Generic[T])` jest typem bezwariantowym (niezmienniczym), gdy `BeverageDispenser[OrangeJuice]` nie jest kompatybilny z `BeverageDispenser[Juice]` - pomimo faktu, że `OrangeJuice` jest podtypem `Juice`. Typy zmiennych kolekcji w Pythonie - takie jak `list`, `set` są bezwariantowe."
   ]
  },
  {
   "cell_type": "markdown",
   "metadata": {},
   "source": [
    "### Kowariancja"
   ]
  },
  {
   "cell_type": "markdown",
   "metadata": {},
   "source": [
    "Jeżeli chcemy być bardziej elastyczni i modelować dozownik jako klasę generyczną, która może przyjmować jakiś typ napoju a także jego podtypy, musimy uczynić go kowariantnym."
   ]
  },
  {
   "cell_type": "code",
   "execution_count": 22,
   "metadata": {},
   "outputs": [],
   "source": [
    "T_co = TypeVar(\"T_co\", covariant=True)\n",
    "\n",
    "\n",
    "class BeverageDispenser(Generic[T_co]):\n",
    "    def __init__(self, beverage: T_co) -> None:\n",
    "        self.beverage = beverage\n",
    "\n",
    "    def dispense(self) -> T_co:\n",
    "        return self.beverage\n",
    "\n",
    "\n",
    "def install(dispenser: BeverageDispenser[Juice]) -> None:\n",
    "    \"\"\"Zainstaluj dozownik soku owocowego.\"\"\""
   ]
  },
  {
   "cell_type": "code",
   "execution_count": 23,
   "metadata": {},
   "outputs": [],
   "source": [
    "juice_dispenser = BeverageDispenser(Juice())\n",
    "install(juice_dispenser)  # OK"
   ]
  },
  {
   "cell_type": "code",
   "execution_count": 24,
   "metadata": {},
   "outputs": [],
   "source": [
    "orange_juice_dispenser = BeverageDispenser(OrangeJuice())\n",
    "install(orange_juice_dispenser)  # OK"
   ]
  },
  {
   "cell_type": "code",
   "execution_count": 25,
   "metadata": {},
   "outputs": [],
   "source": [
    "beverage_dispenser = BeverageDispenser(Beverage())\n",
    "install(beverage_dispenser)  # Błąd"
   ]
  },
  {
   "cell_type": "markdown",
   "metadata": {},
   "source": [
    "To właśnie jest kowariancja: relacja podtypu w sparametryzowanych dozownikach określona jest w tym samym kierunku, co relacja podtypu dla parametrów typów."
   ]
  },
  {
   "cell_type": "markdown",
   "metadata": {},
   "source": [
    "### Kontrawariancja"
   ]
  },
  {
   "cell_type": "markdown",
   "metadata": {},
   "source": [
    "Zamodelujemy regułę bufetu dotyczącą pojemników na śmieci. Załóżmy, że jedzenie i napoje są serwowane w biodegradowalnych naczyniach, a resztki i sztućce jednorazowe również są biodegradowalne. Pojemniki na śmieci muszą być odpowiednie dla odpadów biodegradowalnych."
   ]
  },
  {
   "cell_type": "code",
   "execution_count": 27,
   "metadata": {},
   "outputs": [],
   "source": [
    "class Refuse:\n",
    "    \"\"\"Dowolne śmieci.\"\"\"\n",
    "\n",
    "\n",
    "class Biodegradable(Refuse):\n",
    "    \"\"\"Biodegradowalne śmieci.\"\"\"\n",
    "\n",
    "\n",
    "class Compostable(Biodegradable):\n",
    "    \"\"\"Kompostowalne śmieci.\"\"\"\n",
    "\n",
    "\n",
    "T_contra = TypeVar(\"T_contra\", contravariant=True)\n",
    "\n",
    "\n",
    "class TrashCan(Generic[T_contra]):\n",
    "    def put(self, refuse: T_contra) -> None:\n",
    "        \"\"\"Przechowaj śmieci.\"\"\"\n",
    "\n",
    "\n",
    "def deploy(trash_can: TrashCan[Biodegradable]) -> None:\n",
    "    \"\"\"Dostarcz pojemnik na biodegradowalne śmieci.\"\"\""
   ]
  },
  {
   "cell_type": "code",
   "execution_count": 28,
   "metadata": {},
   "outputs": [],
   "source": [
    "bio_can: TrashCan[Biodegradable] = TrashCan()\n",
    "deploy(bio_can)  # OK"
   ]
  },
  {
   "cell_type": "code",
   "execution_count": 29,
   "metadata": {},
   "outputs": [],
   "source": [
    "trash_can: TrashCan[Refuse] = TrashCan()\n",
    "deploy(trash_can)  # OK"
   ]
  },
  {
   "cell_type": "code",
   "execution_count": 30,
   "metadata": {},
   "outputs": [],
   "source": [
    "compost_can: TrashCan[Compostable] = TrashCan()\n",
    "deploy(compost_can)  # Błąd\n",
    "\n",
    "# Argument of type \"TrashCan[Compostable]\" cannot be assigned to parameter \"trash_can\" of type \"TrashCan[Biodegradable]\" in function \"deploy\"\n",
    "#   \"TrashCan[Compostable]\" is incompatible with \"TrashCan[Biodegradable]\"\n",
    "#     Type parameter \"T_contra@TrashCan\" is contravariant, but \"Compostable\" is not a supertype of \"Biodegradable\"\n",
    "#       \"Biodegradable\" is incompatible with \"Compostable\""
   ]
  }
 ],
 "metadata": {
  "kernelspec": {
   "display_name": "Python 3",
   "language": "python",
   "name": "python3"
  },
  "language_info": {
   "codemirror_mode": {
    "name": "ipython",
    "version": 3
   },
   "file_extension": ".py",
   "mimetype": "text/x-python",
   "name": "python",
   "nbconvert_exporter": "python",
   "pygments_lexer": "ipython3",
   "version": "3.12.1"
  }
 },
 "nbformat": 4,
 "nbformat_minor": 2
}
