{
 "cells": [
  {
   "cell_type": "markdown",
   "metadata": {},
   "source": [
    "### Python lubi sekwencje"
   ]
  },
  {
   "cell_type": "code",
   "execution_count": 1,
   "metadata": {},
   "outputs": [],
   "source": [
    "import collections\n",
    "\n",
    "Card = collections.namedtuple(\"Card\", (\"rank\", \"suit\"))\n",
    "\n",
    "\n",
    "class FrenchDeck:\n",
    "    ranks = [str(n) for n in range(2, 11)] + list(\"JQKA\")\n",
    "    suits = \"spades diamonds clubs hearts\".split()\n",
    "\n",
    "    def __init__(self):\n",
    "        self._cards = [Card(rank, suit) for suit in self.suits for rank in self.ranks]\n",
    "\n",
    "    def __len__(self):\n",
    "        return len(self._cards)\n",
    "\n",
    "    def __getitem__(self, position):\n",
    "        return self._cards[position]"
   ]
  },
  {
   "cell_type": "code",
   "execution_count": 2,
   "metadata": {},
   "outputs": [
    {
     "name": "stdout",
     "output_type": "stream",
     "text": [
      "True\n",
      "Card(rank='2', suit='spades')\n",
      "Card(rank='3', suit='spades')\n",
      "Card(rank='4', suit='spades')\n",
      "Card(rank='5', suit='spades')\n",
      "Card(rank='6', suit='spades')\n"
     ]
    }
   ],
   "source": [
    "deck = FrenchDeck()\n",
    "\n",
    "print(Card('2', 'spades') in deck)\n",
    "for card in deck[:5]:\n",
    "    print(card)"
   ]
  },
  {
   "cell_type": "markdown",
   "metadata": {},
   "source": [
    "Poprawna podklasa `Sequence` musi implementować `__getitem__` i `__len__`. Wszystkie inne metody w `Sequence` są konkretne więc podklasy mogą je dziedziczyć. Zauważmy, że nie ma metody `__iter__` a jednak `FrenchDeck` można iterować, ponieważ gdy Python natrafia na metodę `__getitem__`, próbuje iterować po obiekcie, wywołując tę metodę z indeksami całkowitymi. Ponieważ Python radzi sobie z iterowaniem, to można też korzystać z operatora `in`, mimo że brakuje metody `__contains__`, która wykonuje sekwencyjne skanowanie. Zachowania te są implementowane w samym interpreterze, głównie w języku C."
   ]
  },
  {
   "cell_type": "markdown",
   "metadata": {},
   "source": [
    "### Małpie łatanie"
   ]
  },
  {
   "cell_type": "markdown",
   "metadata": {},
   "source": [
    "Małpie łątanie to dynamiczne zmienianie modułu, klasy lub funkcji w trakcie wykonywania programu, aby dodawać nowe funkcje lub naprawiać błędy. Przykładowo zastosujmy małpie łatanie dla klasy `FrenchDeck` tak aby zapewnić możliwość tasowania (obecnie nie jest to możliwe ze względu na brak metody `__setitem__`)."
   ]
  },
  {
   "cell_type": "code",
   "execution_count": 3,
   "metadata": {},
   "outputs": [
    {
     "ename": "TypeError",
     "evalue": "'FrenchDeck' object does not support item assignment",
     "output_type": "error",
     "traceback": [
      "\u001b[1;31m---------------------------------------------------------------------------\u001b[0m",
      "\u001b[1;31mTypeError\u001b[0m                                 Traceback (most recent call last)",
      "Cell \u001b[1;32mIn[3], line 4\u001b[0m\n\u001b[0;32m      1\u001b[0m \u001b[38;5;28;01mimport\u001b[39;00m \u001b[38;5;21;01mrandom\u001b[39;00m\n\u001b[0;32m      3\u001b[0m deck \u001b[38;5;241m=\u001b[39m FrenchDeck()\n\u001b[1;32m----> 4\u001b[0m \u001b[43mrandom\u001b[49m\u001b[38;5;241;43m.\u001b[39;49m\u001b[43mshuffle\u001b[49m\u001b[43m(\u001b[49m\u001b[43mdeck\u001b[49m\u001b[43m)\u001b[49m\n",
      "File \u001b[1;32mc:\\Programy\\Python\\Python310\\lib\\random.py:394\u001b[0m, in \u001b[0;36mRandom.shuffle\u001b[1;34m(self, x, random)\u001b[0m\n\u001b[0;32m    391\u001b[0m     \u001b[38;5;28;01mfor\u001b[39;00m i \u001b[38;5;129;01min\u001b[39;00m \u001b[38;5;28mreversed\u001b[39m(\u001b[38;5;28mrange\u001b[39m(\u001b[38;5;241m1\u001b[39m, \u001b[38;5;28mlen\u001b[39m(x))):\n\u001b[0;32m    392\u001b[0m         \u001b[38;5;66;03m# pick an element in x[:i+1] with which to exchange x[i]\u001b[39;00m\n\u001b[0;32m    393\u001b[0m         j \u001b[38;5;241m=\u001b[39m randbelow(i \u001b[38;5;241m+\u001b[39m \u001b[38;5;241m1\u001b[39m)\n\u001b[1;32m--> 394\u001b[0m         x[i], x[j] \u001b[38;5;241m=\u001b[39m x[j], x[i]\n\u001b[0;32m    395\u001b[0m \u001b[38;5;28;01melse\u001b[39;00m:\n\u001b[0;32m    396\u001b[0m     _warn(\u001b[38;5;124m'\u001b[39m\u001b[38;5;124mThe *random* parameter to shuffle() has been deprecated\u001b[39m\u001b[38;5;130;01m\\n\u001b[39;00m\u001b[38;5;124m'\u001b[39m\n\u001b[0;32m    397\u001b[0m           \u001b[38;5;124m'\u001b[39m\u001b[38;5;124msince Python 3.9 and will be removed in a subsequent \u001b[39m\u001b[38;5;124m'\u001b[39m\n\u001b[0;32m    398\u001b[0m           \u001b[38;5;124m'\u001b[39m\u001b[38;5;124mversion.\u001b[39m\u001b[38;5;124m'\u001b[39m,\n\u001b[0;32m    399\u001b[0m           \u001b[38;5;167;01mDeprecationWarning\u001b[39;00m, \u001b[38;5;241m2\u001b[39m)\n",
      "\u001b[1;31mTypeError\u001b[0m: 'FrenchDeck' object does not support item assignment"
     ]
    }
   ],
   "source": [
    "import random\n",
    "\n",
    "deck = FrenchDeck()\n",
    "random.shuffle(deck)"
   ]
  },
  {
   "cell_type": "code",
   "execution_count": 4,
   "metadata": {},
   "outputs": [
    {
     "data": {
      "text/plain": [
       "[Card(rank='Q', suit='spades'),\n",
       " Card(rank='J', suit='spades'),\n",
       " Card(rank='9', suit='clubs'),\n",
       " Card(rank='6', suit='spades'),\n",
       " Card(rank='8', suit='spades')]"
      ]
     },
     "execution_count": 4,
     "metadata": {},
     "output_type": "execute_result"
    }
   ],
   "source": [
    "def set_card(deck, position, card):\n",
    "    deck._cards[position] = card\n",
    "\n",
    "\n",
    "FrenchDeck.__setitem__ = set_card\n",
    "random.shuffle(deck)\n",
    "deck[:5]"
   ]
  },
  {
   "cell_type": "markdown",
   "metadata": {},
   "source": [
    "### Programowanie defensywne - szybkie porażki"
   ]
  },
  {
   "cell_type": "code",
   "execution_count": 5,
   "metadata": {},
   "outputs": [],
   "source": [
    "# Kacze typowanie do obsługi łańcucha znaków lub iterowalnego obiektu z łańcuchami znaków.\n",
    "field_names = [\"card\", \"suit\"]\n",
    "\n",
    "try:\n",
    "    field_names = field_names.replace(\",\", \" \").split()\n",
    "except:\n",
    "    pass\n",
    "\n",
    "field_names = tuple(field_names)\n",
    "if not all(s.isidentifier() for s in field_names):\n",
    "    raise TypeError(\"field_names names must be valid identifiers\")"
   ]
  },
  {
   "cell_type": "markdown",
   "metadata": {},
   "source": [
    "### Gęsie typowanie"
   ]
  },
  {
   "cell_type": "markdown",
   "metadata": {},
   "source": [
    "Gęsie typowanie obejmuje:\n",
    "- Tworzenie podklas z abstrakcyjnej klasy bazowej aby było jasne, że implementujemy wcześniej zdefiniowany interfejs.\n",
    "- Sprawdzanie typów w czasie wykonywania programu przy użyciu klas ABC."
   ]
  },
  {
   "cell_type": "code",
   "execution_count": 6,
   "metadata": {},
   "outputs": [],
   "source": [
    "from collections import namedtuple, abc\n",
    "\n",
    "Card = namedtuple(\"Card\", [\"rank\", \"suit\"])\n",
    "\n",
    "\n",
    "class FrenchDeck(abc.MutableSequence):\n",
    "    ranks = [str(n) for n in range(2, 11)] + list(\"JQKA\")\n",
    "    suits = \"spades diamonds clubs hearts\".split()\n",
    "\n",
    "    def __init__(self):\n",
    "        self._cards = [Card(rank, suit) for suit in self.suits for rank in self.ranks]\n",
    "\n",
    "    # Sekwencje muszą implementować __len__ i __getitem__\n",
    "    def __len__(self):\n",
    "        return len(self._cards)\n",
    "\n",
    "    def __getitem__(self, position):\n",
    "        return self._cards[position]\n",
    "\n",
    "    # MutableSequence wymaga implementacji __setitem__, __delitem__, insert\n",
    "    # mimo, że nie będziemy ich używać.\n",
    "    def __setitem__(self, position, card):\n",
    "        self._cards[position] = card\n",
    "\n",
    "    def __delitem__(self, position):\n",
    "        del self._cards[position]\n",
    "\n",
    "    def insert(self, position, card):\n",
    "        self._cards.insert(position, card)"
   ]
  },
  {
   "cell_type": "markdown",
   "metadata": {},
   "source": [
    "### Tworzenie i wykorzystywanie własnej abstrakcyjnej klasy bazowej"
   ]
  },
  {
   "cell_type": "markdown",
   "metadata": {},
   "source": [
    "Abstrakcyjne klasy bazowe, podobnie jak deskryptory i metaklasy, to narzędzia do budowania platform programistycznych. Jedynie niewielka (< 0.1%) część programistów Pythona będzie tworzyć klasy ABC, bez wprowadzania niepotrzebnych ograniczeń."
   ]
  },
  {
   "cell_type": "code",
   "execution_count": 7,
   "metadata": {},
   "outputs": [],
   "source": [
    "import abc\n",
    "\n",
    "from abc import ABCMeta\n",
    "\n",
    "\n",
    "class Tombola(abc.ABC):\n",
    "    @abc.abstractmethod\n",
    "    def load(self, iterable):\n",
    "        \"\"\"Dodaje elementy z iterable\"\"\"\n",
    "\n",
    "    @abc.abstractmethod\n",
    "    def pick(self):\n",
    "        \"\"\"Losuje element, usuwa go z bębna i zwraca\"\"\"\n",
    "\n",
    "    def loaded(self):\n",
    "        \"\"\"Zwraca True jeśli w bębnie znajdują się jakieś elementy\"\"\"\n",
    "        return bool(self.inspect())\n",
    "\n",
    "    def inspect(self):\n",
    "        \"\"\"Zwraca tuple z elementami w bębnie\"\"\"\n",
    "        items = []\n",
    "        while True:\n",
    "            try:\n",
    "                items.append(self.pick())\n",
    "            except LookupError:\n",
    "                break\n",
    "        self.load(items)\n",
    "        return tuple(items)"
   ]
  },
  {
   "cell_type": "markdown",
   "metadata": {},
   "source": [
    "Kod dla metody `inspect()` nie jest zbyt sensowny ale pokazuje, że polegając na `pick()` oraz `load()` możemy zbadać co jest wewnątrz obiektu `Tombola`, wybierając te elementy i ładując je z powrotem, bez wiedzy na temat tego jak są przechowywane. Celem tego jest pokazanie, że w klasach ABC mogą być implementowane konkretne metody o ile zależą one tylko od innych metod w interfejsie."
   ]
  },
  {
   "cell_type": "code",
   "execution_count": 8,
   "metadata": {},
   "outputs": [],
   "source": [
    "class Fake(Tombola):\n",
    "    def __init__(self):\n",
    "        pass\n",
    "\n",
    "    def pick(self):\n",
    "        return 0"
   ]
  },
  {
   "cell_type": "code",
   "execution_count": 9,
   "metadata": {},
   "outputs": [
    {
     "ename": "TypeError",
     "evalue": "Can't instantiate abstract class Fake with abstract method load",
     "output_type": "error",
     "traceback": [
      "\u001b[1;31m---------------------------------------------------------------------------\u001b[0m",
      "\u001b[1;31mTypeError\u001b[0m                                 Traceback (most recent call last)",
      "Cell \u001b[1;32mIn[9], line 3\u001b[0m\n\u001b[0;32m      1\u001b[0m \u001b[38;5;66;03m# Nie możemy utworzyć instancji klasy\u001b[39;00m\n\u001b[0;32m      2\u001b[0m \u001b[38;5;66;03m# jeśli nie implementuje ona metod abstrakcyjnych z klasy ABC\u001b[39;00m\n\u001b[1;32m----> 3\u001b[0m fake \u001b[38;5;241m=\u001b[39m \u001b[43mFake\u001b[49m\u001b[43m(\u001b[49m\u001b[43m)\u001b[49m\n",
      "\u001b[1;31mTypeError\u001b[0m: Can't instantiate abstract class Fake with abstract method load"
     ]
    }
   ],
   "source": [
    "# Nie możemy utworzyć instancji klasy\n",
    "# jeśli nie implementuje ona metod abstrakcyjnych z klasy ABC\n",
    "fake = Fake() "
   ]
  },
  {
   "cell_type": "code",
   "execution_count": 10,
   "metadata": {},
   "outputs": [],
   "source": [
    "class MyABC(abc.ABC):\n",
    "    @classmethod\n",
    "    @abc.abstractmethod\n",
    "    def an_abstract_classmethod(cls, *args, **kwargs):\n",
    "        pass"
   ]
  },
  {
   "cell_type": "markdown",
   "metadata": {},
   "source": [
    "Możemy łączyć dekoratory w interfejsach ale pod warunkiem, że dekorator `abc.abstractmethod` jest stosowany jako najbardziej wewnętrzny dekorator, tzn.  pomiędzy sygnaturą funkcji a dekoratorem `abc.abstractmethod` nie znajduje się nic innego."
   ]
  },
  {
   "cell_type": "code",
   "execution_count": 11,
   "metadata": {},
   "outputs": [],
   "source": [
    "class BingoCage(Tombola):\n",
    "    def __init__(self, items):\n",
    "        self._randomizer = random.SystemRandom()\n",
    "        self._items = []\n",
    "        self.load(items)\n",
    "\n",
    "    def load(self, items):\n",
    "        self._items.extend(items)\n",
    "        self._randomizer.shuffle(self._items)\n",
    "\n",
    "    def pick(self):\n",
    "        try:\n",
    "            return self._items.pop()\n",
    "        except IndexError:\n",
    "            raise LookupError(\"pick from empty BingoCage\")\n",
    "\n",
    "    def __call__(self):\n",
    "        return self.pick()"
   ]
  },
  {
   "cell_type": "code",
   "execution_count": 12,
   "metadata": {},
   "outputs": [
    {
     "data": {
      "text/plain": [
       "(6, 3, 7, 2, 9, 0, 1, 4, 5, 8)"
      ]
     },
     "execution_count": 12,
     "metadata": {},
     "output_type": "execute_result"
    }
   ],
   "source": [
    "bingo = BingoCage(range(10))\n",
    "bingo.inspect()"
   ]
  },
  {
   "cell_type": "code",
   "execution_count": 13,
   "metadata": {},
   "outputs": [
    {
     "data": {
      "text/plain": [
       "3"
      ]
     },
     "execution_count": 13,
     "metadata": {},
     "output_type": "execute_result"
    }
   ],
   "source": [
    "bingo()"
   ]
  },
  {
   "cell_type": "code",
   "execution_count": 14,
   "metadata": {},
   "outputs": [],
   "source": [
    "class LottoBlower(Tombola):\n",
    "    def __init__(self, iterable):\n",
    "        self._balls = list(iterable)  # Programowanie defensywne - szybka porażka\n",
    "\n",
    "    def load(self, iterable):\n",
    "        self._balls.extend(iterable)\n",
    "\n",
    "    def pick(self):\n",
    "        try:\n",
    "            position = random.randrange(len(self._balls))\n",
    "        except ValueError:\n",
    "            raise LookupError(\"pick from empty LottoBlower\")\n",
    "        return self._balls.pop(position)\n",
    "\n",
    "    def loaded(self):\n",
    "        return bool(self._balls)\n",
    "\n",
    "    def inspect(self):\n",
    "        return tuple(self._balls)"
   ]
  },
  {
   "cell_type": "code",
   "execution_count": 15,
   "metadata": {},
   "outputs": [
    {
     "data": {
      "text/plain": [
       "(0, 1, 2, 3, 4, 5, 6, 7, 8, 9)"
      ]
     },
     "execution_count": 15,
     "metadata": {},
     "output_type": "execute_result"
    }
   ],
   "source": [
    "blower = LottoBlower(range(10))\n",
    "blower.inspect()"
   ]
  },
  {
   "cell_type": "code",
   "execution_count": 16,
   "metadata": {},
   "outputs": [
    {
     "data": {
      "text/plain": [
       "8"
      ]
     },
     "execution_count": 16,
     "metadata": {},
     "output_type": "execute_result"
    }
   ],
   "source": [
    "blower.pick()"
   ]
  },
  {
   "cell_type": "markdown",
   "metadata": {},
   "source": [
    "### Wirtualna podklasa abstrakcyjnej klasy bazowej"
   ]
  },
  {
   "cell_type": "code",
   "execution_count": 18,
   "metadata": {},
   "outputs": [],
   "source": [
    "from random import randrange\n",
    "\n",
    "\n",
    "@Tombola.register  # Rejestrujemy TomboList jako wirtualną podklasę klasy Tombola\n",
    "class TomboList(list):\n",
    "    def pick(self):\n",
    "        if self:\n",
    "            position = randrange(len(self))\n",
    "            return self.pop(position)\n",
    "        else:\n",
    "            raise LookupError(\"pop from empty TomboList\")\n",
    "\n",
    "    load = list.extend\n",
    "\n",
    "    def loaded(self):\n",
    "        return bool(self)\n",
    "\n",
    "    def inspect(self):\n",
    "        return tuple(self)\n",
    "\n",
    "\n",
    "# Można też tak\n",
    "# Tombola.register(TomboList)"
   ]
  },
  {
   "cell_type": "code",
   "execution_count": 19,
   "metadata": {},
   "outputs": [
    {
     "data": {
      "text/plain": [
       "True"
      ]
     },
     "execution_count": 19,
     "metadata": {},
     "output_type": "execute_result"
    }
   ],
   "source": [
    "issubclass(TomboList, Tombola)"
   ]
  },
  {
   "cell_type": "code",
   "execution_count": 20,
   "metadata": {},
   "outputs": [
    {
     "data": {
      "text/plain": [
       "True"
      ]
     },
     "execution_count": 20,
     "metadata": {},
     "output_type": "execute_result"
    }
   ],
   "source": [
    "isinstance(TomboList(), Tombola)"
   ]
  },
  {
   "cell_type": "code",
   "execution_count": 21,
   "metadata": {},
   "outputs": [
    {
     "data": {
      "text/plain": [
       "(__main__.TomboList, list, object)"
      ]
     },
     "execution_count": 21,
     "metadata": {},
     "output_type": "execute_result"
    }
   ],
   "source": [
    "TomboList.__mro__"
   ]
  },
  {
   "cell_type": "markdown",
   "metadata": {},
   "source": [
    "### Typowanie strukturalne z ABC"
   ]
  },
  {
   "cell_type": "markdown",
   "metadata": {},
   "source": [
    "Klasy `ABC` są zwykle używane przy typowaniu nominalnym. Gdy klasa `Sub` jawnie dziedziczy po klasie `AnABC` albo jest rejestrowana w `AnABC`, nazwa `AnABC` jest łączona z klasą `Sub`. Właśnie dlatego w czasie wykonywania programu wywołanie `issubclass(AnABC, Sub)` zwraca `True`.\n",
    "\n",
    "Natomiast typowanie strukturalne patrzy na strukturę publicznego interfejsu obiektu w celu określenia jego typu. Obiekt jest spójny z danym typem jeśli implementuje metody zdefiniowane w tym typie. Dynamiczne i statyczne kacze typowanie stanowią dwa podejścia do typowania strukturalnego."
   ]
  },
  {
   "cell_type": "code",
   "execution_count": 24,
   "metadata": {},
   "outputs": [],
   "source": [
    "from collections import abc\n",
    "\n",
    "\n",
    "class Struggle:\n",
    "    def __len__(self):\n",
    "        return 0"
   ]
  },
  {
   "cell_type": "code",
   "execution_count": 25,
   "metadata": {},
   "outputs": [
    {
     "data": {
      "text/plain": [
       "True"
      ]
     },
     "execution_count": 25,
     "metadata": {},
     "output_type": "execute_result"
    }
   ],
   "source": [
    "isinstance(Struggle(), abc.Sized)"
   ]
  },
  {
   "cell_type": "code",
   "execution_count": 26,
   "metadata": {},
   "outputs": [
    {
     "data": {
      "text/plain": [
       "True"
      ]
     },
     "execution_count": 26,
     "metadata": {},
     "output_type": "execute_result"
    }
   ],
   "source": [
    "issubclass(Struggle, abc.Sized)"
   ]
  },
  {
   "cell_type": "markdown",
   "metadata": {},
   "source": [
    "Okazuje się, że niektóre klasy `ABC` również obsługują typowanie strukturalne. Klasa może być uznana za podklasę klasy `ABC` nawet bez rejestracji. Klasa `Struggle` jest traktowana jako podklasa `abc.Sized`, ponieważ implementuje specjalną metodę klasy o nazwie `__sublcasshook__`. Metoda ta sprawcza czy argument klasy ma atrybut o nazwie `__len__`. Jeśli tak to jest traktowana jako podklasa klasy `abc.Sized`. "
   ]
  },
  {
   "cell_type": "code",
   "execution_count": 34,
   "metadata": {},
   "outputs": [],
   "source": [
    "import abc\n",
    "\n",
    "from abc import ABCMeta\n",
    "\n",
    "\n",
    "class Sized(metaclass=ABCMeta):\n",
    "    __slots__ = ()\n",
    "\n",
    "    @abc.abstractmethod\n",
    "    def __len__(self):\n",
    "        return 0\n",
    "\n",
    "    @classmethod\n",
    "    def __subclasshook__(cls, C):\n",
    "        if cls is Sized:\n",
    "            if any(\"__len__\" in B.__dict__ for B in C.__mro__):\n",
    "                return True\n",
    "        return NotImplemented"
   ]
  },
  {
   "cell_type": "markdown",
   "metadata": {},
   "source": [
    "### Protokoły statyczne"
   ]
  },
  {
   "cell_type": "markdown",
   "metadata": {},
   "source": [
    "Bez protokołów statycznych nie ma praktycznego sposobu na dodanie wskazówek do typów dla poniższej funkcji `double()` bez ograniczania jej możliwych zastosowań. Poza tym funkcja `double()` będzie działać nawet z typami z przyszłości o ile implementują metodę `__mul__`."
   ]
  },
  {
   "cell_type": "code",
   "execution_count": 36,
   "metadata": {},
   "outputs": [
    {
     "name": "stdout",
     "output_type": "stream",
     "text": [
      "3.0\n",
      "abcabc\n",
      "[1, 2, 3, 1, 2, 3]\n"
     ]
    }
   ],
   "source": [
    "def double(x):\n",
    "    return x * 2\n",
    "\n",
    "print(double(1.5))\n",
    "print(double(\"abc\"))\n",
    "print(double([1, 2, 3]))"
   ]
  },
  {
   "cell_type": "markdown",
   "metadata": {},
   "source": [
    "Obecnie dzięki `typing.Protocol` możemy poinformować narzędzie do statycznego sprawdzania typów, takiego jak `Mypy`, że typ `double` przyjmuje argument `x`, który obsługuje operację `x * 2`, implementuje metodę `__mul__`."
   ]
  },
  {
   "cell_type": "code",
   "execution_count": 37,
   "metadata": {},
   "outputs": [],
   "source": [
    "from typing import TypeVar, Protocol\n",
    "\n",
    "T = TypeVar(\"T\")\n",
    "\n",
    "\n",
    "class Repeatable(Protocol):\n",
    "    def __mul__(self: T, repeats: int) -> T:\n",
    "        ..."
   ]
  },
  {
   "cell_type": "code",
   "execution_count": 38,
   "metadata": {},
   "outputs": [],
   "source": [
    "RT = TypeVar(\"RT\", bound=Repeatable)\n",
    "\n",
    "\n",
    "def double(x: RT) -> RT:\n",
    "    return x * 2"
   ]
  },
  {
   "cell_type": "markdown",
   "metadata": {},
   "source": [
    "Zmienna `RT` jest ograniczona przez protokół `Repeatable`. Teraz narzędzie do sprawdzania typów będzie wymagać aby faktyczny typ implementował `Repeatable`. Ponadto narzędzie do sprawdzania typów będzie w stanie weryfikować, że parametr `x` jest obiektem, który może być mnożony przez liczbę całkowitą, a wartość zwracana ma taki sam typ co `x`. Nominalny typ `x` nie jest ważny o ile \"kwacze\" - implementuje `__mul__`."
   ]
  },
  {
   "cell_type": "markdown",
   "metadata": {},
   "source": [
    "### Własny protokół statyczny"
   ]
  },
  {
   "cell_type": "code",
   "execution_count": 50,
   "metadata": {},
   "outputs": [],
   "source": [
    "from typing import Protocol, runtime_checkable, Any\n",
    "\n",
    "\n",
    "@runtime_checkable\n",
    "class RandomPicker(Protocol):\n",
    "    def pick(self) -> Any:\n",
    "        ..."
   ]
  },
  {
   "cell_type": "code",
   "execution_count": 51,
   "metadata": {},
   "outputs": [],
   "source": [
    "import random\n",
    "from typing import Any, Iterable, TYPE_CHECKING\n",
    "\n",
    "\n",
    "class SimplePicker:\n",
    "    def __init__(self, items: Iterable) -> None:\n",
    "        self._items = list(items)\n",
    "        random.shuffle(self._items)\n",
    "\n",
    "    def pick(self) -> Any:\n",
    "        return self._items.pop()\n",
    "\n",
    "\n",
    "def test_instance() -> None:\n",
    "    popper: RandomPicker = SimplePicker([1])\n",
    "    assert isinstance(popper, RandomPicker)\n",
    "\n",
    "\n",
    "def test_item_type() -> None:\n",
    "    items = [1, 2]\n",
    "    popper = SimplePicker(items)\n",
    "    item = popper.pick()\n",
    "    assert item in items\n",
    "    if TYPE_CHECKING:\n",
    "        reveal_type(item)\n",
    "    assert isinstance(item, int)"
   ]
  },
  {
   "cell_type": "code",
   "execution_count": 52,
   "metadata": {},
   "outputs": [],
   "source": [
    "test_instance()"
   ]
  },
  {
   "cell_type": "code",
   "execution_count": 53,
   "metadata": {},
   "outputs": [],
   "source": [
    "test_item_type()"
   ]
  },
  {
   "cell_type": "code",
   "execution_count": 54,
   "metadata": {},
   "outputs": [],
   "source": [
    "# Rozszerzanie protokołu\n",
    "\n",
    "\n",
    "@runtime_checkable\n",
    "class LoadableRandomPicker(RandomPicker, Protocol):\n",
    "    def load(self, items: Iterable) -> None:\n",
    "        ..."
   ]
  }
 ],
 "metadata": {
  "kernelspec": {
   "display_name": "Python 3",
   "language": "python",
   "name": "python3"
  },
  "language_info": {
   "codemirror_mode": {
    "name": "ipython",
    "version": 3
   },
   "file_extension": ".py",
   "mimetype": "text/x-python",
   "name": "python",
   "nbconvert_exporter": "python",
   "pygments_lexer": "ipython3",
   "version": "3.10.5"
  }
 },
 "nbformat": 4,
 "nbformat_minor": 2
}
