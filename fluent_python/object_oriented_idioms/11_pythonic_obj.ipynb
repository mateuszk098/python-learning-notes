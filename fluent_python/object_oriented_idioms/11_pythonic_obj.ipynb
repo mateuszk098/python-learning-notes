{
 "cells": [
  {
   "cell_type": "code",
   "execution_count": 104,
   "metadata": {},
   "outputs": [],
   "source": [
    "from array import array\n",
    "import math\n"
   ]
  },
  {
   "cell_type": "markdown",
   "metadata": {},
   "source": [
    "### Prosta klasa Vector2D"
   ]
  },
  {
   "cell_type": "code",
   "execution_count": 105,
   "metadata": {},
   "outputs": [],
   "source": [
    "class Vector2D:\n",
    "    # Typecode to atrybut klasy, który użyjemy podczas konwersji instacji\n",
    "    # Vector2D na typ bytes i z tego typu.\n",
    "    typecode = \"d\"\n",
    "\n",
    "    def __init__(self, x, y):\n",
    "        # Konwersja na float wcześnie przechwytuje błędy.\n",
    "        self.x = float(x)\n",
    "        self.y = float(y)\n",
    "\n",
    "    def __iter__(self):\n",
    "        # Metoda __iter__ sprawia, że obiekt jest iterowalny, co sprawia\n",
    "        # że działa np. rozpakowywanie. Implementujemy to używając wyrażenia\n",
    "        # generatora do generowania składników jeden po drugim.\n",
    "        return (component for component in (self.x, self.y))\n",
    "\n",
    "    def __repr__(self):\n",
    "        # Metoda __repr__ buduje łańcuch wstawiając składniki przy użyciu !r\n",
    "        # co sprawia, że otrzymujemy ich reprezentację. Jako, że Vector2D\n",
    "        # implementuje metodę __iter__ to możemy użyć rozpakowania.\n",
    "        class_name = type(self).__name__\n",
    "        return \"{}({!r}, {!r})\".format(class_name, *self)\n",
    "\n",
    "    def __str__(self):\n",
    "        # Z iterowalnego obiektu łatwo stworzyć obiekt tuple w celu wyświetlenia.\n",
    "        return str(tuple(self))\n",
    "\n",
    "    def __bytes__(self):\n",
    "        # Aby generować bajty konwertujemy typecode na typ bytes i przeprowadzamy\n",
    "        # konkatenację z bajtami konwertowanymi z tablicy zbudowanej za pomocą\n",
    "        # iteracji przez instancję.\n",
    "        return bytes([ord(self.typecode)]) + bytes(array(self.typecode, self))\n",
    "\n",
    "    def __eq__(self, other):\n",
    "        # Aby szybko porównać składniki, budujemy krotki z operandów.\n",
    "        # To rozwiązanie działa ale ma wadę, tj. działa również gdy porównamy\n",
    "        # Vector2D z iterowalnymi o tych samych wartościach.\n",
    "        return tuple(self) == tuple(other)\n",
    "\n",
    "    def __abs__(self):\n",
    "        # Po prostu moduł w przestrzeni euklidesowej.\n",
    "        return math.hypot(self.x, self.y)\n",
    "\n",
    "    def __bool__(self):\n",
    "        # Jest prawdą instancja o niezerowym module.\n",
    "        return bool(abs(self))\n"
   ]
  },
  {
   "cell_type": "code",
   "execution_count": 106,
   "metadata": {},
   "outputs": [],
   "source": [
    "v1 = Vector2D(2, 3)\n"
   ]
  },
  {
   "cell_type": "code",
   "execution_count": 107,
   "metadata": {},
   "outputs": [
    {
     "name": "stdout",
     "output_type": "stream",
     "text": [
      "2.0 3.0\n"
     ]
    }
   ],
   "source": [
    "print(v1.x, v1.y)\n"
   ]
  },
  {
   "cell_type": "code",
   "execution_count": 108,
   "metadata": {},
   "outputs": [
    {
     "name": "stdout",
     "output_type": "stream",
     "text": [
      "2.0 3.0\n"
     ]
    }
   ],
   "source": [
    "x, y = v1\n",
    "print(x, y)\n"
   ]
  },
  {
   "cell_type": "code",
   "execution_count": 109,
   "metadata": {},
   "outputs": [
    {
     "data": {
      "text/plain": [
       "Vector2D(2.0, 3.0)"
      ]
     },
     "execution_count": 109,
     "metadata": {},
     "output_type": "execute_result"
    }
   ],
   "source": [
    "v1\n"
   ]
  },
  {
   "cell_type": "code",
   "execution_count": 110,
   "metadata": {},
   "outputs": [
    {
     "data": {
      "text/plain": [
       "True"
      ]
     },
     "execution_count": 110,
     "metadata": {},
     "output_type": "execute_result"
    }
   ],
   "source": [
    "v1_clone = eval(repr(v1))\n",
    "v1_clone == v1\n"
   ]
  },
  {
   "cell_type": "code",
   "execution_count": 111,
   "metadata": {},
   "outputs": [
    {
     "name": "stdout",
     "output_type": "stream",
     "text": [
      "(2.0, 3.0)\n"
     ]
    }
   ],
   "source": [
    "print(v1)\n"
   ]
  },
  {
   "cell_type": "code",
   "execution_count": 112,
   "metadata": {},
   "outputs": [
    {
     "data": {
      "text/plain": [
       "b'd\\x00\\x00\\x00\\x00\\x00\\x00\\x00@\\x00\\x00\\x00\\x00\\x00\\x00\\x08@'"
      ]
     },
     "execution_count": 112,
     "metadata": {},
     "output_type": "execute_result"
    }
   ],
   "source": [
    "octets = bytes(v1)\n",
    "octets\n"
   ]
  },
  {
   "cell_type": "code",
   "execution_count": 113,
   "metadata": {},
   "outputs": [
    {
     "data": {
      "text/plain": [
       "3.605551275463989"
      ]
     },
     "execution_count": 113,
     "metadata": {},
     "output_type": "execute_result"
    }
   ],
   "source": [
    "abs(v1)\n"
   ]
  },
  {
   "cell_type": "code",
   "execution_count": 114,
   "metadata": {},
   "outputs": [
    {
     "data": {
      "text/plain": [
       "(True, False)"
      ]
     },
     "execution_count": 114,
     "metadata": {},
     "output_type": "execute_result"
    }
   ],
   "source": [
    "bool(v1), bool(Vector2D(0, 0))\n"
   ]
  },
  {
   "cell_type": "markdown",
   "metadata": {},
   "source": [
    "### Klasa Vector2D z metodą klasy - alternatywnym konstruktorem"
   ]
  },
  {
   "cell_type": "code",
   "execution_count": 115,
   "metadata": {},
   "outputs": [],
   "source": [
    "class Vector2D:\n",
    "    typecode = \"d\"\n",
    "\n",
    "    def __init__(self, x, y):\n",
    "        self.x = float(x)\n",
    "        self.y = float(y)\n",
    "\n",
    "    def __iter__(self):\n",
    "        return (component for component in (self.x, self.y))\n",
    "\n",
    "    def __repr__(self):\n",
    "        class_name = type(self).__name__\n",
    "        return \"{}({!r}, {!r})\".format(class_name, *self)\n",
    "\n",
    "    def __str__(self):\n",
    "        return str(tuple(self))\n",
    "\n",
    "    def __bytes__(self):\n",
    "        return bytes([ord(self.typecode)]) + bytes(array(self.typecode, self))\n",
    "\n",
    "    def __eq__(self, other):\n",
    "        return tuple(self) == tuple(other)\n",
    "\n",
    "    def __abs__(self):\n",
    "        return math.hypot(self.x, self.y)\n",
    "\n",
    "    def __bool__(self):\n",
    "        return bool(abs(self))\n",
    "\n",
    "    @classmethod  # Metoda klasy.\n",
    "    def frombytes(cls, octets):  # Sama klasa jest przekazywana jako cls.\n",
    "        typecode = chr(octets[0])  # Odczytujemy typecode z pierwszego bajta.\n",
    "        # Tworzymy widok i rzutujemy na typecode a następnie...\n",
    "        memv = memoryview(octets[1:]).cast(typecode)\n",
    "        # zwracamy wektor z wartościami pochodzącymi z rozpakowanego widoku.\n",
    "        return cls(*memv)\n"
   ]
  },
  {
   "cell_type": "code",
   "execution_count": 116,
   "metadata": {},
   "outputs": [
    {
     "data": {
      "text/plain": [
       "Vector2D(2.0, 3.0)"
      ]
     },
     "execution_count": 116,
     "metadata": {},
     "output_type": "execute_result"
    }
   ],
   "source": [
    "v2 = Vector2D.frombytes(octets)\n",
    "v2\n"
   ]
  },
  {
   "cell_type": "markdown",
   "metadata": {},
   "source": [
    "### Classmethod vs Staticmethod\n",
    "\n",
    "Dekorator `@classmethod` jest stosowany do zmiany działania metody tak aby operowała na klasie a nie na instancji klasy.\n",
    "Stąd pierwszy parametr nosi nazwę `cls`. Dekorator ten zmienia sposób wywoływania metody aby jako pierwszy argument\n",
    "przyjmowała klasę. Najczęstsze zastosowanie tego dekoratora to budowanie alternatywnych konstruktorów, które inicjalizują\n",
    "obiekt np. z pliku lub z bajtów. Zazwyczaj sam argument `cls` jest wywoływany w instrukcji `return` do inicjalizacji \n",
    "nowej instacji klasy.\n",
    "\n",
    "Dekorator `@staticmethod` zmienia metodę tak aby nie otrzymywała żadnego specjalnego pierwszego argumentu. W istacie metoda\n",
    "taka działa jak zwykła funkcja, która przypadkiem żyje w ciele klasy i powinna być zdefiniowana na poziomie modułu.\n"
   ]
  },
  {
   "cell_type": "code",
   "execution_count": 117,
   "metadata": {},
   "outputs": [],
   "source": [
    "class Demo:\n",
    "    @classmethod\n",
    "    def classmeth(*args):\n",
    "        # Zwaraca cls i argumenty pozycyjne.\n",
    "        return args\n",
    "\n",
    "    @staticmethod\n",
    "    def statmeth(*args):\n",
    "        # Zwraca argumenty pozycyjne.\n",
    "        return args\n"
   ]
  },
  {
   "cell_type": "code",
   "execution_count": 118,
   "metadata": {},
   "outputs": [
    {
     "data": {
      "text/plain": [
       "(__main__.Demo,)"
      ]
     },
     "execution_count": 118,
     "metadata": {},
     "output_type": "execute_result"
    }
   ],
   "source": [
    "Demo.classmeth()"
   ]
  },
  {
   "cell_type": "code",
   "execution_count": 119,
   "metadata": {},
   "outputs": [
    {
     "data": {
      "text/plain": [
       "()"
      ]
     },
     "execution_count": 119,
     "metadata": {},
     "output_type": "execute_result"
    }
   ],
   "source": [
    "Demo.statmeth()"
   ]
  },
  {
   "cell_type": "markdown",
   "metadata": {},
   "source": [
    "### Klasa Vector2D z formatowanym wyświetlaniem"
   ]
  },
  {
   "cell_type": "code",
   "execution_count": 120,
   "metadata": {},
   "outputs": [],
   "source": [
    "class Vector2D:\n",
    "    typecode = \"d\"\n",
    "\n",
    "    def __init__(self, x, y):\n",
    "        self.x = float(x)\n",
    "        self.y = float(y)\n",
    "\n",
    "    def __iter__(self):\n",
    "        return (component for component in (self.x, self.y))\n",
    "\n",
    "    def __repr__(self):\n",
    "        class_name = type(self).__name__\n",
    "        return \"{}({!r}, {!r})\".format(class_name, *self)\n",
    "\n",
    "    def __str__(self):\n",
    "        return str(tuple(self))\n",
    "\n",
    "    def __bytes__(self):\n",
    "        return bytes([ord(self.typecode)]) + bytes(array(self.typecode, self))\n",
    "\n",
    "    def __eq__(self, other):\n",
    "        return tuple(self) == tuple(other)\n",
    "\n",
    "    def __abs__(self):\n",
    "        return math.hypot(self.x, self.y)\n",
    "\n",
    "    def __bool__(self):\n",
    "        return bool(abs(self))\n",
    "\n",
    "    @classmethod\n",
    "    def frombytes(cls, octets):\n",
    "        typecode = chr(octets[0])\n",
    "        memv = memoryview(octets[1:]).cast(typecode)\n",
    "        return cls(*memv)\n",
    "\n",
    "    # def __format__(self, fmt_spec=\"\"):\n",
    "    #     # Używamy wbudowanej funkcji format aby zastosować specyfikację\n",
    "    #     # formatowania fmt_spec do składników wektora.\n",
    "    #     components = (format(component, fmt_spec) for component in self)\n",
    "    #     return \"({}, {})\".format(*components)\n",
    "\n",
    "    def angle(self):\n",
    "        # Kąt w radianach.\n",
    "        return math.atan2(self.x, self.y)\n",
    "\n",
    "    # Jeżeli klasa nie implementuje metody specjalnej __format__\n",
    "    # to funkcja format użyje domyślnej metody __str__ klasy do wyświetlania.\n",
    "    def __format__(self, fmt_spec=\"\"):\n",
    "        # Należy uważać aby nie używac domyślnych kodów formatowania.\n",
    "        # Nie jest to błąd ale może wprowadzać niejasności.\n",
    "        if fmt_spec.endswith(\"p\"):  # Współrzędne biegunowe.\n",
    "            fmt_spec = fmt_spec[:-1]\n",
    "            coords = (abs(self), self.angle())\n",
    "            outer_fmt = \"<{}, {}>\"\n",
    "        else:  # Współrzędne kartezjańskie.\n",
    "            coords = self\n",
    "            outer_fmt = \"({}, {})\"\n",
    "\n",
    "        components = (format(coord, fmt_spec) for coord in coords)\n",
    "        return outer_fmt.format(*components)\n"
   ]
  },
  {
   "cell_type": "code",
   "execution_count": 121,
   "metadata": {},
   "outputs": [
    {
     "data": {
      "text/plain": [
       "('(1.000, 2.000)', '<2.2, 0.5>')"
      ]
     },
     "execution_count": 121,
     "metadata": {},
     "output_type": "execute_result"
    }
   ],
   "source": [
    "v3 = Vector2D(1, 2)\n",
    "format(v3, \".3f\"), format(v3, \".1fp\")\n"
   ]
  },
  {
   "cell_type": "markdown",
   "metadata": {},
   "source": [
    "### Haszowalny obiekt Vector2D"
   ]
  },
  {
   "cell_type": "markdown",
   "metadata": {},
   "source": [
    "Aby zapewnić haszowalność obiektu, musimy zaimplementować metody `__hash()__` i `__eq()__` oraz sprawić, że obiekt jest \n",
    "niezmienny, tj. nie możemy użyć podstawienia typu np. v.x = 1. Oczekujemy, że podstawienie spowoduje AttributeError.\n",
    "Osiągamy to poprzez sprawienie, że x i y są właściwościami tylko do odczytu, używając dekoratora `@property`."
   ]
  },
  {
   "cell_type": "code",
   "execution_count": 122,
   "metadata": {},
   "outputs": [],
   "source": [
    "class Vector2D:\n",
    "    typecode = \"d\"\n",
    "\n",
    "    def __init__(self, x, y):\n",
    "        # Używamy wiodącego podkreślenia aby atrybut stał się prywatny.\n",
    "        self._x = float(x)\n",
    "        self._y = float(y)\n",
    "\n",
    "    # Dekoratory @property oznaczają metodę getter właściwości.\n",
    "    @property\n",
    "    def x(self):  # Metoda getter jest nazwana tak samo jak wartość, którą eksponuje.\n",
    "        return self._x\n",
    "\n",
    "    @property\n",
    "    def y(self):\n",
    "        return self._y\n",
    "\n",
    "    def __hash__(self):\n",
    "        # Obliczamy po prostu hash krotki współrzędnych.\n",
    "        return hash((self.x, self.y))\n",
    "\n",
    "    def __iter__(self):\n",
    "        return (component for component in (self.x, self.y))\n",
    "\n",
    "    def __repr__(self):\n",
    "        class_name = type(self).__name__\n",
    "        return \"{}({!r}, {!r})\".format(class_name, *self)\n",
    "\n",
    "    def __str__(self):\n",
    "        return str(tuple(self))\n",
    "\n",
    "    def __bytes__(self):\n",
    "        return bytes([ord(self.typecode)]) + bytes(array(self.typecode, self))\n",
    "\n",
    "    def __eq__(self, other):\n",
    "        return tuple(self) == tuple(other)\n",
    "\n",
    "    def __abs__(self):\n",
    "        return math.hypot(self.x, self.y)\n",
    "\n",
    "    def __bool__(self):\n",
    "        return bool(abs(self))\n",
    "\n",
    "    @classmethod\n",
    "    def frombytes(cls, octets):\n",
    "        typecode = chr(octets[0])\n",
    "        memv = memoryview(octets[1:]).cast(typecode)\n",
    "        return cls(*memv)\n",
    "\n",
    "    def angle(self):\n",
    "        return math.atan2(self.x, self.y)\n",
    "\n",
    "    def __format__(self, fmt_spec=\"\"):\n",
    "        if fmt_spec.endswith(\"p\"):\n",
    "            fmt_spec = fmt_spec[:-1]\n",
    "            coords = (abs(self), self.angle())\n",
    "            outer_fmt = \"<{}, {}>\"\n",
    "        else:\n",
    "            coords = self\n",
    "            outer_fmt = \"({}, {})\"\n",
    "\n",
    "        components = (format(coord, fmt_spec) for coord in coords)\n",
    "        return outer_fmt.format(*components)\n"
   ]
  },
  {
   "cell_type": "code",
   "execution_count": 123,
   "metadata": {},
   "outputs": [
    {
     "data": {
      "text/plain": [
       "8409376899596376432"
      ]
     },
     "execution_count": 123,
     "metadata": {},
     "output_type": "execute_result"
    }
   ],
   "source": [
    "v4 = Vector2D(2, 3)\n",
    "hash(v4)\n"
   ]
  },
  {
   "cell_type": "code",
   "execution_count": 124,
   "metadata": {},
   "outputs": [
    {
     "data": {
      "text/plain": [
       "{Vector2D(1.0, 2.0), Vector2D(3.0, 4.0)}"
      ]
     },
     "execution_count": 124,
     "metadata": {},
     "output_type": "execute_result"
    }
   ],
   "source": [
    "set((Vector2D(1, 2), Vector2D(3, 4)))\n"
   ]
  },
  {
   "cell_type": "markdown",
   "metadata": {},
   "source": [
    "### Pozycyjne dopasowywanie wzorców"
   ]
  },
  {
   "cell_type": "markdown",
   "metadata": {},
   "source": [
    "Aby sprawić, że klasa Vector2D będzie działać dla wzorców pozycyjnych, musimy dodac atrybut klasy\n",
    "o nazwie `__match_args__` wyliczający atrybuty instacji w tej kolejności w jakiej będą one używane\n",
    "w dopasowywaniu wzorca pozycyjnego."
   ]
  },
  {
   "cell_type": "code",
   "execution_count": 125,
   "metadata": {},
   "outputs": [],
   "source": [
    "class Vector2D:\n",
    "    __match_args__ = (\"x\", \"y\")\n",
    "    typecode = \"d\"\n",
    "\n",
    "    def __init__(self, x, y):\n",
    "        self._x = float(x)\n",
    "        self._y = float(y)\n",
    "\n",
    "    @property\n",
    "    def x(self):\n",
    "        return self._x\n",
    "\n",
    "    @property\n",
    "    def y(self):\n",
    "        return self._y\n",
    "\n",
    "    def __hash__(self):\n",
    "        return hash((self.x, self.y))\n",
    "\n",
    "    def __iter__(self):\n",
    "        return (component for component in (self.x, self.y))\n",
    "\n",
    "    def __repr__(self):\n",
    "        class_name = type(self).__name__\n",
    "        return \"{}({!r}, {!r})\".format(class_name, *self)\n",
    "\n",
    "    def __str__(self):\n",
    "        return str(tuple(self))\n",
    "\n",
    "    def __bytes__(self):\n",
    "        return bytes([ord(self.typecode)]) + bytes(array(self.typecode, self))\n",
    "\n",
    "    def __eq__(self, other):\n",
    "        return tuple(self) == tuple(other)\n",
    "\n",
    "    def __abs__(self):\n",
    "        return math.hypot(self.x, self.y)\n",
    "\n",
    "    def __bool__(self):\n",
    "        return bool(abs(self))\n",
    "\n",
    "    @classmethod\n",
    "    def frombytes(cls, octets):\n",
    "        typecode = chr(octets[0])\n",
    "        memv = memoryview(octets[1:]).cast(typecode)\n",
    "        return cls(*memv)\n",
    "\n",
    "    def angle(self):\n",
    "        return math.atan2(self.x, self.y)\n",
    "\n",
    "    def __format__(self, fmt_spec=\"\"):\n",
    "        if fmt_spec.endswith(\"p\"):\n",
    "            fmt_spec = fmt_spec[:-1]\n",
    "            coords = (abs(self), self.angle())\n",
    "            outer_fmt = \"<{}, {}>\"\n",
    "        else:\n",
    "            coords = self\n",
    "            outer_fmt = \"({}, {})\"\n",
    "\n",
    "        components = (format(coord, fmt_spec) for coord in coords)\n",
    "        return outer_fmt.format(*components)\n"
   ]
  },
  {
   "cell_type": "code",
   "execution_count": 126,
   "metadata": {},
   "outputs": [],
   "source": [
    "def positional_pattern_demo(v: Vector2D) -> None:\n",
    "    match v:\n",
    "        case Vector2D(0, 0):\n",
    "            print(f\"{v!r} is null\")\n",
    "        case Vector2D(0, _):\n",
    "            print(f\"{v!r} is vertical\")\n",
    "        case Vector2D(_, 0):\n",
    "            print(f\"{v!r} is horizontal\")\n",
    "        case Vector2D(x, y) if x == y:\n",
    "            print(f\"{v!r} is diagonal\")\n",
    "        case _:\n",
    "            print(f\"{v!r} is awesome\")\n"
   ]
  },
  {
   "cell_type": "code",
   "execution_count": 127,
   "metadata": {},
   "outputs": [
    {
     "name": "stdout",
     "output_type": "stream",
     "text": [
      "Vector2D(2.0, 0.0) is horizontal\n"
     ]
    }
   ],
   "source": [
    "positional_pattern_demo(Vector2D(2, 0))"
   ]
  },
  {
   "cell_type": "markdown",
   "metadata": {},
   "source": [
    "### Oszczędzanie miejsca dzięki atrybutowi `__slots__`\n",
    "\n",
    "Domyślnie Python przechowuje atrybuty instancji w słowniku o nazwie `__dict__`, który ma znaczny narzut na pamięć.\n",
    "Jeśli jednak zdefiniujemy atrybut o nazwie `__slots__`, przechowujący sekwencję nazw atrybutów, Python użyje\n",
    "alternatywnego modelu przechowywania dla atrybutów instancji. Atrybuty przechowywane w `__slots__` są przechowywane\n",
    "w ukrytej tablicy lub jako referencje, które zajmują znacznie mniej miejsca niz typ `__dict__`."
   ]
  },
  {
   "cell_type": "code",
   "execution_count": 128,
   "metadata": {},
   "outputs": [],
   "source": [
    "class Pixel:\n",
    "    __slots__ = (\"x\", \"y\")\n"
   ]
  },
  {
   "cell_type": "code",
   "execution_count": 129,
   "metadata": {},
   "outputs": [
    {
     "ename": "AttributeError",
     "evalue": "'Pixel' object has no attribute '__dict__'",
     "output_type": "error",
     "traceback": [
      "\u001b[1;31m---------------------------------------------------------------------------\u001b[0m",
      "\u001b[1;31mAttributeError\u001b[0m                            Traceback (most recent call last)",
      "\u001b[1;32mc:\\Users\\Mateusz\\Documents\\PythonRepository\\python_learning_tools\\fluent_python\\object_oriented_idioms\\11_pythonic_obj.ipynb Cell 35\u001b[0m line \u001b[0;36m<cell line: 2>\u001b[1;34m()\u001b[0m\n\u001b[0;32m      <a href='vscode-notebook-cell:/c%3A/Users/Mateusz/Documents/PythonRepository/python_learning_tools/fluent_python/object_oriented_idioms/11_pythonic_obj.ipynb#X62sZmlsZQ%3D%3D?line=0'>1</a>\u001b[0m p \u001b[39m=\u001b[39m Pixel()\n\u001b[1;32m----> <a href='vscode-notebook-cell:/c%3A/Users/Mateusz/Documents/PythonRepository/python_learning_tools/fluent_python/object_oriented_idioms/11_pythonic_obj.ipynb#X62sZmlsZQ%3D%3D?line=1'>2</a>\u001b[0m p\u001b[39m.\u001b[39;49m\u001b[39m__dict__\u001b[39;49m\n",
      "\u001b[1;31mAttributeError\u001b[0m: 'Pixel' object has no attribute '__dict__'"
     ]
    }
   ],
   "source": [
    "p = Pixel()\n",
    "p.__dict__\n"
   ]
  },
  {
   "cell_type": "code",
   "execution_count": 130,
   "metadata": {},
   "outputs": [],
   "source": [
    "p.x = 10\n",
    "p.y = 20"
   ]
  },
  {
   "cell_type": "code",
   "execution_count": 131,
   "metadata": {},
   "outputs": [
    {
     "ename": "AttributeError",
     "evalue": "'Pixel' object has no attribute 'color'",
     "output_type": "error",
     "traceback": [
      "\u001b[1;31m---------------------------------------------------------------------------\u001b[0m",
      "\u001b[1;31mAttributeError\u001b[0m                            Traceback (most recent call last)",
      "\u001b[1;32mc:\\Users\\Mateusz\\Documents\\PythonRepository\\python_learning_tools\\fluent_python\\object_oriented_idioms\\11_pythonic_obj.ipynb Cell 37\u001b[0m line \u001b[0;36m<cell line: 1>\u001b[1;34m()\u001b[0m\n\u001b[1;32m----> <a href='vscode-notebook-cell:/c%3A/Users/Mateusz/Documents/PythonRepository/python_learning_tools/fluent_python/object_oriented_idioms/11_pythonic_obj.ipynb#X64sZmlsZQ%3D%3D?line=0'>1</a>\u001b[0m p\u001b[39m.\u001b[39mcolor \u001b[39m=\u001b[39m \u001b[39m\"\u001b[39m\u001b[39mred\u001b[39m\u001b[39m\"\u001b[39m\n",
      "\u001b[1;31mAttributeError\u001b[0m: 'Pixel' object has no attribute 'color'"
     ]
    }
   ],
   "source": [
    "p.color = \"red\"  # Atrybutu nie ma w `__slots__`!\n"
   ]
  },
  {
   "cell_type": "code",
   "execution_count": 132,
   "metadata": {},
   "outputs": [],
   "source": [
    "class OpenPixel(Pixel):\n",
    "    # `OpenPixel` nie deklaruje żadnych własnych atrybutów.\n",
    "    pass\n"
   ]
  },
  {
   "cell_type": "code",
   "execution_count": 133,
   "metadata": {},
   "outputs": [
    {
     "data": {
      "text/plain": [
       "{}"
      ]
     },
     "execution_count": 133,
     "metadata": {},
     "output_type": "execute_result"
    }
   ],
   "source": [
    "op = OpenPixel()\n",
    "op.__dict__  # Zawiera __dict__\n"
   ]
  },
  {
   "cell_type": "code",
   "execution_count": 134,
   "metadata": {},
   "outputs": [
    {
     "data": {
      "text/plain": [
       "{}"
      ]
     },
     "execution_count": 134,
     "metadata": {},
     "output_type": "execute_result"
    }
   ],
   "source": [
    "op.x = 8  # Jeżeli ustawimy atrybut x (nazwany w `__slots__` klasy bazowej)...\n",
    "op.__dict__  # to nie jest on przechowywany w __dict__ instancji\n"
   ]
  },
  {
   "cell_type": "code",
   "execution_count": 135,
   "metadata": {},
   "outputs": [
    {
     "data": {
      "text/plain": [
       "8"
      ]
     },
     "execution_count": 135,
     "metadata": {},
     "output_type": "execute_result"
    }
   ],
   "source": [
    "op.x  # ale w ukrytej tablicy referencji w tej instancji\n"
   ]
  },
  {
   "cell_type": "code",
   "execution_count": 137,
   "metadata": {},
   "outputs": [
    {
     "data": {
      "text/plain": [
       "{'color': 'green'}"
      ]
     },
     "execution_count": 137,
     "metadata": {},
     "output_type": "execute_result"
    }
   ],
   "source": [
    "op.color = \"green\"  # Jeśli jednak ustawimy atrybut nienazwany w `__slots__`\n",
    "op.__dict__  # to jest on umieszczany w __dict__ instancji.\n"
   ]
  },
  {
   "cell_type": "markdown",
   "metadata": {},
   "source": [
    "Efekt użycia `__slots__` jest tylko częściowo dziedziczony przez podklasę. Aby mieć pewność, że podklasy\n",
    "również nie będą używać `__dict__` musimy ponownie zadeklarować `__slots__` w podklasie. \n",
    "Jeśli zadeklarujemy `__slots__ = ()`, instancje podklasy nie będą zawierać `__dict__` i będą akceptować\n",
    "atrybuty nazwane jedynie w `__slots__` klasy nadrzędnej. Jeśli chcemy aby podklasa miała dodatkowe atrybuty,\n",
    "nazywamy je w `__slots__` podklasy."
   ]
  },
  {
   "cell_type": "code",
   "execution_count": null,
   "metadata": {},
   "outputs": [],
   "source": []
  }
 ],
 "metadata": {
  "kernelspec": {
   "display_name": "Python 3",
   "language": "python",
   "name": "python3"
  },
  "language_info": {
   "codemirror_mode": {
    "name": "ipython",
    "version": 3
   },
   "file_extension": ".py",
   "mimetype": "text/x-python",
   "name": "python",
   "nbconvert_exporter": "python",
   "pygments_lexer": "ipython3",
   "version": "3.10.5"
  }
 },
 "nbformat": 4,
 "nbformat_minor": 2
}
