{
 "cells": [
  {
   "cell_type": "markdown",
   "metadata": {},
   "source": [
    "### **Atrybuty Dynamiczne**"
   ]
  },
  {
   "cell_type": "code",
   "execution_count": 4,
   "metadata": {},
   "outputs": [
    {
     "data": {
      "text/plain": [
       "{'Schedule': {'conferences': [{'serial': 115}],\n",
       "  'events': [{'serial': 34505,\n",
       "    'name': 'Why Schools Don´t Use Open Source to Teach Programming',\n",
       "    'event_type': '40-minute conference session',\n",
       "    'time_start': '2014-07-23 11:30:00',\n",
       "    'time_stop': '2014-07-23 12:10:00',\n",
       "    'venue_serial': 1462,\n",
       "    'description': 'Aside from the fact that high school programming...',\n",
       "    'website_url': 'http://oscon.com/oscon2014/public/schedule/detail/34505',\n",
       "    'speakers': [157509],\n",
       "    'categories': ['Education']}],\n",
       "  'speakers': [{'serial': 157509,\n",
       "    'name': 'Robert Lefkowitz',\n",
       "    'photo': None,\n",
       "    'url': 'http://sharewave.com/',\n",
       "    'position': 'CTO',\n",
       "    'affiliation': 'Sharewave',\n",
       "    'twitter': 'sharewaveteam',\n",
       "    'bio': 'Robert ´r0ml´ Lefkowitz is the CTO at Sharewave, a startup...'}],\n",
       "  'venues': [{'serial': 1462,\n",
       "    'name': 'F151',\n",
       "    'category': 'Conference Venues'}]}}"
      ]
     },
     "execution_count": 4,
     "metadata": {},
     "output_type": "execute_result"
    }
   ],
   "source": [
    "import json\n",
    "\n",
    "with open(\"osconfeed-sample.json\") as f:\n",
    "    data = json.load(f)\n",
    "\n",
    "data"
   ]
  },
  {
   "cell_type": "code",
   "execution_count": 5,
   "metadata": {},
   "outputs": [],
   "source": [
    "from collections import abc\n",
    "\n",
    "\n",
    "class FrozenJSON:\n",
    "    \"\"\"Fasada tylko do odczytu dla przeglądania obiektu podobnego do JSON\n",
    "    przy używaniu notacji atrubytów.\"\"\"\n",
    "\n",
    "    def __init__(self, mapping):\n",
    "        self.__data = dict(mapping)\n",
    "\n",
    "    def __getattr__(self, name):\n",
    "        try:\n",
    "            # Metoda `__getattr__` jest wywoływana tylko wtedy\n",
    "            # gdy nie ma atrybutu o nazwie `name`. \n",
    "            # Jeśli `name` odpowiada instancji `__data` słownika,\n",
    "            # to zwracamy wartość tego atrybutu. Tak właśnie są obługiwane\n",
    "            # takie wywołania jak `.keys()`, `.items()`, `.values()`.\n",
    "            # Są to metody instancji słownika.\n",
    "            return getattr(self.__data, name)\n",
    "        except AttributeError:\n",
    "            return FrozenJSON.build(self.__data[name])\n",
    "\n",
    "    def __dir__(self):\n",
    "        return self.__data.keys()\n",
    "\n",
    "    @classmethod\n",
    "    def build(cls, obj):\n",
    "        if isinstance(obj, abc.Mapping):\n",
    "            return cls(obj)\n",
    "        if isinstance(obj, abc.MutableSequence):\n",
    "            return list(cls.build(item) for item in obj)\n",
    "        return obj"
   ]
  },
  {
   "cell_type": "code",
   "execution_count": 6,
   "metadata": {},
   "outputs": [
    {
     "data": {
      "text/plain": [
       "'Robert Lefkowitz'"
      ]
     },
     "execution_count": 6,
     "metadata": {},
     "output_type": "execute_result"
    }
   ],
   "source": [
    "f = FrozenJSON(data)\n",
    "f.Schedule.speakers[0].name"
   ]
  },
  {
   "cell_type": "markdown",
   "metadata": {},
   "source": [
    "Instancja `FrozenJSON` zawiera prywatny atrybut instancji `__data` przechowywany pod nazwą `_FrozenJSON__data`. Próby odczytania atrybutów poprzez inne nazwy wyzwalają `__getattr__`. Metoda ta sprawdza czy słownik `self.__data` zawiera atrybut (nie klucz) o tej nazwie. To pozwala obsłużyć metody klasy `dict`. Jeśli nie ma atrybutu o podanej nazwie to używamy `name` jako klucza `self.__data` i przekazujemy odczytaną wartość do metody statycznej `build`. To pozwala na nawigowanie po zagnieżdżonych strukturach danych, ponieważ każde zagnieżdżone mapowanie jest konwertowane przez metodę `build` na kolejną instancję `FrozenJSON`."
   ]
  },
  {
   "cell_type": "code",
   "execution_count": 7,
   "metadata": {},
   "outputs": [
    {
     "ename": "SyntaxError",
     "evalue": "invalid syntax (139714945.py, line 2)",
     "output_type": "error",
     "traceback": [
      "\u001b[1;36m  Cell \u001b[1;32mIn[7], line 2\u001b[1;36m\u001b[0m\n\u001b[1;33m    student.class\u001b[0m\n\u001b[1;37m            ^\u001b[0m\n\u001b[1;31mSyntaxError\u001b[0m\u001b[1;31m:\u001b[0m invalid syntax\n"
     ]
    }
   ],
   "source": [
    "student = FrozenJSON({\"name\": \"John\", \"class\": 25})\n",
    "student.class"
   ]
  },
  {
   "cell_type": "code",
   "execution_count": 8,
   "metadata": {},
   "outputs": [],
   "source": [
    "import keyword\n",
    "\n",
    "\n",
    "class FrozenJSON:\n",
    "    \"\"\"Fasada tylko do odczytu dla przeglądania obiektu podobnego do JSON\n",
    "    przy używaniu notacji atrubytów.\"\"\"\n",
    "\n",
    "    def __init__(self, mapping):\n",
    "        self.__data = dict()\n",
    "        # Zamiana słów kluczowych na nazwy zakończone znakiem podkreślenia.\n",
    "        for key, value in mapping.items():\n",
    "            if keyword.iskeyword(key):\n",
    "                key += \"_\"\n",
    "            self.__data[key] = value\n",
    "\n",
    "    def __getattr__(self, name):\n",
    "        try:\n",
    "            return getattr(self.__data, name)\n",
    "        except AttributeError:\n",
    "            return FrozenJSON.build(self.__data[name])\n",
    "\n",
    "    def __dir__(self):\n",
    "        return self.__data.keys()\n",
    "\n",
    "    @classmethod\n",
    "    def build(cls, obj):\n",
    "        if isinstance(obj, abc.Mapping):\n",
    "            return cls(obj)\n",
    "        if isinstance(obj, abc.MutableSequence):\n",
    "            return list(cls.build(item) for item in obj)\n",
    "        return obj"
   ]
  },
  {
   "cell_type": "code",
   "execution_count": 9,
   "metadata": {},
   "outputs": [
    {
     "data": {
      "text/plain": [
       "25"
      ]
     },
     "execution_count": 9,
     "metadata": {},
     "output_type": "execute_result"
    }
   ],
   "source": [
    "student = FrozenJSON({\"name\": \"John\", \"class\": 25})\n",
    "student.class_"
   ]
  },
  {
   "cell_type": "markdown",
   "metadata": {},
   "source": [
    "### **Elastyczne Tworzenie Obiektów**"
   ]
  },
  {
   "cell_type": "markdown",
   "metadata": {},
   "source": [
    "W Pythonie metodę `__init__` nazywamy metodą konstruktora, ale jest o tylko żargon. W Pythonie `__init__` przyjmuje `self` jako pierwszy argument, zatem obiekt już istnieje, gdy `__init__` jest wywoływany przez interpreter. Ponadto metoda ta nie może niczego zwrócić, zatem jest to raczej inicjator a nie konstruktor.\n",
    "\n",
    "Gdy wywołujemy klasę w celu utworzenia instancji, metodą specjalną wywoływaną przez Pythona w celu skontruowania instancji klasy jest `__new__`. Jest to metoda klasy ale jest traktowana specjalnie, zatem nie jest stosowany dla niej dekorator `@classmethod`. Python przyjmuje instancję zwróconą przez `__new__` i przekazuje ją do `__init__` jako pierwszy argument. Jeśli zachodzi potrzeba, `__new__` może zwrócić instancję innej klasy. Gdy tak się zdarzy, interpreter nie wywołuje `__init__`."
   ]
  },
  {
   "cell_type": "code",
   "execution_count": 10,
   "metadata": {},
   "outputs": [],
   "source": [
    "# Pseduokod dla tworzenia obiektu\n",
    "def make_object(class_, arg_):\n",
    "    obj = class_.__new__(arg_)\n",
    "    if isinstance(obj, class_):\n",
    "        class_.__init__(obj, arg_)\n",
    "    return obj\n",
    "\n",
    "# To jest równoważne.\n",
    "# x = Foo(\"bar\")\n",
    "# x = make_object(Foo, \"bar\")"
   ]
  },
  {
   "cell_type": "code",
   "execution_count": 11,
   "metadata": {},
   "outputs": [],
   "source": [
    "class FrozenJSON:\n",
    "    \"\"\"Fasada tylko do odczytu dla przeglądania obiektu podobnego do JSON\n",
    "    przy używaniu notacji atrubytów.\"\"\"\n",
    "\n",
    "    # Zamiana metody build na metodę __new__.\n",
    "    # Pierwszym argumentem jest sama klasa a pozostałe są \n",
    "    # takie same jakie otrzymuje __init__.\n",
    "    def __new__(cls, arg):\n",
    "        if isinstance(arg, abc.Mapping):\n",
    "            return super().__new__(cls)\n",
    "        if isinstance(arg, abc.MutableSequence):\n",
    "            return list(cls(item) for item in arg)\n",
    "        return arg\n",
    "\n",
    "    def __init__(self, mapping):\n",
    "        self.__data = dict()\n",
    "        # Zamiana słów kluczowych na nazwy zakończone znakiem podkreślenia.\n",
    "        for key, value in mapping.items():\n",
    "            if keyword.iskeyword(key):\n",
    "                key += \"_\"\n",
    "            self.__data[key] = value\n",
    "\n",
    "    def __getattr__(self, name):\n",
    "        try:\n",
    "            return getattr(self.__data, name)\n",
    "        except AttributeError:\n",
    "            return FrozenJSON(self.__data[name])\n",
    "\n",
    "    def __dir__(self):\n",
    "        return self.__data.keys()"
   ]
  },
  {
   "cell_type": "code",
   "execution_count": 12,
   "metadata": {},
   "outputs": [
    {
     "data": {
      "text/plain": [
       "'Robert Lefkowitz'"
      ]
     },
     "execution_count": 12,
     "metadata": {},
     "output_type": "execute_result"
    }
   ],
   "source": [
    "f = FrozenJSON(data)\n",
    "f.Schedule.speakers[0].name"
   ]
  },
  {
   "cell_type": "markdown",
   "metadata": {},
   "source": [
    "Metoda `__new__` otrzymuje klasę jako pierwszy argument, ponieważ zwykle tworzony obiekt będzie instancją tej klasy. Tak więc w metodzie `FrozenJSON.__new__`, gdy wyrażenie `super().__new__(cls)` w efekcie wywołuje `object.__new__(FrozenJSON)`, instancją budowaną przez klasę `object` jest właściwie instancja `FrozenJSON`, tzn. atrybut `__class__` nowej instancji będzie zawierał odwołanie do `FrozenJSON`."
   ]
  },
  {
   "cell_type": "markdown",
   "metadata": {},
   "source": [
    "### **Buforowanie Właściwości Obliczanych**"
   ]
  },
  {
   "cell_type": "markdown",
   "metadata": {},
   "source": [
    "#### **1. Sterowane Danymi Tworzenie Atrybutów**"
   ]
  },
  {
   "cell_type": "code",
   "execution_count": 24,
   "metadata": {},
   "outputs": [],
   "source": [
    "PATH = \"osconfeed-sample.json\"\n",
    "\n",
    "\n",
    "class Record:\n",
    "    def __init__(self, **kwargs):\n",
    "        self.__dict__.update(kwargs)\n",
    "\n",
    "    def __repr__(self) -> str:\n",
    "        return f\"<{self.__class__.__name__} serial={self.serial!r}>\"\n",
    "\n",
    "\n",
    "def load(path=PATH):\n",
    "    records = dict()\n",
    "    with open(path) as f:\n",
    "        data = json.load(f)\n",
    "    for collection, raw_records in data[\"Schedule\"].items():\n",
    "        # Nazwa listy bez ostatniego znaku. Np 'speakers' -> 'speaker'\n",
    "        record_type = collection.removesuffix(\"s\")\n",
    "        for raw_record in raw_records:\n",
    "            key = f\"{record_type}.{raw_record['serial']}\"\n",
    "            records[key] = Record(**raw_record)\n",
    "    return records"
   ]
  },
  {
   "cell_type": "code",
   "execution_count": 25,
   "metadata": {},
   "outputs": [
    {
     "data": {
      "text/plain": [
       "{'conference.115': <Record serial=115>,\n",
       " 'event.34505': <Record serial=34505>,\n",
       " 'speaker.157509': <Record serial=157509>,\n",
       " 'venue.1462': <Record serial=1462>}"
      ]
     },
     "execution_count": 25,
     "metadata": {},
     "output_type": "execute_result"
    }
   ],
   "source": [
    "records = load(\"osconfeed-sample.json\")\n",
    "records"
   ]
  },
  {
   "cell_type": "code",
   "execution_count": 26,
   "metadata": {},
   "outputs": [
    {
     "data": {
      "text/plain": [
       "('Robert Lefkowitz', 'sharewaveteam')"
      ]
     },
     "execution_count": 26,
     "metadata": {},
     "output_type": "execute_result"
    }
   ],
   "source": [
    "speaker = records[\"speaker.157509\"]\n",
    "speaker.name, speaker.twitter"
   ]
  },
  {
   "cell_type": "markdown",
   "metadata": {},
   "source": [
    "#### **2. Właściwość Pobierająca Połączony Rekord**"
   ]
  },
  {
   "cell_type": "markdown",
   "metadata": {},
   "source": [
    "Mając rekord `event`, odczytanie jesto właściwości `venue` ma zwrócić `Record`."
   ]
  },
  {
   "cell_type": "code",
   "execution_count": null,
   "metadata": {},
   "outputs": [],
   "source": [
    "import inspect\n",
    "\n",
    "\n",
    "class Record:\n",
    "    __index = None\n",
    "\n",
    "    def __init__(self, **kwargs):\n",
    "        self.__dict__.update(kwargs)\n",
    "\n",
    "    def __repr__(self):\n",
    "        return f\"<{self.__class__.__name__} serial={self.serial!r}>\"\n",
    "\n",
    "    @staticmethod\n",
    "    def fetch(key):\n",
    "        if Record.__index is None:\n",
    "            Record.__index = load()\n",
    "        return Record.__index[key]\n",
    "    \n",
    "    \n",
    "class Event(Record):\n",
    "    def __repr__(self):\n",
    "        try:\n",
    "            return f\"<{self.__class__.__name__} {self.name!r}>\"\n",
    "        except AttributeError:\n",
    "            return super().__repr__()\n",
    "        \n",
    "    @property\n",
    "    def venue(self):\n",
    "        key = f\"venue.{self.venue_serial}\"\n",
    "        return self.__class__.fetch(key)"
   ]
  }
 ],
 "metadata": {
  "kernelspec": {
   "display_name": "Python 3",
   "language": "python",
   "name": "python3"
  },
  "language_info": {
   "codemirror_mode": {
    "name": "ipython",
    "version": 3
   },
   "file_extension": ".py",
   "mimetype": "text/x-python",
   "name": "python",
   "nbconvert_exporter": "python",
   "pygments_lexer": "ipython3",
   "version": "3.12.1"
  }
 },
 "nbformat": 4,
 "nbformat_minor": 2
}
