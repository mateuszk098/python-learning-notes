{
 "cells": [
  {
   "cell_type": "markdown",
   "metadata": {},
   "source": [
    "### Zarządzanie kontekstem. Bloki `with`"
   ]
  },
  {
   "cell_type": "markdown",
   "metadata": {},
   "source": [
    "Obiekty menedżerów kontekstu istnieją w celu sterowania instrukcją `with` tak samo, jak iteratory istnieją do sterowania instrukcją `for`. Intrukcja `with` została zaprojektowana w celu uproszczenia wzorca `try/finally` i gwarantuje, że jakaś operacja zostanie wykonana nawet jeśli dany blok kodu zostanie przerwany. "
   ]
  },
  {
   "cell_type": "code",
   "execution_count": 4,
   "metadata": {},
   "outputs": [],
   "source": [
    "# Najbardziej typowy przykład użycia menedżera kontekstu to otwieranie plików.\n",
    "with open(\"file.txt\", \"r\", encoding=\"utf-8\") as f:\n",
    "    data = f.read()"
   ]
  },
  {
   "cell_type": "code",
   "execution_count": 5,
   "metadata": {},
   "outputs": [
    {
     "data": {
      "text/plain": [
       "<_io.TextIOWrapper name='file.txt' mode='r' encoding='utf-8'>"
      ]
     },
     "execution_count": 5,
     "metadata": {},
     "output_type": "execute_result"
    }
   ],
   "source": [
    "# Zmienna f jest wciąż dostępna. Bloki `with` nie definiują nowego zasięgu.\n",
    "f"
   ]
  },
  {
   "cell_type": "code",
   "execution_count": 6,
   "metadata": {},
   "outputs": [
    {
     "data": {
      "text/plain": [
       "(True, 'utf-8')"
      ]
     },
     "execution_count": 6,
     "metadata": {},
     "output_type": "execute_result"
    }
   ],
   "source": [
    "f.closed, f.encoding"
   ]
  },
  {
   "cell_type": "code",
   "execution_count": 7,
   "metadata": {},
   "outputs": [
    {
     "ename": "ValueError",
     "evalue": "I/O operation on closed file.",
     "output_type": "error",
     "traceback": [
      "\u001b[1;31m---------------------------------------------------------------------------\u001b[0m",
      "\u001b[1;31mValueError\u001b[0m                                Traceback (most recent call last)",
      "Cell \u001b[1;32mIn[7], line 2\u001b[0m\n\u001b[0;32m      1\u001b[0m \u001b[38;5;66;03m# Po wyjściu z bloku `with` plik jest zamykany.\u001b[39;00m\n\u001b[1;32m----> 2\u001b[0m \u001b[43mf\u001b[49m\u001b[38;5;241;43m.\u001b[39;49m\u001b[43mread\u001b[49m\u001b[43m(\u001b[49m\u001b[43m)\u001b[49m\n",
      "\u001b[1;31mValueError\u001b[0m: I/O operation on closed file."
     ]
    }
   ],
   "source": [
    "# Po wyjściu z bloku `with` plik jest zamykany.\n",
    "f.read()"
   ]
  },
  {
   "cell_type": "markdown",
   "metadata": {},
   "source": [
    "Obiekt menedżera kontekstu jest wynikiem wyliczenia wyrażenia następującego po `with`, ale wartość przywiązywana do zmiennej docelowej (w klauzuli `as`) jest wynikiem wywołania metody `__enter__` obiektu menedżera kontekstu. Metoda `__enter__` może zwrócić inny obiekt zamiast menedżera kontekstu. Gdy przepływ sterowania wyjdzie z bloku `with`, wywoływna jest metoda `__exit__` obiektu menedżera kontekstu, a nie obiektu zwróconego przez `__enter__`. Klauzula `as` jest opcjonalna, czasami menedżer kontekstu zwraca `None`, ponieważ nie ma żadnego przydatnego obiektu do zwrócenia użytkownikowi."
   ]
  },
  {
   "cell_type": "code",
   "execution_count": 8,
   "metadata": {},
   "outputs": [],
   "source": [
    "import sys\n",
    "\n",
    "class LookingGlass:\n",
    "    # Metoda __enter__ przyjuje tylko jeden argument - self.\n",
    "    def __enter__(self):\n",
    "        self.original_write = sys.stdout.write\n",
    "        # Małpie łatanie metody write.\n",
    "        sys.stdout.write = self.reverse_write # type: ignore\n",
    "        # Zwracamy obiekt, który będzie przypisany do zmiennej po klauzuli `as`.\n",
    "        return \"JABBA\"\n",
    "    \n",
    "    # Python wywołuje __exit__ z None, None, None jeśli wszystko poszło ok.\n",
    "    # Jeśli wystąpił wyjątek, to są przekazywane jego typ, wartość i traceback.\n",
    "    def __exit__(self, exc_type, exc_value, traceback):\n",
    "        sys.stdout.write = self.original_write\n",
    "        if exc_type is ZeroDivisionError:\n",
    "            print(\"Do not divide by zero\")\n",
    "            return True # Wyjątek został obsłużony.\n",
    "        # Jeśli __exit__ zwróci None lub cokolwiek innego, to wyjątek zostanie \n",
    "        # przekazany dalej.\n",
    "        \n",
    "    def reverse_write(self, text):\n",
    "        self.original_write(text[::-1])"
   ]
  },
  {
   "cell_type": "code",
   "execution_count": 9,
   "metadata": {},
   "outputs": [
    {
     "name": "stdout",
     "output_type": "stream",
     "text": [
      "pordwonS dna yttiK ,ecilA\n",
      "ABBAJ\n"
     ]
    }
   ],
   "source": [
    "with LookingGlass() as what:\n",
    "    print(\"Alice, Kitty and Snowdrop\")\n",
    "    print(what)"
   ]
  },
  {
   "cell_type": "code",
   "execution_count": 10,
   "metadata": {},
   "outputs": [
    {
     "name": "stdout",
     "output_type": "stream",
     "text": [
      "Everything is normal now\n"
     ]
    }
   ],
   "source": [
    "print(\"Everything is normal now\")"
   ]
  },
  {
   "cell_type": "code",
   "execution_count": 11,
   "metadata": {},
   "outputs": [],
   "source": [
    "# Od wersji 3.10 można użyć `with` z wieloma menedżerami kontekstu\n",
    "# zamiast je zagnieżdżać\n",
    "with (\n",
    "    LookingGlass() as example1,\n",
    "    LookingGlass() as example2,\n",
    "    LookingGlass() as example3\n",
    "): ..."
   ]
  },
  {
   "cell_type": "markdown",
   "metadata": {},
   "source": [
    "### Narzędzia `contextlib`"
   ]
  },
  {
   "cell_type": "markdown",
   "metadata": {},
   "source": [
    "Dekorator `@contextmanager` jest narzędziem, które zbier trzy rozłączne funkcjonalności: dekorator, generator oraz instrukcję `with`. Zamiast pisać całą klasę menedżera kontekstu, implementujemy po prostu generator z instrukcją `yield`, która powinna produkować to co chcemy zwrócić z metody `__enter__`."
   ]
  },
  {
   "cell_type": "code",
   "execution_count": 15,
   "metadata": {},
   "outputs": [],
   "source": [
    "import contextlib\n",
    "import sys\n",
    "\n",
    "\n",
    "# Dekorator contextlib.contextmanager opakowuje funkcję w klasę,\n",
    "# która implementuje metody __enter__ i __exit__.\n",
    "@contextlib.contextmanager\n",
    "def looking_glass():\n",
    "    original_write = sys.stdout.write\n",
    "\n",
    "    def reverse_write(text):\n",
    "        original_write(text[::-1])\n",
    "\n",
    "    sys.stdout.write = reverse_write  # type: ignore\n",
    "    msg = \"\"\n",
    "    try:\n",
    "        # Wszystko co jest przed yield jest odpowiednikiem __enter__.\n",
    "        yield \"JABBA\" # Wartość zwracana przez yield będzie powiązana z klauzulą `as`.\n",
    "        # Wszystko co jest po yield jest odpowiednikiem __exit__.\n",
    "    except:\n",
    "        msg = \"Do not divide by zero\"\n",
    "    finally:\n",
    "        sys.stdout.write = original_write\n",
    "        if msg:\n",
    "            print(msg)"
   ]
  },
  {
   "cell_type": "code",
   "execution_count": 16,
   "metadata": {},
   "outputs": [
    {
     "name": "stdout",
     "output_type": "stream",
     "text": [
      "pordwonS dna yttiK ,ecilA\n",
      "ABBAJ\n"
     ]
    }
   ],
   "source": [
    "with looking_glass() as what:\n",
    "    print(\"Alice, Kitty and Snowdrop\")\n",
    "    print(what)"
   ]
  },
  {
   "cell_type": "code",
   "execution_count": 17,
   "metadata": {},
   "outputs": [
    {
     "data": {
      "text/plain": [
       "'JABBA'"
      ]
     },
     "execution_count": 17,
     "metadata": {},
     "output_type": "execute_result"
    }
   ],
   "source": [
    "what"
   ]
  },
  {
   "cell_type": "markdown",
   "metadata": {},
   "source": [
    "Dekorator `@contextlib.contextmanager` opakowuje funkcję w klasę która implementuje metody `__enter__` i `__exit__`. \n",
    "\n",
    "Metoda `__enter__` tej klasy:\n",
    "- Wywołuje funkcję generatora i utrzymuje obiekt generatora - np. gen.\n",
    "- Wywołuje `next(gen)` aby wykonać kod aż do słowa kluczowego `yield`.\n",
    "- Zwraca wartość wyprodukowaną przez `next(gen)` aby można było ją powiązać ze zmienną po `as`.\n",
    "\n",
    "Po zakończeniu działa bloku `with`, metoda `__exit__`:\n",
    "- Sprawdza czy został przekazany wyjątek `exc_type`. Jeśli tak to wywoływane jest `gen.throw(exception)`, co powoduje, że wyjątek jest zgłaszany w wierszu `yield`.\n",
    "- W przeciwnym razie wywoływane jest `next(gen)`, co wznawia wykonywanie funkcji generatora po instrukcji `yield`.\n",
    "\n",
    "Objęcie instrukcji `yield` konstrukcją `try/finally` jest ceną wykorzystania `@contextmanager`, ponieważ nigdy nie wiemy co użytkownik menedżera kontekstu zrobi w bloku `with`."
   ]
  },
  {
   "cell_type": "code",
   "execution_count": 20,
   "metadata": {},
   "outputs": [
    {
     "name": "stdout",
     "output_type": "stream",
     "text": [
      "olleH\n",
      "Hello\n"
     ]
    }
   ],
   "source": [
    "# Mało znaną cecha dekoratora contextlib.contextmanager jest to,\n",
    "# że dekorowane nim generatory same mogą zostać użyte jako dekoratory.\n",
    "# Działa to, ponieważ contextlib.contextmanager jest implementowany\n",
    "# w ramach klasy contextlib.ContextDecorator.\n",
    "@looking_glass()\n",
    "def reverse(text):\n",
    "    print(text)\n",
    "    \n",
    "reverse(\"Hello\")\n",
    "print(\"Hello\")"
   ]
  },
  {
   "cell_type": "markdown",
   "metadata": {},
   "source": [
    "### Bloki `else` poza instrukcją `if`"
   ]
  },
  {
   "cell_type": "markdown",
   "metadata": {},
   "source": [
    "Klauzula `else` może być używana nie tylko w instrukcjach `if` ale również w instrukcjach `for`, `while` oraz `try`. Semantyka `for/else`, `while/else` oraz `try/else` jest blisko powiązana ale bardzo różna od `if/else`. Reguły są natępujące:\n",
    "\n",
    "- `for` - Blok `else` zadziała tylko wtedy, gdy pętla dotrze do końca. Nie zadziała jeśli opuścimy pętlę przy pomocy instrukcji `break`.\n",
    "- `while` - Blok `else` zadziała tylko wtedy, gdy pętla zakończy się (warunek pętli stanie się falsy). Nie zadziała jeśli opuścimy pętlę przy pomocy instrukcji `break`.\n",
    "- `try` - Blok `else` zadziała tylko wtedy, gdy żaden wyjątek nie zostanie zgłoszony w bloku `try`. \n",
    "  \n",
    "We wszystkich przypadkach klauzula `else` jest też pomijana, jeśli wyjątek albo instrukcja `return`, `break` lub `continue` spowodują wyjście z głównego bloku instrukcji.\n",
    "\n",
    "Słowo kluczowe `else` jest prawdopodobnie źle dobranym słowem kluczowym w powyższych przypadkach, ponieważ opisane bloki działają w trybie \"zrób to a potem tamto\". Dlatego też lepiej pasowałoby prawdopodobnie słowo `then`."
   ]
  },
  {
   "cell_type": "code",
   "execution_count": 26,
   "metadata": {},
   "outputs": [
    {
     "ename": "ValueError",
     "evalue": "No pineapple found",
     "output_type": "error",
     "traceback": [
      "\u001b[1;31m---------------------------------------------------------------------------\u001b[0m",
      "\u001b[1;31mValueError\u001b[0m                                Traceback (most recent call last)",
      "Cell \u001b[1;32mIn[26], line 8\u001b[0m\n\u001b[0;32m      6\u001b[0m         \u001b[38;5;28;01mbreak\u001b[39;00m\n\u001b[0;32m      7\u001b[0m \u001b[38;5;28;01melse\u001b[39;00m:\n\u001b[1;32m----> 8\u001b[0m     \u001b[38;5;28;01mraise\u001b[39;00m \u001b[38;5;167;01mValueError\u001b[39;00m(\u001b[38;5;124m\"\u001b[39m\u001b[38;5;124mNo pineapple found\u001b[39m\u001b[38;5;124m\"\u001b[39m)\n",
      "\u001b[1;31mValueError\u001b[0m: No pineapple found"
     ]
    }
   ],
   "source": [
    "fruits = (\"apple\", \"banana\", \"cherry\")\n",
    "\n",
    "# Typowy przykład użycia klauzuli `else` dla `for`.\n",
    "for fruit in fruits:\n",
    "    if fruit == \"pineapple\":\n",
    "        break\n",
    "else:\n",
    "    raise ValueError(\"No pineapple found\")"
   ]
  },
  {
   "cell_type": "code",
   "execution_count": 33,
   "metadata": {},
   "outputs": [
    {
     "name": "stdout",
     "output_type": "stream",
     "text": [
      "Conversion successful\n",
      "Cleaning up\n"
     ]
    }
   ],
   "source": [
    "try:\n",
    "    a = float(\"1\")\n",
    "except ValueError:\n",
    "    print(\"Could not convert to float\")\n",
    "else:\n",
    "    # Kod w bloku `else` jest wykonywany tylko jeśli nie wystąpił wyjątek.\n",
    "    print(\"Conversion successful\")\n",
    "finally:\n",
    "    print(\"Cleaning up\")"
   ]
  }
 ],
 "metadata": {
  "kernelspec": {
   "display_name": "Python 3",
   "language": "python",
   "name": "python3"
  },
  "language_info": {
   "codemirror_mode": {
    "name": "ipython",
    "version": 3
   },
   "file_extension": ".py",
   "mimetype": "text/x-python",
   "name": "python",
   "nbconvert_exporter": "python",
   "pygments_lexer": "ipython3",
   "version": "3.12.1"
  }
 },
 "nbformat": 4,
 "nbformat_minor": 2
}
