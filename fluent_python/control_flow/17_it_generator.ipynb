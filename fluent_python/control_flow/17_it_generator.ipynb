{
 "cells": [
  {
   "cell_type": "markdown",
   "metadata": {},
   "source": [
    "### Dlaczego sekwencje są iterowalne - funkcja `iter`"
   ]
  },
  {
   "cell_type": "code",
   "execution_count": 1,
   "metadata": {},
   "outputs": [],
   "source": [
    "import re\n",
    "import reprlib\n",
    "\n",
    "RE_WORD = re.compile(r\"\\w+\")\n",
    "\n",
    "\n",
    "class Sentence:\n",
    "    def __init__(self, text):\n",
    "        self.text = text\n",
    "        self.words = RE_WORD.findall(text)\n",
    "\n",
    "    def __getitem__(self, index):\n",
    "        return self.words[index]\n",
    "\n",
    "    def __len__(self):\n",
    "        return len(self.words)\n",
    "\n",
    "    def __repr__(self):\n",
    "        return \"Sentence({})\".format(reprlib.repr(self.text))"
   ]
  },
  {
   "cell_type": "code",
   "execution_count": 2,
   "metadata": {},
   "outputs": [
    {
     "data": {
      "text/plain": [
       "Sentence('Fugiat ab pe... illum ullam.')"
      ]
     },
     "execution_count": 2,
     "metadata": {},
     "output_type": "execute_result"
    }
   ],
   "source": [
    "s = Sentence(\"Fugiat ab perspiciatis voluptatem illum ullam.\")\n",
    "s"
   ]
  },
  {
   "cell_type": "code",
   "execution_count": 3,
   "metadata": {},
   "outputs": [
    {
     "name": "stdout",
     "output_type": "stream",
     "text": [
      "Fugiat\n",
      "ab\n",
      "perspiciatis\n",
      "voluptatem\n",
      "illum\n",
      "ullam\n"
     ]
    }
   ],
   "source": [
    "for word in s:\n",
    "    print(word)"
   ]
  },
  {
   "cell_type": "code",
   "execution_count": 5,
   "metadata": {},
   "outputs": [
    {
     "data": {
      "text/plain": [
       "('Fugiat', 'ab', 'ullam')"
      ]
     },
     "execution_count": 5,
     "metadata": {},
     "output_type": "execute_result"
    }
   ],
   "source": [
    "s[0], s[1], s[-1]"
   ]
  },
  {
   "cell_type": "markdown",
   "metadata": {},
   "source": [
    "Gdy interpreter musi iterować po obiekcie $x$, automatycznie wywołuje `iter(x)`. Wbudowana funkcja `iter`:\n",
    " - Sprawdza czy obiekt implementuje metodę `__iter__` i wywołuje ją w celu uzyskania iteratora.\n",
    " - Jeśli metoda `__iter__` nie jest zaimplementowana, ale zaimplementowana jest metoda `__getitem__`, Python tworzy iterator, który próbuje pobierać elementy kolejno zaczynając od indeksu 0.\n",
    " - Jeśli drugi krok się nie uda, Python wywołuje `TypeError` z informacją, że obiekt nie jest iterowalny.\n",
    "  \n",
    "Dlateg właśnie dowolna sekwencja jest iterowalna: ponieważ wszystkie implementują `__getitem__`. Nie mniej standardowe sekwencje implementują `__iter__` i powinniśmy robić to samo we własnych implementacjach."
   ]
  },
  {
   "cell_type": "code",
   "execution_count": 8,
   "metadata": {},
   "outputs": [
    {
     "data": {
      "text/plain": [
       "(True, True)"
      ]
     },
     "execution_count": 8,
     "metadata": {},
     "output_type": "execute_result"
    }
   ],
   "source": [
    "from collections import abc\n",
    "\n",
    "\n",
    "class GooseSpam:\n",
    "    def __iter__(self): ...\n",
    "\n",
    "# W podejściu gęsiego typowania obiekt jest traktowany jako iterowalny, jeśli \n",
    "# implementuje metodę __iter__. Nie potrzebne jest tworzenie klasy podrzędnej\n",
    "# ani rejestrowanie, ponieważ abc.Iterable implementuje __subclasshook__.\n",
    "issubclass(GooseSpam, abc.Iterable), isinstance(GooseSpam(), abc.Iterable)"
   ]
  },
  {
   "cell_type": "markdown",
   "metadata": {},
   "source": [
    "W Pythonie 3.10+ najbardziej dokładną metodą sprawdzenia czy obiekt jest iterowalny, jest wywołanie funkcji `iter` na tym obiekcie i obsłużenie wyjątku `TypeError` jeśli nie jest."
   ]
  },
  {
   "cell_type": "markdown",
   "metadata": {},
   "source": [
    "### Używanie `iter` wobec obiektów iterowalnych"
   ]
  },
  {
   "cell_type": "code",
   "execution_count": 15,
   "metadata": {},
   "outputs": [
    {
     "data": {
      "text/plain": [
       "<callable_iterator at 0x1cd1bb58be0>"
      ]
     },
     "execution_count": 15,
     "metadata": {},
     "output_type": "execute_result"
    }
   ],
   "source": [
    "import random\n",
    "\n",
    "\n",
    "def d6():\n",
    "    return random.randint(1, 6)\n",
    "\n",
    "\n",
    "d6_iter = iter(d6, 1)\n",
    "d6_iter"
   ]
  },
  {
   "cell_type": "code",
   "execution_count": 16,
   "metadata": {},
   "outputs": [
    {
     "name": "stdout",
     "output_type": "stream",
     "text": [
      "3 5 3 4 5 4 "
     ]
    }
   ],
   "source": [
    "for roll in d6_iter:\n",
    "    print(roll, end=\" \")"
   ]
  },
  {
   "cell_type": "markdown",
   "metadata": {},
   "source": [
    "Funkcję `iter` można wywołać z dwoma argumentami, aby utworzyć iterator z funkcji lub dowolnego wywoływalnego obiektu. W takim przypadku pierwszy argument musi być obiektem wywoływalnym, który będzie wywoływany wielokrotnie bez żadnego argumentu w celu tworzenia wartości. Drugi argument to wartownik (sentinel). Jeżeli wartość wartownika zostanie zwrócona przez obiekt wywoływalny, to nastąpi zgłoszenie wyjątki `StopIteration` zamiast zwracania wartownika."
   ]
  },
  {
   "cell_type": "markdown",
   "metadata": {},
   "source": [
    "### Obiekty iterowalne kontra iteratory"
   ]
  },
  {
   "cell_type": "markdown",
   "metadata": {},
   "source": [
    "Obiekt iterowalny to dowolny obiekt, z którego wbudowana funkcja `iter` może uzyskać iterator. Obiekty implementujące metodę `__iter__` zwracającą iterator, są iterowalne. \n",
    "\n",
    "Python uzyskuje iteratory z obiektów iterowalnych."
   ]
  },
  {
   "cell_type": "code",
   "execution_count": 18,
   "metadata": {},
   "outputs": [
    {
     "name": "stdout",
     "output_type": "stream",
     "text": [
      "A\n",
      "B\n",
      "C\n"
     ]
    }
   ],
   "source": [
    "# Gdyby nie było pętli for to musielibyśmy pisać coś takiego:\n",
    "s = \"ABC\"\n",
    "it = iter(s)\n",
    "\n",
    "while True:\n",
    "    try:\n",
    "        print(next(it))\n",
    "    except StopIteration:\n",
    "        del it\n",
    "        break\n"
   ]
  },
  {
   "cell_type": "markdown",
   "metadata": {},
   "source": [
    "Standardowy interfejs dla iteratora ma dwie metody:\n",
    " - `__next__` - Zwraca następny dostępny element zgłaszając `StopIteration`, gdy nie ma więcej elementów.\n",
    " - `__iter__` - Zwraca `self`. Pozwala to na używanie iteratorów tam, gdzie oczekiwany jest obiekt iterowalny."
   ]
  },
  {
   "cell_type": "markdown",
   "metadata": {},
   "source": [
    "### Klasa Sentence - klasyczny wzorzec iteratora"
   ]
  },
  {
   "cell_type": "code",
   "execution_count": 19,
   "metadata": {},
   "outputs": [],
   "source": [
    "RE_WORD = re.compile(r\"\\w+\")\n",
    "\n",
    "\n",
    "class Sentence:\n",
    "    def __init__(self, text):\n",
    "        self.text = text\n",
    "        self.words = RE_WORD.findall(text)\n",
    "\n",
    "    def __repr__(self):\n",
    "        return \"Sentence({})\".format(reprlib.repr(self.text))\n",
    "\n",
    "    # Nie ma metody __getitem__ aby było jasne, że klasa jest iterowalna\n",
    "    # ponieważ implementuje metodę __iter__\n",
    "    def __iter__(self):\n",
    "        return SentenceIterator(self.words)\n",
    "\n",
    "\n",
    "class SentenceIterator:\n",
    "    def __init__(self, words):\n",
    "        self.words = words\n",
    "        self.index = 0\n",
    "\n",
    "    # Iteratory powinny implementować metodę __next__ \n",
    "    # i zwracać self w metodzie __iter__\n",
    "    def __next__(self):\n",
    "        try:\n",
    "            word = self.words[self.index]\n",
    "        except IndexError:\n",
    "            raise StopIteration()\n",
    "        self.index += 1\n",
    "        return word\n",
    "    \n",
    "    def __iter__(self):\n",
    "        return self"
   ]
  },
  {
   "cell_type": "code",
   "execution_count": 20,
   "metadata": {},
   "outputs": [
    {
     "name": "stdout",
     "output_type": "stream",
     "text": [
      "Fugiat\n",
      "ab\n",
      "perspiciatis\n",
      "voluptatem\n",
      "illum\n",
      "ullam\n"
     ]
    }
   ],
   "source": [
    "c = Sentence(\"Fugiat ab perspiciatis voluptatem illum ullam.\")\n",
    "for w in c:\n",
    "    print(w)"
   ]
  },
  {
   "cell_type": "markdown",
   "metadata": {},
   "source": [
    "**NIE PRZEKSZTAŁCAJ OBIEKTU ITEROWALNEGO W SWÓJ WŁASNY ITERATOR**\n",
    "\n",
    "Obiekty iterowalne mają metodę `__iter__`, która za każdym razem tworzy nowe wystąpienie iteratora. Iteratory implementują metodę `__next__`, która zwraca pojedyncze elementy oraz metodę `__iter__`, która zwraca `self`.\n",
    "\n",
    "**Iteratory są też iterowalne, ale obiekty iterowalne nie są iteratorami.** Obiekty iterowalne muszą implementować `__iter__` ale nie powinny implementować `__next__`."
   ]
  },
  {
   "cell_type": "markdown",
   "metadata": {},
   "source": [
    "### Klasa Sentence - funkcja generatora"
   ]
  },
  {
   "cell_type": "code",
   "execution_count": 22,
   "metadata": {},
   "outputs": [],
   "source": [
    "class Sentence:\n",
    "    def __init__(self, text):\n",
    "        self.text = text\n",
    "        self.words = RE_WORD.findall(text)\n",
    "\n",
    "    def __repr__(self):\n",
    "        return \"Sentence({})\".format(reprlib.repr(self.text))\n",
    "\n",
    "    # Funkcja generatora nie zgłasza StopIteration. Po prostu kończy działanie\n",
    "    # gdy wyprodukuje wszystkie wartości.\n",
    "    def __iter__(self):\n",
    "        for word in self.words:\n",
    "            yield word"
   ]
  },
  {
   "cell_type": "code",
   "execution_count": 23,
   "metadata": {},
   "outputs": [
    {
     "name": "stdout",
     "output_type": "stream",
     "text": [
      "Fugiat\n",
      "ab\n",
      "perspiciatis\n",
      "voluptatem\n",
      "illum\n",
      "ullam\n"
     ]
    }
   ],
   "source": [
    "s = Sentence(\"Fugiat ab perspiciatis voluptatem illum ullam.\")\n",
    "for w in s:\n",
    "    print(w)"
   ]
  },
  {
   "cell_type": "markdown",
   "metadata": {},
   "source": [
    "Każda funkcja Pythona, która zawiera słowo kluczowe `yield`, jest funkcją generatora. Funkcją która w momencie wywołania zwraca obiekt generatora. Funkcja generatora jest fabryką generatorów."
   ]
  },
  {
   "cell_type": "code",
   "execution_count": 24,
   "metadata": {},
   "outputs": [],
   "source": [
    "def gen123():\n",
    "    yield 1\n",
    "    yield 2\n",
    "    yield 3\n"
   ]
  },
  {
   "cell_type": "code",
   "execution_count": 25,
   "metadata": {},
   "outputs": [
    {
     "data": {
      "text/plain": [
       "<function __main__.gen123()>"
      ]
     },
     "execution_count": 25,
     "metadata": {},
     "output_type": "execute_result"
    }
   ],
   "source": [
    "gen123"
   ]
  },
  {
   "cell_type": "code",
   "execution_count": 26,
   "metadata": {},
   "outputs": [
    {
     "data": {
      "text/plain": [
       "<generator object gen123 at 0x000001CD1A8A7C10>"
      ]
     },
     "execution_count": 26,
     "metadata": {},
     "output_type": "execute_result"
    }
   ],
   "source": [
    "gen123()"
   ]
  },
  {
   "cell_type": "code",
   "execution_count": 27,
   "metadata": {},
   "outputs": [
    {
     "data": {
      "text/plain": [
       "(1, 2, 3)"
      ]
     },
     "execution_count": 27,
     "metadata": {},
     "output_type": "execute_result"
    }
   ],
   "source": [
    "g = gen123()\n",
    "next(g), next(g), next(g)"
   ]
  },
  {
   "cell_type": "code",
   "execution_count": 28,
   "metadata": {},
   "outputs": [
    {
     "ename": "StopIteration",
     "evalue": "",
     "output_type": "error",
     "traceback": [
      "\u001b[1;31m---------------------------------------------------------------------------\u001b[0m",
      "\u001b[1;31mStopIteration\u001b[0m                             Traceback (most recent call last)",
      "Cell \u001b[1;32mIn[28], line 1\u001b[0m\n\u001b[1;32m----> 1\u001b[0m \u001b[38;5;28;43mnext\u001b[39;49m\u001b[43m(\u001b[49m\u001b[43mg\u001b[49m\u001b[43m)\u001b[49m\n",
      "\u001b[1;31mStopIteration\u001b[0m: "
     ]
    }
   ],
   "source": [
    "next(g)"
   ]
  },
  {
   "cell_type": "markdown",
   "metadata": {},
   "source": [
    "Generatory są iteratorami, które produkują wartości z wyrażeń przekazywanych do instrukcji `yield`."
   ]
  },
  {
   "cell_type": "code",
   "execution_count": 29,
   "metadata": {},
   "outputs": [
    {
     "name": "stdout",
     "output_type": "stream",
     "text": [
      "start\n",
      "--> A\n",
      "continue\n",
      "--> B\n",
      "end.\n"
     ]
    }
   ],
   "source": [
    "def genAB():\n",
    "    print(\"start\")\n",
    "    yield \"A\"\n",
    "    print(\"continue\")\n",
    "    yield \"B\"\n",
    "    print(\"end.\")\n",
    "    \n",
    "for c in genAB():\n",
    "    print(\"-->\", c)"
   ]
  },
  {
   "cell_type": "markdown",
   "metadata": {},
   "source": [
    "### Leniwa klasa Sentence"
   ]
  },
  {
   "cell_type": "code",
   "execution_count": 33,
   "metadata": {},
   "outputs": [],
   "source": [
    "RE_WORD = re.compile(r\"\\w+\")\n",
    "\n",
    "\n",
    "class Sentence:\n",
    "    def __init__(self, text):\n",
    "        self.text = text\n",
    "\n",
    "    def __repr__(self):\n",
    "        return \"Sentence({})\".format(reprlib.repr(self.text))\n",
    "\n",
    "    def __iter__(self):\n",
    "        # Wyrażenie generatora.\n",
    "        return (match.group() for match in RE_WORD.finditer(self.text))"
   ]
  },
  {
   "cell_type": "markdown",
   "metadata": {},
   "source": [
    "### Iterator vs Generator"
   ]
  },
  {
   "cell_type": "markdown",
   "metadata": {},
   "source": [
    "- Iterator - ogólny termin dla dowolnego obiektu, który implementuje `__next__`. Iteratory są zaprojektowane dla tworzenia danych, które są konsumowane przez kod kliencki, czyli kod, który steruje iteratorem poprzez pętlę `for` albo inną funkcjonalność iteracyjną. W praktyce większość iteratorów, których używamy to generatory.\n",
    "- Generator - iterator budowany przez kompilator Pythona. Aby utworzyc generator, nie implementujemy `__next__`. Zamiast tego używamy słowa kluczowego `yield` aby utworzyć funkcję generatora, która jest fabryką obiektów generatorów. Wyrażenie generatora jest innym sposobem zbudowania obiektu generatora. Obiekty generatora udostępniają metodę `__next__`, zatem są one iteratorami."
   ]
  },
  {
   "cell_type": "markdown",
   "metadata": {},
   "source": [
    "### Generator ciągu arytmetycznego"
   ]
  },
  {
   "cell_type": "code",
   "execution_count": 47,
   "metadata": {},
   "outputs": [],
   "source": [
    "class ArithmeticProgression:\n",
    "    def __init__(self, start, step, stop=None):\n",
    "        self.start = start\n",
    "        self.step = step\n",
    "        self.stop = stop\n",
    "\n",
    "    def __iter__(self):\n",
    "        # Wartości start i step mogą mieć różne typy, więc wynik powinien\n",
    "        # być zgodny z typem start + step.\n",
    "        result_type = type(self.start + self.step)\n",
    "        result = result_type(self.start)\n",
    "        index = 0\n",
    "        while self.stop is None or result < self.stop:\n",
    "            yield result\n",
    "            index += 1\n",
    "            # Zapobiegaj błędom zaokrągleń.\n",
    "            result = self.start + self.step * index"
   ]
  },
  {
   "cell_type": "code",
   "execution_count": 48,
   "metadata": {},
   "outputs": [
    {
     "data": {
      "text/plain": [
       "[0, 1, 2]"
      ]
     },
     "execution_count": 48,
     "metadata": {},
     "output_type": "execute_result"
    }
   ],
   "source": [
    "[v for v in ArithmeticProgression(0, 1, 3)]"
   ]
  },
  {
   "cell_type": "code",
   "execution_count": 49,
   "metadata": {},
   "outputs": [
    {
     "data": {
      "text/plain": [
       "[1.0, 1.5, 2.0, 2.5]"
      ]
     },
     "execution_count": 49,
     "metadata": {},
     "output_type": "execute_result"
    }
   ],
   "source": [
    "[v for v in ArithmeticProgression(1, .5, 3)]"
   ]
  },
  {
   "cell_type": "code",
   "execution_count": 51,
   "metadata": {},
   "outputs": [
    {
     "data": {
      "text/plain": [
       "[Fraction(0, 1), Fraction(1, 3), Fraction(2, 3)]"
      ]
     },
     "execution_count": 51,
     "metadata": {},
     "output_type": "execute_result"
    }
   ],
   "source": [
    "from fractions import Fraction\n",
    "\n",
    "[v for v in ArithmeticProgression(0, Fraction(\"1/3\"), 1)]"
   ]
  },
  {
   "cell_type": "code",
   "execution_count": 55,
   "metadata": {},
   "outputs": [
    {
     "data": {
      "text/plain": [
       "[Decimal('0'), Decimal('0.09'), Decimal('0.18'), Decimal('0.27')]"
      ]
     },
     "execution_count": 55,
     "metadata": {},
     "output_type": "execute_result"
    }
   ],
   "source": [
    "from decimal import Decimal\n",
    "\n",
    "[v for v in ArithmeticProgression(0, Decimal(\"0.09\"), 0.3)]"
   ]
  },
  {
   "cell_type": "markdown",
   "metadata": {},
   "source": [
    "Jeżeli jedynym zadaniem klasy jest budowanie generatora przez implementację `__iter__`, to klasa może być zredukowana do funkcji generatora. Funkcja generatora jest przecież fabryką generatorów."
   ]
  },
  {
   "cell_type": "code",
   "execution_count": 58,
   "metadata": {},
   "outputs": [],
   "source": [
    "def arithmetic_progession(start, step, stop=None):\n",
    "    result = type(start + step)(start)\n",
    "    index = 0\n",
    "    while stop is None or result < stop:\n",
    "        yield result\n",
    "        index += 1\n",
    "        result = start + step * index"
   ]
  },
  {
   "cell_type": "code",
   "execution_count": 59,
   "metadata": {},
   "outputs": [
    {
     "data": {
      "text/plain": [
       "[Decimal('0'), Decimal('0.1'), Decimal('0.2')]"
      ]
     },
     "execution_count": 59,
     "metadata": {},
     "output_type": "execute_result"
    }
   ],
   "source": [
    "[v for v in arithmetic_progession(0, Decimal(\"0.1\"), 0.3)]"
   ]
  },
  {
   "cell_type": "markdown",
   "metadata": {},
   "source": [
    "### Funkcje generatora w bibliotece standardowej"
   ]
  },
  {
   "cell_type": "code",
   "execution_count": 40,
   "metadata": {},
   "outputs": [],
   "source": [
    "import functools\n",
    "import itertools\n",
    "import operator"
   ]
  },
  {
   "cell_type": "markdown",
   "metadata": {},
   "source": [
    "#### 1. Filtrujące funkcje generatora:"
   ]
  },
  {
   "cell_type": "code",
   "execution_count": 24,
   "metadata": {},
   "outputs": [],
   "source": [
    "def vowel(c):\n",
    "    return c.lower() in \"aeiou\""
   ]
  },
  {
   "cell_type": "code",
   "execution_count": 28,
   "metadata": {},
   "outputs": [
    {
     "data": {
      "text/plain": [
       "['A', 'a', 'a']"
      ]
     },
     "execution_count": 28,
     "metadata": {},
     "output_type": "execute_result"
    }
   ],
   "source": [
    "# filter(predicate, it)\n",
    "# Zwraca tylko te elementy z it, dla których predicate zwraca True.\n",
    "list(filter(vowel, \"Aardvark\"))"
   ]
  },
  {
   "cell_type": "code",
   "execution_count": 29,
   "metadata": {},
   "outputs": [
    {
     "data": {
      "text/plain": [
       "['r', 'd', 'v', 'r', 'k']"
      ]
     },
     "execution_count": 29,
     "metadata": {},
     "output_type": "execute_result"
    }
   ],
   "source": [
    "# filterfalse(predicate, it)\n",
    "# Zwraca tylko te elementy z it, dla których predicate zwraca False.\n",
    "list(itertools.filterfalse(vowel, \"Aardvark\"))"
   ]
  },
  {
   "cell_type": "code",
   "execution_count": 30,
   "metadata": {},
   "outputs": [
    {
     "data": {
      "text/plain": [
       "['A', 'a', 'r', 'd']"
      ]
     },
     "execution_count": 30,
     "metadata": {},
     "output_type": "execute_result"
    }
   ],
   "source": [
    "# islice(it, start, stop, step=1)\n",
    "# Zwraca wycinek it zaczynający się od start, kończący na stop, z krokiem step.\n",
    "list(itertools.islice(\"Aardvark\", 4))"
   ]
  },
  {
   "cell_type": "code",
   "execution_count": 31,
   "metadata": {},
   "outputs": [
    {
     "data": {
      "text/plain": [
       "['v', 'a', 'r']"
      ]
     },
     "execution_count": 31,
     "metadata": {},
     "output_type": "execute_result"
    }
   ],
   "source": [
    "list(itertools.islice(\"Aardvark\", 4, 7))"
   ]
  },
  {
   "cell_type": "code",
   "execution_count": 32,
   "metadata": {},
   "outputs": [
    {
     "data": {
      "text/plain": [
       "['a', 'd', 'a']"
      ]
     },
     "execution_count": 32,
     "metadata": {},
     "output_type": "execute_result"
    }
   ],
   "source": [
    "list(itertools.islice(\"Aardvark\", 1, 7, 2))"
   ]
  },
  {
   "cell_type": "code",
   "execution_count": 33,
   "metadata": {},
   "outputs": [
    {
     "data": {
      "text/plain": [
       "['A', 'r', 'd', 'a', 'r']"
      ]
     },
     "execution_count": 33,
     "metadata": {},
     "output_type": "execute_result"
    }
   ],
   "source": [
    "# compress(it, selector_it)\n",
    "# Zwraca tylko te elementy z it, dla których odpowiadające im elementy \n",
    "# z selector_it są True.\n",
    "list(itertools.compress(\"Aardvark\", (1, 0, 1, 1, 0, 1, 1)))"
   ]
  },
  {
   "cell_type": "code",
   "execution_count": 34,
   "metadata": {},
   "outputs": [
    {
     "data": {
      "text/plain": [
       "['r', 'd', 'v', 'a', 'r', 'k']"
      ]
     },
     "execution_count": 34,
     "metadata": {},
     "output_type": "execute_result"
    }
   ],
   "source": [
    "# dropwhile(predicate, it)\n",
    "# Pomija elementy z it, dopóki predicate zwraca True, a następnie zwraca\n",
    "# wszystkie pozostałe elementy.\n",
    "list(itertools.dropwhile(vowel, \"Aardvark\"))"
   ]
  },
  {
   "cell_type": "markdown",
   "metadata": {},
   "source": [
    "#### 2. Mapujące funkcje generatora:"
   ]
  },
  {
   "cell_type": "code",
   "execution_count": 36,
   "metadata": {},
   "outputs": [],
   "source": [
    "sample = [5, 4, 2, 8, 7, 6, 3, 0, 9, 1]"
   ]
  },
  {
   "cell_type": "code",
   "execution_count": 37,
   "metadata": {},
   "outputs": [
    {
     "data": {
      "text/plain": [
       "[5, 9, 11, 19, 26, 32, 35, 35, 44, 45]"
      ]
     },
     "execution_count": 37,
     "metadata": {},
     "output_type": "execute_result"
    }
   ],
   "source": [
    "# accumulate(it, [func])\n",
    "# Zwraca zakumulowaną sumę elementów it. Jeśli podano func, to zwraca\n",
    "# zakumulowane wyniki wywołań func na elementach it. \n",
    "list(itertools.accumulate(sample))"
   ]
  },
  {
   "cell_type": "code",
   "execution_count": 38,
   "metadata": {},
   "outputs": [
    {
     "data": {
      "text/plain": [
       "[5, 4, 2, 2, 2, 2, 2, 0, 0, 0]"
      ]
     },
     "execution_count": 38,
     "metadata": {},
     "output_type": "execute_result"
    }
   ],
   "source": [
    "list(itertools.accumulate(sample, min))"
   ]
  },
  {
   "cell_type": "code",
   "execution_count": 39,
   "metadata": {},
   "outputs": [
    {
     "data": {
      "text/plain": [
       "[5, 5, 5, 8, 8, 8, 8, 8, 9, 9]"
      ]
     },
     "execution_count": 39,
     "metadata": {},
     "output_type": "execute_result"
    }
   ],
   "source": [
    "list(itertools.accumulate(sample, max))"
   ]
  },
  {
   "cell_type": "code",
   "execution_count": 42,
   "metadata": {},
   "outputs": [
    {
     "data": {
      "text/plain": [
       "[5, 20, 40, 320, 2240, 13440, 40320, 0, 0, 0]"
      ]
     },
     "execution_count": 42,
     "metadata": {},
     "output_type": "execute_result"
    }
   ],
   "source": [
    "list(itertools.accumulate(sample, operator.mul))"
   ]
  },
  {
   "cell_type": "code",
   "execution_count": 44,
   "metadata": {},
   "outputs": [
    {
     "data": {
      "text/plain": [
       "[(1, 'a'), (2, 'b'), (3, 'c')]"
      ]
     },
     "execution_count": 44,
     "metadata": {},
     "output_type": "execute_result"
    }
   ],
   "source": [
    "# enumerate(iterable, start=0)\n",
    "# Produkuje krotki (index, value) dla elementów z iterable.\n",
    "# gdzie index zaczyna się od start.\n",
    "list(enumerate(\"abc\", 1))"
   ]
  },
  {
   "cell_type": "code",
   "execution_count": 47,
   "metadata": {},
   "outputs": [
    {
     "data": {
      "text/plain": [
       "[0, 1, 4, 9, 16, 25, 36, 49, 64, 81, 100]"
      ]
     },
     "execution_count": 47,
     "metadata": {},
     "output_type": "execute_result"
    }
   ],
   "source": [
    "# map(func, it1, [it2, ...])\n",
    "# Stosuje func wobec każdego elementu z it. Jeśli podano więcej niż jeden\n",
    "# iterowalny, to func musi przyjmować tyle argumentów, ile jest iterowalnych.\n",
    "list(map(operator.mul, range(11), range(11)))"
   ]
  },
  {
   "cell_type": "code",
   "execution_count": 50,
   "metadata": {},
   "outputs": [
    {
     "data": {
      "text/plain": [
       "[(0, 2), (1, 4), (2, 8)]"
      ]
     },
     "execution_count": 50,
     "metadata": {},
     "output_type": "execute_result"
    }
   ],
   "source": [
    "list(map(lambda a, b: (a, b), range(11), [2, 4, 8]))  # To właśnie robi zip"
   ]
  },
  {
   "cell_type": "code",
   "execution_count": 54,
   "metadata": {},
   "outputs": [
    {
     "data": {
      "text/plain": [
       "['a', 'bb', 'ccc']"
      ]
     },
     "execution_count": 54,
     "metadata": {},
     "output_type": "execute_result"
    }
   ],
   "source": [
    "# starmap(func, it)\n",
    "# Stosuje func wobec każdego elementu z it. Wejściowy obiekt iterowalny\n",
    "# powinien produkować elementy iterowalne iit a func jest stosowana jako\n",
    "# func(*iit).\n",
    "list(itertools.starmap(operator.mul, enumerate(\"abc\", 1)))"
   ]
  },
  {
   "cell_type": "code",
   "execution_count": 55,
   "metadata": {},
   "outputs": [
    {
     "data": {
      "text/plain": [
       "[5.0,\n",
       " 4.5,\n",
       " 3.6666666666666665,\n",
       " 4.75,\n",
       " 5.2,\n",
       " 5.333333333333333,\n",
       " 5.0,\n",
       " 4.375,\n",
       " 4.888888888888889,\n",
       " 4.5]"
      ]
     },
     "execution_count": 55,
     "metadata": {},
     "output_type": "execute_result"
    }
   ],
   "source": [
    "# Średnia krocząca.\n",
    "list(itertools.starmap(lambda a, b: b / a, enumerate(itertools.accumulate(sample), 1)))"
   ]
  },
  {
   "cell_type": "markdown",
   "metadata": {},
   "source": [
    "#### 3. Scalające funkcje generatora:"
   ]
  },
  {
   "cell_type": "code",
   "execution_count": 56,
   "metadata": {},
   "outputs": [
    {
     "data": {
      "text/plain": [
       "['A', 'B', 'C', 0, 1]"
      ]
     },
     "execution_count": 56,
     "metadata": {},
     "output_type": "execute_result"
    }
   ],
   "source": [
    "# chain(it1, it2, ...)\n",
    "# Łączy iterowalne w jedno.\n",
    "list(itertools.chain(\"ABC\", range(2)))"
   ]
  },
  {
   "cell_type": "code",
   "execution_count": 57,
   "metadata": {},
   "outputs": [
    {
     "data": {
      "text/plain": [
       "[0, 'A', 1, 'B', 2, 'C']"
      ]
     },
     "execution_count": 57,
     "metadata": {},
     "output_type": "execute_result"
    }
   ],
   "source": [
    "# chain.from_iterable(it)\n",
    "# Produkuje elementy z każdego elementu it, który powinien być iterowalny.\n",
    "list(itertools.chain.from_iterable(enumerate(\"ABC\")))"
   ]
  },
  {
   "cell_type": "code",
   "execution_count": 58,
   "metadata": {},
   "outputs": [
    {
     "data": {
      "text/plain": [
       "[('A', 0), ('A', 1), ('B', 0), ('B', 1), ('C', 0), ('C', 1)]"
      ]
     },
     "execution_count": 58,
     "metadata": {},
     "output_type": "execute_result"
    }
   ],
   "source": [
    "# product(it1, it2, ..., repeat=1)\n",
    "# Iloczyn kartezjański.\n",
    "list(itertools.product(\"ABC\", range(2)))"
   ]
  },
  {
   "cell_type": "code",
   "execution_count": 59,
   "metadata": {},
   "outputs": [
    {
     "data": {
      "text/plain": [
       "[('A', 0), ('B', 1), ('C', 2)]"
      ]
     },
     "execution_count": 59,
     "metadata": {},
     "output_type": "execute_result"
    }
   ],
   "source": [
    "# zip(it1, it2, ...)\n",
    "# Produkuje krotki z elementów z it1, it2, ...\n",
    "list(zip(\"ABC\", range(5)))"
   ]
  },
  {
   "cell_type": "code",
   "execution_count": 61,
   "metadata": {},
   "outputs": [
    {
     "data": {
      "text/plain": [
       "[('A', 0), ('B', 1), ('C', 2), ('?', 3), ('?', 4)]"
      ]
     },
     "execution_count": 61,
     "metadata": {},
     "output_type": "execute_result"
    }
   ],
   "source": [
    "# zip_longest(it1, it2, ..., fillvalue=None)\n",
    "# Produkuje krotki z elementów z it1, it2, ... Wypełnia brakujące wartości\n",
    "list(itertools.zip_longest(\"ABC\", range(5), fillvalue=\"?\"))"
   ]
  },
  {
   "cell_type": "markdown",
   "metadata": {},
   "source": [
    "#### 4. Rozszerzające funkcje generatora:"
   ]
  },
  {
   "cell_type": "code",
   "execution_count": 65,
   "metadata": {},
   "outputs": [
    {
     "data": {
      "text/plain": [
       "[('A', 'B', 'C'), ('A', 'B', 'D'), ('A', 'C', 'D'), ('B', 'C', 'D')]"
      ]
     },
     "execution_count": 65,
     "metadata": {},
     "output_type": "execute_result"
    }
   ],
   "source": [
    "# combinations(it, out_len)\n",
    "# Zwraca kombinacje out_len elementowe elementów z it.\n",
    "list(itertools.combinations(\"ABCD\", 3))"
   ]
  },
  {
   "cell_type": "code",
   "execution_count": 66,
   "metadata": {},
   "outputs": [
    {
     "data": {
      "text/plain": [
       "[('A', 'A'), ('A', 'B'), ('A', 'C'), ('B', 'B'), ('B', 'C'), ('C', 'C')]"
      ]
     },
     "execution_count": 66,
     "metadata": {},
     "output_type": "execute_result"
    }
   ],
   "source": [
    "# combinations_with_replacement(it, out_len)\n",
    "# Zwraca kombinacje out_len elementowe elementów z it z powtórzeniami.\n",
    "list(itertools.combinations_with_replacement(\"ABC\", 2))"
   ]
  },
  {
   "cell_type": "code",
   "execution_count": 69,
   "metadata": {},
   "outputs": [
    {
     "data": {
      "text/plain": [
       "[1, 1.3, 1.6]"
      ]
     },
     "execution_count": 69,
     "metadata": {},
     "output_type": "execute_result"
    }
   ],
   "source": [
    "# count(start=0, step=1)\n",
    "# Produkuje liczby zaczynając od start, z krokiem step bez końca.\n",
    "list(itertools.islice(itertools.count(1, .3), 3))"
   ]
  },
  {
   "cell_type": "code",
   "execution_count": 70,
   "metadata": {},
   "outputs": [
    {
     "data": {
      "text/plain": [
       "['A', 'B', 'C', 'A', 'B', 'C', 'A']"
      ]
     },
     "execution_count": 70,
     "metadata": {},
     "output_type": "execute_result"
    }
   ],
   "source": [
    "# cycle(it)\n",
    "# Produkuje elementy z it w nieskończoność.\n",
    "list(itertools.islice(itertools.cycle(\"ABC\"), 7))"
   ]
  },
  {
   "cell_type": "code",
   "execution_count": 71,
   "metadata": {},
   "outputs": [
    {
     "data": {
      "text/plain": [
       "[('A', 'B'), ('A', 'C'), ('B', 'A'), ('B', 'C'), ('C', 'A'), ('C', 'B')]"
      ]
     },
     "execution_count": 71,
     "metadata": {},
     "output_type": "execute_result"
    }
   ],
   "source": [
    "# permutations(it, out_len=None)\n",
    "# Zwraca permutacje out_len elementowe elementów z it.\n",
    "list(itertools.permutations(\"ABC\", 2))"
   ]
  },
  {
   "cell_type": "code",
   "execution_count": 72,
   "metadata": {},
   "outputs": [
    {
     "data": {
      "text/plain": [
       "[8, 8, 8, 8]"
      ]
     },
     "execution_count": 72,
     "metadata": {},
     "output_type": "execute_result"
    }
   ],
   "source": [
    "# repeat(elem, [times])\n",
    "# Produkuje elem times razy lub w nieskończoność.\n",
    "list(itertools.repeat(8, 4))"
   ]
  },
  {
   "cell_type": "code",
   "execution_count": 75,
   "metadata": {},
   "outputs": [
    {
     "data": {
      "text/plain": [
       "[('A', 'B'), ('B', 'C')]"
      ]
     },
     "execution_count": 75,
     "metadata": {},
     "output_type": "execute_result"
    }
   ],
   "source": [
    "# pairwise(it)\n",
    "# Produkuje pary kolejnych elementów z it.\n",
    "list(itertools.pairwise(\"ABC\"))"
   ]
  },
  {
   "cell_type": "markdown",
   "metadata": {},
   "source": [
    "#### 5. Przestawiające funkcje generatora:"
   ]
  },
  {
   "cell_type": "code",
   "execution_count": 80,
   "metadata": {},
   "outputs": [
    {
     "data": {
      "text/plain": [
       "[['L', 'L', 'L', 'L'], ['A', 'A'], ['G', 'G', 'G']]"
      ]
     },
     "execution_count": 80,
     "metadata": {},
     "output_type": "execute_result"
    }
   ],
   "source": [
    "# groupby(it, key=None)\n",
    "# Produkuje 2-krotki, grupując elementy z it według wartości zwracanej przez key.\n",
    "list(list(group) for char, group in itertools.groupby(\"LLLLAAGGG\"))"
   ]
  },
  {
   "cell_type": "code",
   "execution_count": 81,
   "metadata": {},
   "outputs": [
    {
     "data": {
      "text/plain": [
       "['C', 'B', 'A']"
      ]
     },
     "execution_count": 81,
     "metadata": {},
     "output_type": "execute_result"
    }
   ],
   "source": [
    "# reversed(seq)\n",
    "# Produkuje elementy z seq w odwrotnej kolejności.\n",
    "# Jednak unika tworzenia kopii seq.\n",
    "list(reversed(\"ABC\"))"
   ]
  },
  {
   "cell_type": "code",
   "execution_count": 87,
   "metadata": {},
   "outputs": [
    {
     "data": {
      "text/plain": [
       "(['A', 'B', 'C'], ['A', 'B', 'C'], ['A', 'B', 'C'])"
      ]
     },
     "execution_count": 87,
     "metadata": {},
     "output_type": "execute_result"
    }
   ],
   "source": [
    "# tee(it, n=2)\n",
    "# Produkuje krotkę złożoną z n generatorów, każdy z nich produkuje\n",
    "# elementy z it.\n",
    "g1, g2, g3 = itertools.tee(\"ABC\", 3)\n",
    "list(g1), list(g2), list(g3)"
   ]
  },
  {
   "cell_type": "code",
   "execution_count": 88,
   "metadata": {},
   "outputs": [
    {
     "data": {
      "text/plain": [
       "[('A', 'A', 'A'), ('B', 'B', 'B'), ('C', 'C', 'C')]"
      ]
     },
     "execution_count": 88,
     "metadata": {},
     "output_type": "execute_result"
    }
   ],
   "source": [
    "list(zip(*itertools.tee(\"ABC\", 3)))"
   ]
  },
  {
   "cell_type": "markdown",
   "metadata": {},
   "source": [
    "#### 6. Funkcje redukujące"
   ]
  },
  {
   "cell_type": "code",
   "execution_count": 89,
   "metadata": {},
   "outputs": [
    {
     "data": {
      "text/plain": [
       "True"
      ]
     },
     "execution_count": 89,
     "metadata": {},
     "output_type": "execute_result"
    }
   ],
   "source": [
    "# all(it)\n",
    "# Zwraca True, jeśli wszystkie elementy z it są prawdziwe.\n",
    "# all([]) zwraca True.\n",
    "all([1, 2, 3])"
   ]
  },
  {
   "cell_type": "code",
   "execution_count": 90,
   "metadata": {},
   "outputs": [
    {
     "data": {
      "text/plain": [
       "True"
      ]
     },
     "execution_count": 90,
     "metadata": {},
     "output_type": "execute_result"
    }
   ],
   "source": [
    "# any(it)\n",
    "# Zwraca True, jeśli którykolwiek element z it jest prawdziwy.\n",
    "# any([]) zwraca False.\n",
    "any([1, 2, 3])"
   ]
  },
  {
   "cell_type": "code",
   "execution_count": 91,
   "metadata": {},
   "outputs": [
    {
     "data": {
      "text/plain": [
       "'abc'"
      ]
     },
     "execution_count": 91,
     "metadata": {},
     "output_type": "execute_result"
    }
   ],
   "source": [
    "# max(it, [key], [default])\n",
    "# Zwraca największy element z it. Klucz jest funkcją porządkującą.\n",
    "max((\"ab\", \"bc\", \"a\", \"abc\"), key=len)"
   ]
  },
  {
   "cell_type": "code",
   "execution_count": 92,
   "metadata": {},
   "outputs": [
    {
     "data": {
      "text/plain": [
       "'a'"
      ]
     },
     "execution_count": 92,
     "metadata": {},
     "output_type": "execute_result"
    }
   ],
   "source": [
    "# min(it, [key], [default])\n",
    "# Zwraca najmniejszy element z it. Klucz jest funkcją porządkującą.\n",
    "min((\"ab\", \"bc\", \"a\", \"abc\"), key=len)"
   ]
  },
  {
   "cell_type": "code",
   "execution_count": 106,
   "metadata": {},
   "outputs": [
    {
     "data": {
      "text/plain": [
       "0.08333333333333333"
      ]
     },
     "execution_count": 106,
     "metadata": {},
     "output_type": "execute_result"
    }
   ],
   "source": [
    "# reduce(func, it, [initial])\n",
    "# Zwraca wynik wywołań func na elementach it. Jeśli podano initial,\n",
    "# to jest on używany jako pierwszy argument func.\n",
    "functools.reduce(operator.truediv, range(1, 5), 2)"
   ]
  },
  {
   "cell_type": "code",
   "execution_count": 99,
   "metadata": {},
   "outputs": [
    {
     "data": {
      "text/plain": [
       "145"
      ]
     },
     "execution_count": 99,
     "metadata": {},
     "output_type": "execute_result"
    }
   ],
   "source": [
    "# sum(it, start=0)\n",
    "# Zwraca sumę elementów z it. Jeśli podano start, to jest on dodawany do sumy.\n",
    "sum(range(10), 100)"
   ]
  },
  {
   "cell_type": "markdown",
   "metadata": {},
   "source": [
    "### Podgeneratory wykorzystujące `yield from`"
   ]
  },
  {
   "cell_type": "code",
   "execution_count": 313,
   "metadata": {},
   "outputs": [
    {
     "name": "stdout",
     "output_type": "stream",
     "text": [
      "1\n",
      "1.1\n",
      "1.2\n",
      "2\n"
     ]
    }
   ],
   "source": [
    "def sub_gen():\n",
    "    yield 1.1\n",
    "    yield 1.2\n",
    "\n",
    "\n",
    "def gen():\n",
    "    yield 1\n",
    "    yield from sub_gen()\n",
    "    yield 2\n",
    "\n",
    "\n",
    "for x in gen():\n",
    "    print(x)"
   ]
  },
  {
   "cell_type": "markdown",
   "metadata": {},
   "source": [
    "Składnia wyrażenia `yield from` została wprowadzona w Pythonie 3.3, aby umożliwić delegowanie pracy przez generator do podgeneratora. Składnia `yield from` wstrzymuje działanie generatora `gen()` i wartości są produkowane z `sub_gen()` aż do wyczerpania. Następnie produkowane są wartości z `gen()`. Gdy podgenerator zawiera inttrukcję `return` z jakąś wartością, to może zostać ona przechwycona przez delegujący generator poprzez użycie `yield from` jako części wyrażenia."
   ]
  },
  {
   "cell_type": "code",
   "execution_count": 314,
   "metadata": {},
   "outputs": [
    {
     "name": "stdout",
     "output_type": "stream",
     "text": [
      "1\n",
      "1.1\n",
      "1.2\n",
      "Done!\n",
      "2\n"
     ]
    }
   ],
   "source": [
    "def sub_gen():\n",
    "    yield 1.1\n",
    "    yield 1.2\n",
    "    return \"Done!\"\n",
    "\n",
    "\n",
    "def gen():\n",
    "    yield 1\n",
    "    result = yield from sub_gen()\n",
    "    print(result)\n",
    "    yield 2\n",
    "\n",
    "\n",
    "for x in gen():\n",
    "    print(x)"
   ]
  },
  {
   "cell_type": "code",
   "execution_count": 317,
   "metadata": {},
   "outputs": [],
   "source": [
    "# Ponowne wynalezienie generatora chain.\n",
    "def my_chain(*iterables):\n",
    "    for it in iterables:\n",
    "        yield from it"
   ]
  },
  {
   "cell_type": "code",
   "execution_count": 318,
   "metadata": {},
   "outputs": [
    {
     "data": {
      "text/plain": [
       "['a', 'b', 'c', 0, 1]"
      ]
     },
     "execution_count": 318,
     "metadata": {},
     "output_type": "execute_result"
    }
   ],
   "source": [
    "list(my_chain(\"abc\", range(2)))"
   ]
  },
  {
   "cell_type": "markdown",
   "metadata": {},
   "source": [
    "### Przechodzenie przez drzewo"
   ]
  },
  {
   "cell_type": "code",
   "execution_count": 323,
   "metadata": {},
   "outputs": [
    {
     "name": "stdout",
     "output_type": "stream",
     "text": [
      "BaseException\n",
      "----BaseExceptionGroup\n",
      "--------ExceptionGroup\n",
      "----Exception\n",
      "--------ArithmeticError\n",
      "------------FloatingPointError\n",
      "------------OverflowError\n",
      "------------ZeroDivisionError\n",
      "----------------DivisionByZero\n",
      "----------------DivisionUndefined\n",
      "------------DecimalException\n",
      "----------------Clamped\n",
      "----------------Rounded\n",
      "--------------------Underflow\n",
      "--------------------Overflow\n",
      "----------------Inexact\n",
      "--------------------Underflow\n",
      "--------------------Overflow\n",
      "----------------Subnormal\n",
      "--------------------Underflow\n",
      "----------------DivisionByZero\n",
      "----------------FloatOperation\n",
      "----------------InvalidOperation\n",
      "--------------------ConversionSyntax\n",
      "--------------------DivisionImpossible\n",
      "--------------------DivisionUndefined\n",
      "--------------------InvalidContext\n",
      "--------AssertionError\n",
      "--------AttributeError\n",
      "------------FrozenInstanceError\n",
      "--------BufferError\n",
      "--------EOFError\n",
      "------------IncompleteReadError\n",
      "--------ImportError\n",
      "------------ModuleNotFoundError\n",
      "----------------PackageNotFoundError\n",
      "------------ZipImportError\n",
      "--------LookupError\n",
      "------------IndexError\n",
      "----------------AxisError\n",
      "------------KeyError\n",
      "----------------NoSuchKernel\n",
      "----------------UnknownBackend\n",
      "------------CodecRegistryError\n",
      "--------MemoryError\n",
      "------------MemoryError\n",
      "--------NameError\n",
      "------------UnboundLocalError\n",
      "--------OSError\n",
      "------------BlockingIOError\n",
      "------------ChildProcessError\n",
      "------------ConnectionError\n",
      "----------------BrokenPipeError\n",
      "----------------ConnectionAbortedError\n",
      "----------------ConnectionRefusedError\n",
      "----------------ConnectionResetError\n",
      "--------------------RemoteDisconnected\n",
      "------------FileExistsError\n",
      "------------FileNotFoundError\n",
      "------------InterruptedError\n",
      "----------------InterruptedSystemCall\n",
      "------------IsADirectoryError\n",
      "------------NotADirectoryError\n",
      "------------PermissionError\n",
      "------------ProcessLookupError\n",
      "------------TimeoutError\n",
      "------------UnsupportedOperation\n",
      "------------herror\n",
      "------------gaierror\n",
      "------------SSLError\n",
      "----------------SSLCertVerificationError\n",
      "----------------SSLZeroReturnError\n",
      "----------------SSLWantWriteError\n",
      "----------------SSLWantReadError\n",
      "----------------SSLSyscallError\n",
      "----------------SSLEOFError\n",
      "------------Error\n",
      "----------------SameFileError\n",
      "------------SpecialFileError\n",
      "------------ExecError\n",
      "------------ReadError\n",
      "------------URLError\n",
      "----------------HTTPError\n",
      "----------------ContentTooShortError\n",
      "------------BadGzipFile\n",
      "--------ReferenceError\n",
      "--------RuntimeError\n",
      "------------NotImplementedError\n",
      "----------------ZMQVersionError\n",
      "----------------StdinNotImplementedError\n",
      "------------RecursionError\n",
      "------------_DeadlockError\n",
      "------------BrokenBarrierError\n",
      "------------BrokenExecutor\n",
      "----------------BrokenThreadPool\n",
      "------------SendfileNotAvailableError\n",
      "------------BrokenBarrierError\n",
      "------------VariableError\n",
      "------------TooHardError\n",
      "--------StopAsyncIteration\n",
      "--------StopIteration\n",
      "--------SyntaxError\n",
      "------------IndentationError\n",
      "----------------TabError\n",
      "--------SystemError\n",
      "------------CodecRegistryError\n",
      "--------TypeError\n",
      "------------FloatOperation\n",
      "------------MultipartConversionError\n",
      "------------DTypePromotionError\n",
      "------------UFuncTypeError\n",
      "----------------UFuncTypeError\n",
      "--------------------UFuncTypeError\n",
      "----------------UFuncTypeError\n",
      "--------------------UFuncTypeError\n",
      "--------------------UFuncTypeError\n",
      "--------ValueError\n",
      "------------UnicodeError\n",
      "----------------UnicodeDecodeError\n",
      "----------------UnicodeEncodeError\n",
      "----------------UnicodeTranslateError\n",
      "------------UnsupportedOperation\n",
      "------------JSONDecodeError\n",
      "------------SSLCertVerificationError\n",
      "------------Error\n",
      "------------AddressValueError\n",
      "------------NetmaskValueError\n",
      "------------UnsupportedDigestmodError\n",
      "------------IllegalMonthError\n",
      "------------IllegalWeekdayError\n",
      "------------ParserError\n",
      "------------MessageDefect\n",
      "----------------NoBoundaryInMultipartDefect\n",
      "----------------StartBoundaryNotFoundDefect\n",
      "----------------CloseBoundaryNotFoundDefect\n",
      "----------------FirstHeaderLineIsContinuationDefect\n",
      "----------------MisplacedEnvelopeHeaderDefect\n",
      "----------------MissingHeaderBodySeparatorDefect\n",
      "----------------MultipartInvariantViolationDefect\n",
      "----------------InvalidMultipartContentTransferEncodingDefect\n",
      "----------------UndecodableBytesDefect\n",
      "----------------InvalidBase64PaddingDefect\n",
      "----------------InvalidBase64CharactersDefect\n",
      "----------------InvalidBase64LengthDefect\n",
      "----------------HeaderDefect\n",
      "--------------------InvalidHeaderDefect\n",
      "--------------------HeaderMissingRequiredValue\n",
      "--------------------NonPrintableDefect\n",
      "--------------------ObsoleteHeaderDefect\n",
      "--------------------NonASCIILocalPartDefect\n",
      "--------------------InvalidDateDefect\n",
      "------------ClassNotFound\n",
      "------------ClipboardEmpty\n",
      "------------MacroToEdit\n",
      "------------InvalidVersion\n",
      "------------AxisError\n",
      "------------LinAlgError\n",
      "--------Warning\n",
      "------------BytesWarning\n",
      "------------DeprecationWarning\n",
      "----------------ProvisionalWarning\n",
      "----------------ModuleDeprecationWarning\n",
      "------------EncodingWarning\n",
      "------------FutureWarning\n",
      "----------------ProvisionalCompleterWarning\n",
      "----------------MaskedArrayFutureWarning\n",
      "------------ImportWarning\n",
      "------------PendingDeprecationWarning\n",
      "------------ResourceWarning\n",
      "------------RuntimeWarning\n",
      "----------------ProactorSelectorThreadWarning\n",
      "----------------UnknownTimezoneWarning\n",
      "----------------ComplexWarning\n",
      "------------SyntaxWarning\n",
      "------------UnicodeWarning\n",
      "------------UserWarning\n",
      "----------------GetPassWarning\n",
      "----------------FormatterWarning\n",
      "----------------VisibleDeprecationWarning\n",
      "----------------RankWarning\n",
      "----------------ConversionWarning\n",
      "----------------RankWarning\n",
      "------------DeprecatedTzFormatWarning\n",
      "--------ExceptionGroup\n",
      "--------_OptionError\n",
      "--------_Error\n",
      "--------error\n",
      "--------Error\n",
      "--------SubprocessError\n",
      "------------CalledProcessError\n",
      "------------TimeoutExpired\n",
      "--------ZMQBaseError\n",
      "------------ZMQError\n",
      "----------------ContextTerminated\n",
      "----------------Again\n",
      "----------------InterruptedSystemCall\n",
      "------------ZMQBindError\n",
      "------------NotDone\n",
      "--------Error\n",
      "--------error\n",
      "--------PickleError\n",
      "------------PicklingError\n",
      "------------UnpicklingError\n",
      "--------_Stop\n",
      "--------TokenError\n",
      "--------StopTokenizing\n",
      "--------Error\n",
      "------------CancelledError\n",
      "------------InvalidStateError\n",
      "--------_GiveupOnSendfile\n",
      "--------Incomplete\n",
      "--------ClassFoundException\n",
      "--------EndOfBlock\n",
      "--------InvalidStateError\n",
      "--------LimitOverrunError\n",
      "--------QueueEmpty\n",
      "--------QueueFull\n",
      "--------error\n",
      "--------LZMAError\n",
      "--------RegistryError\n",
      "--------_GiveupOnFastCopy\n",
      "--------TraitError\n",
      "--------Empty\n",
      "--------Full\n",
      "--------ArgumentError\n",
      "--------COMError\n",
      "--------ReturnValueIgnoredError\n",
      "--------ArgumentError\n",
      "--------ArgumentTypeError\n",
      "--------ConfigError\n",
      "------------ConfigLoaderError\n",
      "----------------ArgumentError\n",
      "------------ConfigFileNotFound\n",
      "--------ConfigurableError\n",
      "------------MultipleInstanceError\n",
      "--------ApplicationError\n",
      "--------InvalidPortNumber\n",
      "--------NoIPAddresses\n",
      "--------Error\n",
      "--------BadZipFile\n",
      "--------LargeZipFile\n",
      "--------MessageError\n",
      "------------MessageParseError\n",
      "----------------HeaderParseError\n",
      "----------------BoundaryError\n",
      "------------MultipartConversionError\n",
      "------------CharsetError\n",
      "--------TraversalError\n",
      "--------DuplicateKernelError\n",
      "--------ErrorDuringImport\n",
      "--------NotOneValueFound\n",
      "--------KnownIssue\n",
      "--------VerifierFailure\n",
      "--------CannotEval\n",
      "--------OptionError\n",
      "--------BdbQuit\n",
      "--------Restart\n",
      "--------FindCmdError\n",
      "--------HomeDirError\n",
      "--------ProfileDirError\n",
      "--------IPythonCoreError\n",
      "------------TryNext\n",
      "------------UsageError\n",
      "------------StdinNotImplementedError\n",
      "--------InputRejected\n",
      "--------GetoptError\n",
      "--------ErrorToken\n",
      "--------PrefilterError\n",
      "--------AliasError\n",
      "------------InvalidAliasError\n",
      "--------Error\n",
      "------------InterfaceError\n",
      "------------DatabaseError\n",
      "----------------InternalError\n",
      "----------------OperationalError\n",
      "----------------ProgrammingError\n",
      "----------------IntegrityError\n",
      "----------------DataError\n",
      "----------------NotSupportedError\n",
      "--------Warning\n",
      "--------SpaceInInput\n",
      "--------DOMException\n",
      "------------IndexSizeErr\n",
      "------------DomstringSizeErr\n",
      "------------HierarchyRequestErr\n",
      "------------WrongDocumentErr\n",
      "------------InvalidCharacterErr\n",
      "------------NoDataAllowedErr\n",
      "------------NoModificationAllowedErr\n",
      "------------NotFoundErr\n",
      "------------NotSupportedErr\n",
      "------------InuseAttributeErr\n",
      "------------InvalidStateErr\n",
      "------------SyntaxErr\n",
      "------------InvalidModificationErr\n",
      "------------NamespaceErr\n",
      "------------InvalidAccessErr\n",
      "------------ValidationErr\n",
      "--------ValidationError\n",
      "--------EditReadOnlyBuffer\n",
      "--------_Retry\n",
      "--------InvalidLayoutError\n",
      "--------HeightIsUnknownError\n",
      "--------GuardRejection\n",
      "--------ParserSyntaxError\n",
      "--------InternalParseError\n",
      "--------_PositionUpdatingFinished\n",
      "--------SimpleGetItemNotFound\n",
      "--------UncaughtAttributeError\n",
      "--------HasNoContext\n",
      "--------ParamIssue\n",
      "--------_JediError\n",
      "------------InternalError\n",
      "------------WrongVersion\n",
      "------------RefactoringError\n",
      "--------OnErrorLeaf\n",
      "--------InvalidPythonEnvironment\n",
      "--------HTTPException\n",
      "------------NotConnected\n",
      "------------InvalidURL\n",
      "------------UnknownProtocol\n",
      "------------UnknownTransferEncoding\n",
      "------------UnimplementedFileMode\n",
      "------------IncompleteRead\n",
      "------------ImproperConnectionState\n",
      "----------------CannotSendRequest\n",
      "----------------CannotSendHeader\n",
      "----------------ResponseNotReady\n",
      "------------BadStatusLine\n",
      "----------------RemoteDisconnected\n",
      "------------LineTooLong\n",
      "--------InteractivelyDefined\n",
      "--------KillEmbedded\n",
      "--------Error\n",
      "------------NoSuchProcess\n",
      "----------------ZombieProcess\n",
      "------------AccessDenied\n",
      "------------TimeoutExpired\n",
      "--------Error\n",
      "--------TimeoutExpired\n",
      "--------TimeoutAbandoned\n",
      "--------KeyReuseError\n",
      "--------UnknownKeyError\n",
      "--------LeakedCallbackError\n",
      "--------BadYieldError\n",
      "--------ReturnValueIgnoredError\n",
      "--------Return\n",
      "--------QueueEmpty\n",
      "--------QueueFull\n",
      "--------DebuggerInitializationError\n",
      "--------ExpatError\n",
      "--------Error\n",
      "------------ProtocolError\n",
      "------------ResponseError\n",
      "------------Fault\n",
      "--------_Error\n",
      "--------UnableToResolveVariableException\n",
      "--------InvalidTypeInArgsException\n",
      "--------ConverterError\n",
      "------------ConverterLockError\n",
      "--------MAError\n",
      "------------MaskError\n",
      "----GeneratorExit\n",
      "----KeyboardInterrupt\n",
      "----SystemExit\n",
      "----CancelledError\n"
     ]
    }
   ],
   "source": [
    "def tree(cls, level=0):\n",
    "    yield cls.__name__, level\n",
    "    for sub_cls in cls.__subclasses__():\n",
    "        yield from tree(sub_cls, level + 1)\n",
    "\n",
    "\n",
    "def display(cls):\n",
    "    for name, level in tree(cls):\n",
    "        print(f\"{'-' * 4 * level}{name}\")\n",
    "        \n",
    "display(BaseException)"
   ]
  },
  {
   "cell_type": "code",
   "execution_count": null,
   "metadata": {},
   "outputs": [],
   "source": []
  }
 ],
 "metadata": {
  "kernelspec": {
   "display_name": "Python 3",
   "language": "python",
   "name": "python3"
  },
  "language_info": {
   "codemirror_mode": {
    "name": "ipython",
    "version": 3
   },
   "file_extension": ".py",
   "mimetype": "text/x-python",
   "name": "python",
   "nbconvert_exporter": "python",
   "pygments_lexer": "ipython3",
   "version": "3.12.1"
  }
 },
 "nbformat": 4,
 "nbformat_minor": 2
}
