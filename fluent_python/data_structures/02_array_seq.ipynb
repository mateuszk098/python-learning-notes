{
 "cells": [
  {
   "cell_type": "markdown",
   "metadata": {},
   "source": [
    "### **Przegląd Wbudowanych Sekwencji**"
   ]
  },
  {
   "cell_type": "markdown",
   "metadata": {},
   "source": [
    "Biblioteka standardowa oferuje bogaty wybór sekwencji zaimplementowanych w języku C:\n",
    "- Sekwencje kontenerowe - mogą przechowywać elementy różnych typów, włącznie z innymi kontenerami. Przykłady to `list`, `tuple` i `collections.deque`.\n",
    "- Sekwencje płaskie - przechowują elementy jednego typu. Przykłady to `str`, `bytes` i `array.array`.\n",
    "\n",
    "Sekwencje kontenerowe przechowują odwołania do zawartych w sobie obiektów, które mogą być dowolnego typu, natomiast sekwencje płaskie fizycznie przechowują wartości poszczególnych elementów we własnej przestrzeni pamięci, a nie jako oddzielne obiekty. Sekwencje płaskie są bardziej upakowane i ograniczone do przechowywania prymitywnych wartości, takich jak znaki, bajty i liczby.\n",
    "\n",
    "Każdy obiekt Pythona zawera w pamięci nagłówek z metadanymi. Najprostszy obiekt Pythona czyli `float`, ma pole wartości oraz dwa pola metadanych:\n",
    "- `ob_refcnt` - licznik referencji do obiektu,\n",
    "- `ob_type` - wskaźnik do typu obiektu,\n",
    "- `ob_fval` - liczba `double` języka C, przechowująca wartość."
   ]
  },
  {
   "cell_type": "markdown",
   "metadata": {},
   "source": [
    "Innym sposobem jest podział sekwencji na ich zmienność:\n",
    "- Sekwencje zmienne - przykładowo `list`, `bytearray`, `array.array` i `collections.deque`.\n",
    "- Sekwencje niezmienne - przykładowo `tuple`, `str`, `bytes`."
   ]
  },
  {
   "cell_type": "markdown",
   "metadata": {},
   "source": [
    "<p align=\"center\">\n",
    "  <img src=\"seq.png\"/>\n",
    "</p>"
   ]
  },
  {
   "cell_type": "markdown",
   "metadata": {},
   "source": [
    "Sekwencje zmienne implementują wszystkie metody sekwencji niezmiennych oraz dodają nowe. Konkretne wbudowane typy sekwencji nie są faktycznie podklasami ABC `Sequence` i `MutableSequence` ale są podklasami wirtualnymi zarejestrowanymi względem tych klas ABC."
   ]
  },
  {
   "cell_type": "markdown",
   "metadata": {},
   "source": [
    "### **Wyrażenia Listowe**"
   ]
  },
  {
   "cell_type": "markdown",
   "metadata": {},
   "source": [
    "Wyrażenia listowe mają tylko jedno zastosowanie: mają budować listy. Wynikowa lista porządkowana jest tak jakby pętle `for` były zagnieżdżone w tej samej kolejności, w jakiej występują w wyrażeniu listowym."
   ]
  },
  {
   "cell_type": "code",
   "execution_count": 84,
   "metadata": {},
   "outputs": [
    {
     "data": {
      "text/plain": [
       "['a1', 'a2', 'a3', 'b1', 'b2', 'b3', 'c1', 'c2', 'c3']"
      ]
     },
     "execution_count": 84,
     "metadata": {},
     "output_type": "execute_result"
    }
   ],
   "source": [
    "listcomp = [chr(i) + str(j) for i in range(97, 100) for j in range(1, 4)]\n",
    "listcomp"
   ]
  },
  {
   "cell_type": "markdown",
   "metadata": {},
   "source": [
    "Aby wypełnić inne typy sekwencji, należy użyć wyrażenia generatora. Oczywiście można użyć wyrażenia listowego ale wyrażenie generatora oszczędza pamięć, ponieważ generuje pojedyncze elementy przy użyciu protokołu iteratora. **Nie budujemy listy tylko po to aby załadować ją do innego konstruktora!**"
   ]
  },
  {
   "cell_type": "markdown",
   "metadata": {},
   "source": [
    "### **Wyrażenia Listowe - Zasięg Lokalny**"
   ]
  },
  {
   "cell_type": "markdown",
   "metadata": {},
   "source": [
    "Wyrażenia listowe, wyrażenia generatora i ich kuzyni, mają zasięg lokalny do przechowywania zmiennych przypisanych w klauzuli `for`."
   ]
  },
  {
   "cell_type": "code",
   "execution_count": 85,
   "metadata": {},
   "outputs": [],
   "source": [
    "x = \"ABC\"\n",
    "codes = [ord(x) for x in x]"
   ]
  },
  {
   "cell_type": "code",
   "execution_count": 86,
   "metadata": {},
   "outputs": [
    {
     "data": {
      "text/plain": [
       "'ABC'"
      ]
     },
     "execution_count": 86,
     "metadata": {},
     "output_type": "execute_result"
    }
   ],
   "source": [
    "x  # Zmienna x nie jest zmieniana"
   ]
  },
  {
   "cell_type": "code",
   "execution_count": 87,
   "metadata": {},
   "outputs": [
    {
     "data": {
      "text/plain": [
       "[65, 66, 67]"
      ]
     },
     "execution_count": 87,
     "metadata": {},
     "output_type": "execute_result"
    }
   ],
   "source": [
    "codes = [last := ord(c) for c in x]  # Przypisanie operatorem morsa (walrus operator)\n",
    "codes"
   ]
  },
  {
   "cell_type": "code",
   "execution_count": 88,
   "metadata": {},
   "outputs": [
    {
     "data": {
      "text/plain": [
       "67"
      ]
     },
     "execution_count": 88,
     "metadata": {},
     "output_type": "execute_result"
    }
   ],
   "source": [
    "last  # Zmienna last jest dostępna poza listą składaną"
   ]
  },
  {
   "cell_type": "markdown",
   "metadata": {},
   "source": [
    "### **Krotki**"
   ]
  },
  {
   "cell_type": "markdown",
   "metadata": {},
   "source": [
    "Interpreter Pythona i biblioteka standardowa szeroko wykorzystują krotki jako niezmienne listy. Zapewnia to dwie kluczowe korzyści:\n",
    "- Przejrzystość - gdy widzimy w kodzie krotkę, wiemy, że jej długość się nigdy nie zmieni.\n",
    "- Wydajność - krotka zajmuje mniej pamięci niż lista o tej samej długości, co pozwala dokonać Pythonowi optymalizacji.\n",
    "\n",
    "**Niezmienność krotki dotyczy tylko referencji, które zawiera.** Odnośników znajdujących się w krotce nie można usunąć ani zastąpić. Jeśli jednak któraś z tych referencji wskazuje modyfikowalny obiekt i ten obiekt zostanie zmieniony to wartość krotki również się zmieni.\n",
    "\n",
    "Wydajność krotek:\n",
    "- Dla danej krotki `x`, `tuple(x)` po prostu zwraca referencję do samego `x`. Nie ma potrzeby kopiowania. Dla kontrastu gdy mamy listę `x`, konstruktor `list(x)` utworzy nową kopię `x`.\n",
    "- Dzięki ustalonej długości instancja krotki ma alokowane dokładnie tyle miejsca ile potrzebuje. Natomiast instancje list są alokowane z zapasowym miejscem.\n",
    "- Referencje do elementów w krotce są przechowywane w tablicy w strukturze krotki, podczas gdy lista utrzymuje wskaźnik do tablicy referencji przechowywanej w innym miejscu. "
   ]
  },
  {
   "cell_type": "markdown",
   "metadata": {},
   "source": [
    "### **Dopasowywanie Wzorców**"
   ]
  },
  {
   "cell_type": "markdown",
   "metadata": {},
   "source": [
    "Dopasowywanie wzorców jest dostępne w Pythonie od wersji 3.10. Na pierwszy rzut oka `match/case` może wyglądać podobnie do instrukcji `switch/case` z języków C/C++. Jednakże jednym z kluczowych ulepszeń `match` jest destrukturyzacja - bardziej zaawansowana forma rozpakowywania. "
   ]
  },
  {
   "cell_type": "code",
   "execution_count": 89,
   "metadata": {},
   "outputs": [],
   "source": [
    "def handle_command(message):\n",
    "    # Wyrażenie po słowie kluczowym match to temat, dane które Python\n",
    "    # próbuje dopasować do wzorców w każdej klauzuli case.\n",
    "    match message:\n",
    "        # Ten wzorzec pasuje do każdego tematu, który jest sekwencją 3 elementów.\n",
    "        # Pierwszym elementem musi być łańcuch \"BEEPER\". Drugim i trzecim elementem\n",
    "        # może być cokolwiek i zostanie to przypisane do zmiennych frequency i times\n",
    "        # w takiej właśnie kolejności.\n",
    "        case [\"BEEPER\", frequency, times]:\n",
    "            print(f\"Beeping {times} times at {frequency} Hz\")\n",
    "        # Ten wzorzec pasuje do każdego tematu, który jest sekwencją 2 elementów.\n",
    "        # Pierwszym elementem musi być łańcuch \"NECK\". Drugim elementem może być\n",
    "        # cokolwiek i zostanie to przypisane do zmiennej angle.\n",
    "        case [\"NECK\", angle]:\n",
    "            print(f\"Moving neck to {angle} degrees\")\n",
    "        # To pasuje do każdego tematu, który jest sekwencją 3 elementów, gdzie\n",
    "        # pierwszym elementem jest łańcuch \"LED\". Jeśli liczba elementów nie pasuje\n",
    "        # to Python przejdzie do kolejnego wzorca.\n",
    "        case [\"LED\", ident, intensity]:\n",
    "            print(f\"Setting LED {ident} to {intensity}\")\n",
    "        # Kolejny wzorzec dla \"LED\", ale tym razem oczekujemy 5 elementów.\n",
    "        case [\"LED\", ident, red, green, blue]:\n",
    "            print(f\"Setting LED {ident} to RGB({red}, {green}, {blue})\")\n",
    "        # Domyślny przypadek, zostanie dopasowany do dowolnego tematu, który nie pasuje\n",
    "        # do żadnego z powyższych wzorców.\n",
    "        case _:\n",
    "            print(\"Unknown command\")"
   ]
  },
  {
   "cell_type": "code",
   "execution_count": 90,
   "metadata": {},
   "outputs": [
    {
     "name": "stdout",
     "output_type": "stream",
     "text": [
      "Beeping 3 times at 440 Hz\n"
     ]
    }
   ],
   "source": [
    "handle_command([\"BEEPER\", 440, 3])"
   ]
  },
  {
   "cell_type": "code",
   "execution_count": 91,
   "metadata": {},
   "outputs": [
    {
     "name": "stdout",
     "output_type": "stream",
     "text": [
      "Moving neck to 90 degrees\n"
     ]
    }
   ],
   "source": [
    "handle_command([\"NECK\", 90])"
   ]
  },
  {
   "cell_type": "code",
   "execution_count": 92,
   "metadata": {},
   "outputs": [
    {
     "name": "stdout",
     "output_type": "stream",
     "text": [
      "Setting LED 1 to 255\n"
     ]
    }
   ],
   "source": [
    "handle_command([\"LED\", 1, 255])"
   ]
  },
  {
   "cell_type": "code",
   "execution_count": 93,
   "metadata": {},
   "outputs": [
    {
     "name": "stdout",
     "output_type": "stream",
     "text": [
      "Setting LED 1 to RGB(195, 24, 254)\n"
     ]
    }
   ],
   "source": [
    "handle_command([\"LED\", 1, 195, 24, 254])"
   ]
  },
  {
   "cell_type": "code",
   "execution_count": 94,
   "metadata": {},
   "outputs": [
    {
     "name": "stdout",
     "output_type": "stream",
     "text": [
      "Unknown command\n"
     ]
    }
   ],
   "source": [
    "handle_command([\"INVALID\", \"COMMAND\"])"
   ]
  },
  {
   "cell_type": "code",
   "execution_count": 95,
   "metadata": {},
   "outputs": [
    {
     "name": "stdout",
     "output_type": "stream",
     "text": [
      "                |   lat.    |   lon.   \n",
      "Mexico City     |   19.4333 |  -99.1333\n",
      "New York-Newark |   40.8086 |  -74.0204\n",
      "Sao Paulo       |  -23.5478 |  -46.6358\n"
     ]
    }
   ],
   "source": [
    "metro_areas = [\n",
    "    (\"Tokyo\", \"JP\", 36.933, (35.689722, 139.691667)),\n",
    "    (\"Delhi NCR\", \"IN\", 21.935, (28.613889, 77.208889)),\n",
    "    (\"Mexico City\", \"MX\", 20.142, (19.433333, -99.133333)),\n",
    "    (\"New York-Newark\", \"US\", 20.104, (40.808611, -74.020386)),\n",
    "    (\"Sao Paulo\", \"BR\", 19.649, (-23.547778, -46.635833)),\n",
    "]\n",
    "\n",
    "\n",
    "def display(metro_areas):\n",
    "    print(f\"{'':15} | {'lat.':^9} | {'lon.':^9}\")\n",
    "    for record in metro_areas:\n",
    "        match record:\n",
    "            # Ten wzorzec pasuje do każdego tematu, który jest sekwencją 4 elementów,\n",
    "            # przy czym ostatni element musi być sekwencją 2 elementów.\n",
    "            # Ta klauzula ma dwie części: wzorzec i strażnik. Strażnik to warunek\n",
    "            # logiczny, który musi być spełniony jeśli wzorzec pasuje.\n",
    "            # Symbol _ ma specjalne znaczenie - dopasowuje dowolny pojedynczy\n",
    "            # element na tej pozycji ale nigdy nie jest wiązany z wartością elementu.\n",
    "            # Ponadto może pojawiać się we wzorcu więcej niż raz.\n",
    "            case [name, _, _, (lat, lon)] if lon <= 0:\n",
    "                print(f\"{name:15} | {lat:9.4f} | {lon:9.4f}\")\n",
    "\n",
    "            # Można powiązać dowolną część wzorca ze zmienną za pomocą słowa kluczowego as.\n",
    "            # case [name, _, _, (lat, lon) as coords] if lon <= 0:\n",
    "            #     pass\n",
    "\n",
    "            # Wzorce można uczynić bardziej szczegółowymi, dodając informacje o typie.\n",
    "            # W kontekście wzorca, składnia ta wykonuje sprawdzenie typu w czasie wykonania.\n",
    "            # case [str(name), _, _, (float(lat), float(lon))] if lon <= 0:\n",
    "            #     pass\n",
    "\n",
    "\n",
    "display(metro_areas)"
   ]
  },
  {
   "cell_type": "markdown",
   "metadata": {},
   "source": [
    "Wzorzec sekwencji może pasować do wystąpień większości rzeczywistych lub wirtualnych podklas `collections.abc.Sequence` z wyjątkiem `str`, `bytes` i `bytearray`. Te ostatnie nie są obsługiwane w kontekście `match/case`. Temat `match` jest jednym z tych typów, które są traktowane jako wartość atomowa. Podobnie jak liczba 123 jest traktowana jako jedna wartość a nie sekwencja cyfr."
   ]
  },
  {
   "cell_type": "markdown",
   "metadata": {},
   "source": [
    "### **Budowanie Listy List**"
   ]
  },
  {
   "cell_type": "code",
   "execution_count": 96,
   "metadata": {},
   "outputs": [
    {
     "data": {
      "text/plain": [
       "[['X', '_', '_'], ['_', '_', '_'], ['_', '_', '_']]"
      ]
     },
     "execution_count": 96,
     "metadata": {},
     "output_type": "execute_result"
    }
   ],
   "source": [
    "board = [[\"_\"] * 3 for _ in range(3)]\n",
    "board[0][0] = \"X\"\n",
    "board"
   ]
  },
  {
   "cell_type": "code",
   "execution_count": 97,
   "metadata": {},
   "outputs": [],
   "source": [
    "# Poniższy kod jest tożsamy z powyższym.\n",
    "board = []\n",
    "for _ in range(3):\n",
    "    row = [\"_\"] * 3\n",
    "    board.append(row)"
   ]
  },
  {
   "cell_type": "code",
   "execution_count": 98,
   "metadata": {},
   "outputs": [
    {
     "data": {
      "text/plain": [
       "[['X', '_', '_'], ['X', '_', '_'], ['X', '_', '_']]"
      ]
     },
     "execution_count": 98,
     "metadata": {},
     "output_type": "execute_result"
    }
   ],
   "source": [
    "# To tworzy listę trzech referencji do tego samego obiektu listy.\n",
    "board = [[\"_\"] * 3] * 3\n",
    "board[0][0] = \"X\"\n",
    "board"
   ]
  },
  {
   "cell_type": "code",
   "execution_count": 99,
   "metadata": {},
   "outputs": [],
   "source": [
    "# Poniższy kod jest tożsamy z powyższym.\n",
    "board = []\n",
    "row = [\"_\"] * 3\n",
    "for _ in range(3):\n",
    "    board.append(row)"
   ]
  },
  {
   "cell_type": "markdown",
   "metadata": {},
   "source": [
    "### **Niezmienność Krotek**"
   ]
  },
  {
   "cell_type": "code",
   "execution_count": 104,
   "metadata": {},
   "outputs": [
    {
     "name": "stdout",
     "output_type": "stream",
     "text": [
      "'tuple' object does not support item assignment\n"
     ]
    },
    {
     "data": {
      "text/plain": [
       "(1, 2, [3, 4, 5, 6])"
      ]
     },
     "execution_count": 104,
     "metadata": {},
     "output_type": "execute_result"
    }
   ],
   "source": [
    "x = (1, 2, [3, 4])\n",
    "\n",
    "try:\n",
    "    x[2] += [5, 6]\n",
    "except TypeError as e:\n",
    "    print(e)\n",
    "\n",
    "x"
   ]
  },
  {
   "cell_type": "markdown",
   "metadata": {},
   "source": [
    "### **Widoki Pamięci**"
   ]
  },
  {
   "cell_type": "markdown",
   "metadata": {},
   "source": [
    "Wbudowana klasa `memoryview` (widok pamięci) jest typem sekwencji obejmującym współdzieloną pamięć, która pozwala obsługiwać wycinki tablic bez kopiowania bajtów. Została zainspirowana biblioteką NumPy. "
   ]
  },
  {
   "cell_type": "code",
   "execution_count": 108,
   "metadata": {},
   "outputs": [
    {
     "data": {
      "text/plain": [
       "array('b', [0, 1, 2, 3, 4, 5])"
      ]
     },
     "execution_count": 108,
     "metadata": {},
     "output_type": "execute_result"
    }
   ],
   "source": [
    "from array import array\n",
    "\n",
    "x = array(\"b\", range(6))\n",
    "x"
   ]
  },
  {
   "cell_type": "code",
   "execution_count": 110,
   "metadata": {},
   "outputs": [
    {
     "data": {
      "text/plain": [
       "[0, 1, 2, 3, 4, 5]"
      ]
     },
     "execution_count": 110,
     "metadata": {},
     "output_type": "execute_result"
    }
   ],
   "source": [
    "m1 = memoryview(x)\n",
    "m1.tolist()"
   ]
  },
  {
   "cell_type": "code",
   "execution_count": 111,
   "metadata": {},
   "outputs": [
    {
     "data": {
      "text/plain": [
       "[[0, 1, 2], [3, 4, 5]]"
      ]
     },
     "execution_count": 111,
     "metadata": {},
     "output_type": "execute_result"
    }
   ],
   "source": [
    "m2 = m1.cast(\"b\", shape=[2, 3])\n",
    "m2.tolist()"
   ]
  },
  {
   "cell_type": "code",
   "execution_count": 113,
   "metadata": {},
   "outputs": [
    {
     "data": {
      "text/plain": [
       "array('b', [0, 1, 2, 3, -1, 5])"
      ]
     },
     "execution_count": 113,
     "metadata": {},
     "output_type": "execute_result"
    }
   ],
   "source": [
    "m2[1, 1] = -1\n",
    "x"
   ]
  },
  {
   "cell_type": "code",
   "execution_count": 116,
   "metadata": {},
   "outputs": [
    {
     "data": {
      "text/plain": [
       "array('b', [1, 2, 3, 4, -100, 6])"
      ]
     },
     "execution_count": 116,
     "metadata": {},
     "output_type": "execute_result"
    }
   ],
   "source": [
    "arr = array(\"b\", [1, 2, 3, 4, 5, 6])\n",
    "memoryview(arr).cast(\"b\", [2, 3])[1, 1] = -100\n",
    "arr"
   ]
  }
 ],
 "metadata": {
  "kernelspec": {
   "display_name": "Python 3",
   "language": "python",
   "name": "python3"
  },
  "language_info": {
   "codemirror_mode": {
    "name": "ipython",
    "version": 3
   },
   "file_extension": ".py",
   "mimetype": "text/x-python",
   "name": "python",
   "nbconvert_exporter": "python",
   "pygments_lexer": "ipython3",
   "version": "3.12.1"
  }
 },
 "nbformat": 4,
 "nbformat_minor": 2
}
